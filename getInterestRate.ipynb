{
 "cells": [
  {
   "cell_type": "code",
   "execution_count": 3,
   "id": "initial_id",
   "metadata": {
    "ExecuteTime": {
     "end_time": "2024-07-17T11:26:27.495912Z",
     "start_time": "2024-07-17T11:26:20.612041Z"
    }
   },
   "outputs": [],
   "source": [
    "import numpy as np\n",
    "import pandas as pd\n",
    "import matplotlib.pyplot as plt"
   ]
  },
  {
   "cell_type": "markdown",
   "id": "cc4abba6-9adc-417c-a7e1-6df99ea439a8",
   "metadata": {},
   "source": [
    "### 1. Prepare Data"
   ]
  },
  {
   "cell_type": "code",
   "execution_count": 5,
   "id": "645c9f82475f4074",
   "metadata": {
    "ExecuteTime": {
     "end_time": "2024-07-17T11:29:10.497408Z",
     "start_time": "2024-07-17T11:26:44.064952Z"
    }
   },
   "outputs": [],
   "source": [
    "raw_data = pd.read_csv('data.csv')"
   ]
  },
  {
   "cell_type": "code",
   "execution_count": 123,
   "id": "52d2a0ebf0ab7b52",
   "metadata": {
    "ExecuteTime": {
     "end_time": "2024-07-17T12:41:32.994192Z",
     "start_time": "2024-07-17T12:41:32.884172Z"
    }
   },
   "outputs": [
    {
     "data": {
      "text/html": [
       "<div>\n",
       "<style scoped>\n",
       "    .dataframe tbody tr th:only-of-type {\n",
       "        vertical-align: middle;\n",
       "    }\n",
       "\n",
       "    .dataframe tbody tr th {\n",
       "        vertical-align: top;\n",
       "    }\n",
       "\n",
       "    .dataframe thead th {\n",
       "        text-align: right;\n",
       "    }\n",
       "</style>\n",
       "<table border=\"1\" class=\"dataframe\">\n",
       "  <thead>\n",
       "    <tr style=\"text-align: right;\">\n",
       "      <th></th>\n",
       "      <th>date</th>\n",
       "      <th>symbol</th>\n",
       "      <th>exdate</th>\n",
       "      <th>last_date</th>\n",
       "      <th>cp_flag</th>\n",
       "      <th>strike_price</th>\n",
       "      <th>best_bid</th>\n",
       "      <th>best_offer</th>\n",
       "      <th>volume</th>\n",
       "      <th>impl_volatility</th>\n",
       "      <th>optionid</th>\n",
       "      <th>forward_price</th>\n",
       "      <th>ticker</th>\n",
       "      <th>index_flag</th>\n",
       "      <th>issuer</th>\n",
       "      <th>exercise_style</th>\n",
       "    </tr>\n",
       "  </thead>\n",
       "  <tbody>\n",
       "    <tr>\n",
       "      <th>0</th>\n",
       "      <td>2018-01-02</td>\n",
       "      <td>AMZN 180105C1000000</td>\n",
       "      <td>2018-01-05</td>\n",
       "      <td>2017-12-29</td>\n",
       "      <td>C</td>\n",
       "      <td>1000000</td>\n",
       "      <td>189.35</td>\n",
       "      <td>190.6</td>\n",
       "      <td>0</td>\n",
       "      <td>0.962943</td>\n",
       "      <td>118189007</td>\n",
       "      <td>NaN</td>\n",
       "      <td>AMZN</td>\n",
       "      <td>0</td>\n",
       "      <td>AMAZON.COM INC.</td>\n",
       "      <td>A</td>\n",
       "    </tr>\n",
       "    <tr>\n",
       "      <th>1</th>\n",
       "      <td>2018-01-02</td>\n",
       "      <td>AMZN 180105C1002500</td>\n",
       "      <td>2018-01-05</td>\n",
       "      <td>NaN</td>\n",
       "      <td>C</td>\n",
       "      <td>1002500</td>\n",
       "      <td>186.85</td>\n",
       "      <td>188.1</td>\n",
       "      <td>0</td>\n",
       "      <td>0.951017</td>\n",
       "      <td>118541021</td>\n",
       "      <td>NaN</td>\n",
       "      <td>AMZN</td>\n",
       "      <td>0</td>\n",
       "      <td>AMAZON.COM INC.</td>\n",
       "      <td>A</td>\n",
       "    </tr>\n",
       "    <tr>\n",
       "      <th>2</th>\n",
       "      <td>2018-01-02</td>\n",
       "      <td>AMZN 180105C1005000</td>\n",
       "      <td>2018-01-05</td>\n",
       "      <td>NaN</td>\n",
       "      <td>C</td>\n",
       "      <td>1005000</td>\n",
       "      <td>184.35</td>\n",
       "      <td>185.6</td>\n",
       "      <td>0</td>\n",
       "      <td>0.939104</td>\n",
       "      <td>118541022</td>\n",
       "      <td>NaN</td>\n",
       "      <td>AMZN</td>\n",
       "      <td>0</td>\n",
       "      <td>AMAZON.COM INC.</td>\n",
       "      <td>A</td>\n",
       "    </tr>\n",
       "  </tbody>\n",
       "</table>\n",
       "</div>"
      ],
      "text/plain": [
       "         date               symbol      exdate   last_date cp_flag  \\\n",
       "0  2018-01-02  AMZN 180105C1000000  2018-01-05  2017-12-29       C   \n",
       "1  2018-01-02  AMZN 180105C1002500  2018-01-05         NaN       C   \n",
       "2  2018-01-02  AMZN 180105C1005000  2018-01-05         NaN       C   \n",
       "\n",
       "   strike_price  best_bid  best_offer  volume  impl_volatility   optionid  \\\n",
       "0       1000000    189.35       190.6       0         0.962943  118189007   \n",
       "1       1002500    186.85       188.1       0         0.951017  118541021   \n",
       "2       1005000    184.35       185.6       0         0.939104  118541022   \n",
       "\n",
       "   forward_price ticker  index_flag           issuer exercise_style  \n",
       "0            NaN   AMZN           0  AMAZON.COM INC.              A  \n",
       "1            NaN   AMZN           0  AMAZON.COM INC.              A  \n",
       "2            NaN   AMZN           0  AMAZON.COM INC.              A  "
      ]
     },
     "execution_count": 123,
     "metadata": {},
     "output_type": "execute_result"
    }
   ],
   "source": [
    "raw_data.head(3)"
   ]
  },
  {
   "cell_type": "code",
   "execution_count": 6,
   "id": "48cbe544-09c0-450b-8162-101309acd080",
   "metadata": {
    "ExecuteTime": {
     "end_time": "2024-07-17T11:29:22.138799Z",
     "start_time": "2024-07-17T11:29:21.049905Z"
    }
   },
   "outputs": [
    {
     "data": {
      "text/plain": [
       "array(['A'], dtype=object)"
      ]
     },
     "execution_count": 6,
     "metadata": {},
     "output_type": "execute_result"
    }
   ],
   "source": [
    "raw_data['exercise_style'].unique()"
   ]
  },
  {
   "cell_type": "code",
   "execution_count": 13,
   "id": "43f3c298-6f20-45e7-93a4-e52de67572f6",
   "metadata": {
    "ExecuteTime": {
     "end_time": "2024-07-17T11:33:24.571610Z",
     "start_time": "2024-07-17T11:32:26.584802Z"
    }
   },
   "outputs": [],
   "source": [
    "df = raw_data[['ticker','date','exdate','cp_flag','volume','strike_price','best_bid','best_offer']].copy()\n",
    "df['date'] = pd.to_datetime(raw_data['date'])\n",
    "df['exdate'] = pd.to_datetime(raw_data['exdate'])\n",
    "df['strike_price'] = raw_data['strike_price']/1000 # scaling strike\n",
    "df['option_price'] = raw_data[['best_bid','best_offer']].mean(axis=1)\n",
    "df = df.drop(columns = ['best_bid','best_offer'])"
   ]
  },
  {
   "cell_type": "code",
   "execution_count": 15,
   "id": "dc340b7b-ee13-424e-9186-15a5d6a10e56",
   "metadata": {
    "ExecuteTime": {
     "end_time": "2024-07-17T11:34:47.906233Z",
     "start_time": "2024-07-17T11:34:47.857306Z"
    }
   },
   "outputs": [
    {
     "data": {
      "text/html": [
       "<div>\n",
       "<style scoped>\n",
       "    .dataframe tbody tr th:only-of-type {\n",
       "        vertical-align: middle;\n",
       "    }\n",
       "\n",
       "    .dataframe tbody tr th {\n",
       "        vertical-align: top;\n",
       "    }\n",
       "\n",
       "    .dataframe thead th {\n",
       "        text-align: right;\n",
       "    }\n",
       "</style>\n",
       "<table border=\"1\" class=\"dataframe\">\n",
       "  <thead>\n",
       "    <tr style=\"text-align: right;\">\n",
       "      <th></th>\n",
       "      <th>ticker</th>\n",
       "      <th>date</th>\n",
       "      <th>exdate</th>\n",
       "      <th>cp_flag</th>\n",
       "      <th>volume</th>\n",
       "      <th>strike_price</th>\n",
       "      <th>option_price</th>\n",
       "    </tr>\n",
       "  </thead>\n",
       "  <tbody>\n",
       "    <tr>\n",
       "      <th>0</th>\n",
       "      <td>AMZN</td>\n",
       "      <td>2018-01-02</td>\n",
       "      <td>2018-01-05</td>\n",
       "      <td>C</td>\n",
       "      <td>0</td>\n",
       "      <td>1000.0</td>\n",
       "      <td>189.975</td>\n",
       "    </tr>\n",
       "    <tr>\n",
       "      <th>1</th>\n",
       "      <td>AMZN</td>\n",
       "      <td>2018-01-02</td>\n",
       "      <td>2018-01-05</td>\n",
       "      <td>C</td>\n",
       "      <td>0</td>\n",
       "      <td>1002.5</td>\n",
       "      <td>187.475</td>\n",
       "    </tr>\n",
       "    <tr>\n",
       "      <th>2</th>\n",
       "      <td>AMZN</td>\n",
       "      <td>2018-01-02</td>\n",
       "      <td>2018-01-05</td>\n",
       "      <td>C</td>\n",
       "      <td>0</td>\n",
       "      <td>1005.0</td>\n",
       "      <td>184.975</td>\n",
       "    </tr>\n",
       "  </tbody>\n",
       "</table>\n",
       "</div>"
      ],
      "text/plain": [
       "  ticker       date     exdate cp_flag  volume  strike_price  option_price\n",
       "0   AMZN 2018-01-02 2018-01-05       C       0        1000.0       189.975\n",
       "1   AMZN 2018-01-02 2018-01-05       C       0        1002.5       187.475\n",
       "2   AMZN 2018-01-02 2018-01-05       C       0        1005.0       184.975"
      ]
     },
     "execution_count": 15,
     "metadata": {},
     "output_type": "execute_result"
    }
   ],
   "source": [
    "df.head(3)"
   ]
  },
  {
   "cell_type": "code",
   "execution_count": 17,
   "id": "06ad377c-f425-4f6b-a768-123a6950aa84",
   "metadata": {
    "ExecuteTime": {
     "end_time": "2024-07-17T11:35:38.150749Z",
     "start_time": "2024-07-17T11:35:37.570883Z"
    }
   },
   "outputs": [
    {
     "data": {
      "text/plain": [
       "array(['AMZN', 'JPM', 'JNJ', 'MSFT', 'PG', 'WMT', 'GOOGL', 'V', 'TSLA'],\n",
       "      dtype=object)"
      ]
     },
     "execution_count": 17,
     "metadata": {},
     "output_type": "execute_result"
    }
   ],
   "source": [
    "tickers = df['ticker'].unique()\n",
    "tickers"
   ]
  },
  {
   "cell_type": "code",
   "execution_count": 18,
   "id": "f4ddcf2d-49d0-493b-9e7c-322dfeccb831",
   "metadata": {
    "ExecuteTime": {
     "end_time": "2024-07-17T11:35:40.704869Z",
     "start_time": "2024-07-17T11:35:40.421820Z"
    }
   },
   "outputs": [
    {
     "data": {
      "text/plain": [
       "<DatetimeArray>\n",
       "['2018-01-02 00:00:00', '2018-01-03 00:00:00', '2018-01-04 00:00:00',\n",
       " '2018-01-05 00:00:00', '2018-01-08 00:00:00', '2018-01-09 00:00:00',\n",
       " '2018-01-10 00:00:00', '2018-01-11 00:00:00', '2018-01-12 00:00:00',\n",
       " '2018-01-16 00:00:00',\n",
       " ...\n",
       " '2022-12-16 00:00:00', '2022-12-19 00:00:00', '2022-12-20 00:00:00',\n",
       " '2022-12-21 00:00:00', '2022-12-22 00:00:00', '2022-12-23 00:00:00',\n",
       " '2022-12-27 00:00:00', '2022-12-28 00:00:00', '2022-12-29 00:00:00',\n",
       " '2022-12-30 00:00:00']\n",
       "Length: 1259, dtype: datetime64[ns]"
      ]
     },
     "execution_count": 18,
     "metadata": {},
     "output_type": "execute_result"
    }
   ],
   "source": [
    "t0 = df['date'].unique()\n",
    "t0"
   ]
  },
  {
   "cell_type": "markdown",
   "id": "16b397f9-2aeb-4250-a780-f8bdc3b0670a",
   "metadata": {},
   "source": [
    "### 2. Combine put and call with same ticker, date, exdate, strike price"
   ]
  },
  {
   "cell_type": "code",
   "execution_count": 19,
   "id": "35b76d94-63ce-4330-9fbe-1c243ee01c1a",
   "metadata": {
    "ExecuteTime": {
     "end_time": "2024-07-17T11:36:04.666511Z",
     "start_time": "2024-07-17T11:35:47.644429Z"
    }
   },
   "outputs": [],
   "source": [
    "call_df = df[df['cp_flag']=='C'].reset_index(drop=True)\n",
    "put_df = df[df['cp_flag']=='P'].reset_index(drop=True)"
   ]
  },
  {
   "cell_type": "code",
   "execution_count": 20,
   "id": "e4f14718-bef9-4e0d-b584-19b5f5cad39e",
   "metadata": {
    "ExecuteTime": {
     "end_time": "2024-07-17T11:36:40.356437Z",
     "start_time": "2024-07-17T11:36:09.001289Z"
    }
   },
   "outputs": [
    {
     "data": {
      "text/html": [
       "<div>\n",
       "<style scoped>\n",
       "    .dataframe tbody tr th:only-of-type {\n",
       "        vertical-align: middle;\n",
       "    }\n",
       "\n",
       "    .dataframe tbody tr th {\n",
       "        vertical-align: top;\n",
       "    }\n",
       "\n",
       "    .dataframe thead th {\n",
       "        text-align: right;\n",
       "    }\n",
       "</style>\n",
       "<table border=\"1\" class=\"dataframe\">\n",
       "  <thead>\n",
       "    <tr style=\"text-align: right;\">\n",
       "      <th></th>\n",
       "      <th>ticker</th>\n",
       "      <th>date</th>\n",
       "      <th>exdate</th>\n",
       "      <th>volume_c</th>\n",
       "      <th>strike_price</th>\n",
       "      <th>option_price_c</th>\n",
       "      <th>volume_p</th>\n",
       "      <th>option_price_p</th>\n",
       "    </tr>\n",
       "  </thead>\n",
       "  <tbody>\n",
       "    <tr>\n",
       "      <th>0</th>\n",
       "      <td>AMZN</td>\n",
       "      <td>2018-01-02</td>\n",
       "      <td>2018-01-05</td>\n",
       "      <td>0</td>\n",
       "      <td>1000.0</td>\n",
       "      <td>189.975</td>\n",
       "      <td>8.0</td>\n",
       "      <td>0.025</td>\n",
       "    </tr>\n",
       "    <tr>\n",
       "      <th>1</th>\n",
       "      <td>AMZN</td>\n",
       "      <td>2018-01-02</td>\n",
       "      <td>2018-01-05</td>\n",
       "      <td>0</td>\n",
       "      <td>1002.5</td>\n",
       "      <td>187.475</td>\n",
       "      <td>0.0</td>\n",
       "      <td>0.080</td>\n",
       "    </tr>\n",
       "    <tr>\n",
       "      <th>2</th>\n",
       "      <td>AMZN</td>\n",
       "      <td>2018-01-02</td>\n",
       "      <td>2018-01-05</td>\n",
       "      <td>0</td>\n",
       "      <td>1005.0</td>\n",
       "      <td>184.975</td>\n",
       "      <td>0.0</td>\n",
       "      <td>0.050</td>\n",
       "    </tr>\n",
       "    <tr>\n",
       "      <th>3</th>\n",
       "      <td>AMZN</td>\n",
       "      <td>2018-01-02</td>\n",
       "      <td>2018-01-05</td>\n",
       "      <td>0</td>\n",
       "      <td>1007.5</td>\n",
       "      <td>182.475</td>\n",
       "      <td>0.0</td>\n",
       "      <td>0.085</td>\n",
       "    </tr>\n",
       "    <tr>\n",
       "      <th>4</th>\n",
       "      <td>AMZN</td>\n",
       "      <td>2018-01-02</td>\n",
       "      <td>2018-01-05</td>\n",
       "      <td>0</td>\n",
       "      <td>1010.0</td>\n",
       "      <td>179.975</td>\n",
       "      <td>3.0</td>\n",
       "      <td>0.080</td>\n",
       "    </tr>\n",
       "    <tr>\n",
       "      <th>...</th>\n",
       "      <td>...</td>\n",
       "      <td>...</td>\n",
       "      <td>...</td>\n",
       "      <td>...</td>\n",
       "      <td>...</td>\n",
       "      <td>...</td>\n",
       "      <td>...</td>\n",
       "      <td>...</td>\n",
       "    </tr>\n",
       "    <tr>\n",
       "      <th>13328412</th>\n",
       "      <td>TSLA</td>\n",
       "      <td>2022-12-30</td>\n",
       "      <td>2025-01-17</td>\n",
       "      <td>5</td>\n",
       "      <td>75.0</td>\n",
       "      <td>71.050</td>\n",
       "      <td>609.0</td>\n",
       "      <td>15.550</td>\n",
       "    </tr>\n",
       "    <tr>\n",
       "      <th>13328413</th>\n",
       "      <td>TSLA</td>\n",
       "      <td>2022-12-30</td>\n",
       "      <td>2025-01-17</td>\n",
       "      <td>123</td>\n",
       "      <td>80.0</td>\n",
       "      <td>68.350</td>\n",
       "      <td>19.0</td>\n",
       "      <td>17.525</td>\n",
       "    </tr>\n",
       "    <tr>\n",
       "      <th>13328414</th>\n",
       "      <td>TSLA</td>\n",
       "      <td>2022-12-30</td>\n",
       "      <td>2025-01-17</td>\n",
       "      <td>37</td>\n",
       "      <td>85.0</td>\n",
       "      <td>65.725</td>\n",
       "      <td>20.0</td>\n",
       "      <td>19.500</td>\n",
       "    </tr>\n",
       "    <tr>\n",
       "      <th>13328415</th>\n",
       "      <td>TSLA</td>\n",
       "      <td>2022-12-30</td>\n",
       "      <td>2025-01-17</td>\n",
       "      <td>33</td>\n",
       "      <td>90.0</td>\n",
       "      <td>63.275</td>\n",
       "      <td>23.0</td>\n",
       "      <td>21.700</td>\n",
       "    </tr>\n",
       "    <tr>\n",
       "      <th>13328416</th>\n",
       "      <td>TSLA</td>\n",
       "      <td>2022-12-30</td>\n",
       "      <td>2025-01-17</td>\n",
       "      <td>4</td>\n",
       "      <td>95.0</td>\n",
       "      <td>61.225</td>\n",
       "      <td>4.0</td>\n",
       "      <td>24.075</td>\n",
       "    </tr>\n",
       "  </tbody>\n",
       "</table>\n",
       "<p>13328417 rows × 8 columns</p>\n",
       "</div>"
      ],
      "text/plain": [
       "         ticker       date     exdate  volume_c  strike_price  option_price_c  \\\n",
       "0          AMZN 2018-01-02 2018-01-05         0        1000.0         189.975   \n",
       "1          AMZN 2018-01-02 2018-01-05         0        1002.5         187.475   \n",
       "2          AMZN 2018-01-02 2018-01-05         0        1005.0         184.975   \n",
       "3          AMZN 2018-01-02 2018-01-05         0        1007.5         182.475   \n",
       "4          AMZN 2018-01-02 2018-01-05         0        1010.0         179.975   \n",
       "...         ...        ...        ...       ...           ...             ...   \n",
       "13328412   TSLA 2022-12-30 2025-01-17         5          75.0          71.050   \n",
       "13328413   TSLA 2022-12-30 2025-01-17       123          80.0          68.350   \n",
       "13328414   TSLA 2022-12-30 2025-01-17        37          85.0          65.725   \n",
       "13328415   TSLA 2022-12-30 2025-01-17        33          90.0          63.275   \n",
       "13328416   TSLA 2022-12-30 2025-01-17         4          95.0          61.225   \n",
       "\n",
       "          volume_p  option_price_p  \n",
       "0              8.0           0.025  \n",
       "1              0.0           0.080  \n",
       "2              0.0           0.050  \n",
       "3              0.0           0.085  \n",
       "4              3.0           0.080  \n",
       "...            ...             ...  \n",
       "13328412     609.0          15.550  \n",
       "13328413      19.0          17.525  \n",
       "13328414      20.0          19.500  \n",
       "13328415      23.0          21.700  \n",
       "13328416       4.0          24.075  \n",
       "\n",
       "[13328417 rows x 8 columns]"
      ]
     },
     "execution_count": 20,
     "metadata": {},
     "output_type": "execute_result"
    }
   ],
   "source": [
    "mdf =  pd.merge(call_df, put_df, on=['ticker','date','exdate','strike_price'], how='left',suffixes=('_c', '_p'))\n",
    "mdf = mdf.drop(columns=['cp_flag_c','cp_flag_p'])\n",
    "mdf"
   ]
  },
  {
   "cell_type": "code",
   "execution_count": 22,
   "id": "c7cde1da-6d80-4c89-a462-89bef57e0b86",
   "metadata": {
    "ExecuteTime": {
     "end_time": "2024-07-17T11:37:08.008975Z",
     "start_time": "2024-07-17T11:37:07.868967Z"
    }
   },
   "outputs": [
    {
     "data": {
      "text/html": [
       "<div>\n",
       "<style scoped>\n",
       "    .dataframe tbody tr th:only-of-type {\n",
       "        vertical-align: middle;\n",
       "    }\n",
       "\n",
       "    .dataframe tbody tr th {\n",
       "        vertical-align: top;\n",
       "    }\n",
       "\n",
       "    .dataframe thead th {\n",
       "        text-align: right;\n",
       "    }\n",
       "</style>\n",
       "<table border=\"1\" class=\"dataframe\">\n",
       "  <thead>\n",
       "    <tr style=\"text-align: right;\">\n",
       "      <th></th>\n",
       "      <th>date</th>\n",
       "      <th>ticker</th>\n",
       "      <th>S0</th>\n",
       "    </tr>\n",
       "  </thead>\n",
       "  <tbody>\n",
       "    <tr>\n",
       "      <th>0</th>\n",
       "      <td>2018-01-02</td>\n",
       "      <td>AMZN</td>\n",
       "      <td>1189.010010</td>\n",
       "    </tr>\n",
       "    <tr>\n",
       "      <th>1</th>\n",
       "      <td>2018-01-03</td>\n",
       "      <td>AMZN</td>\n",
       "      <td>1204.199982</td>\n",
       "    </tr>\n",
       "    <tr>\n",
       "      <th>2</th>\n",
       "      <td>2018-01-04</td>\n",
       "      <td>AMZN</td>\n",
       "      <td>1209.589996</td>\n",
       "    </tr>\n",
       "    <tr>\n",
       "      <th>3</th>\n",
       "      <td>2018-01-05</td>\n",
       "      <td>AMZN</td>\n",
       "      <td>1229.140015</td>\n",
       "    </tr>\n",
       "    <tr>\n",
       "      <th>4</th>\n",
       "      <td>2018-01-08</td>\n",
       "      <td>AMZN</td>\n",
       "      <td>1246.869965</td>\n",
       "    </tr>\n",
       "    <tr>\n",
       "      <th>...</th>\n",
       "      <td>...</td>\n",
       "      <td>...</td>\n",
       "      <td>...</td>\n",
       "    </tr>\n",
       "    <tr>\n",
       "      <th>14089</th>\n",
       "      <td>2024-03-18</td>\n",
       "      <td>TSLA</td>\n",
       "      <td>173.800003</td>\n",
       "    </tr>\n",
       "    <tr>\n",
       "      <th>14090</th>\n",
       "      <td>2024-03-19</td>\n",
       "      <td>TSLA</td>\n",
       "      <td>171.320007</td>\n",
       "    </tr>\n",
       "    <tr>\n",
       "      <th>14091</th>\n",
       "      <td>2024-03-20</td>\n",
       "      <td>TSLA</td>\n",
       "      <td>175.660004</td>\n",
       "    </tr>\n",
       "    <tr>\n",
       "      <th>14092</th>\n",
       "      <td>2024-03-21</td>\n",
       "      <td>TSLA</td>\n",
       "      <td>172.820007</td>\n",
       "    </tr>\n",
       "    <tr>\n",
       "      <th>14093</th>\n",
       "      <td>2024-03-22</td>\n",
       "      <td>TSLA</td>\n",
       "      <td>170.830002</td>\n",
       "    </tr>\n",
       "  </tbody>\n",
       "</table>\n",
       "<p>14094 rows × 3 columns</p>\n",
       "</div>"
      ],
      "text/plain": [
       "            date ticker           S0\n",
       "0     2018-01-02   AMZN  1189.010010\n",
       "1     2018-01-03   AMZN  1204.199982\n",
       "2     2018-01-04   AMZN  1209.589996\n",
       "3     2018-01-05   AMZN  1229.140015\n",
       "4     2018-01-08   AMZN  1246.869965\n",
       "...          ...    ...          ...\n",
       "14089 2024-03-18   TSLA   173.800003\n",
       "14090 2024-03-19   TSLA   171.320007\n",
       "14091 2024-03-20   TSLA   175.660004\n",
       "14092 2024-03-21   TSLA   172.820007\n",
       "14093 2024-03-22   TSLA   170.830002\n",
       "\n",
       "[14094 rows x 3 columns]"
      ]
     },
     "execution_count": 22,
     "metadata": {},
     "output_type": "execute_result"
    }
   ],
   "source": [
    "stock_price = pd.read_csv('adjusted_stocks.csv')\n",
    "stock_price_melt = stock_price.melt(id_vars=['date'], var_name='ticker', value_name='S0')\n",
    "stock_price_melt.date = pd.to_datetime(stock_price_melt.date)\n",
    "stock_price_melt"
   ]
  },
  {
   "cell_type": "code",
   "execution_count": 23,
   "id": "7837bbcf-ddea-4bc8-9bb5-b88d9510cb73",
   "metadata": {
    "ExecuteTime": {
     "end_time": "2024-07-17T11:37:19.950353Z",
     "start_time": "2024-07-17T11:37:10.120150Z"
    }
   },
   "outputs": [
    {
     "data": {
      "text/html": [
       "<div>\n",
       "<style scoped>\n",
       "    .dataframe tbody tr th:only-of-type {\n",
       "        vertical-align: middle;\n",
       "    }\n",
       "\n",
       "    .dataframe tbody tr th {\n",
       "        vertical-align: top;\n",
       "    }\n",
       "\n",
       "    .dataframe thead th {\n",
       "        text-align: right;\n",
       "    }\n",
       "</style>\n",
       "<table border=\"1\" class=\"dataframe\">\n",
       "  <thead>\n",
       "    <tr style=\"text-align: right;\">\n",
       "      <th></th>\n",
       "      <th>ticker</th>\n",
       "      <th>date</th>\n",
       "      <th>exdate</th>\n",
       "      <th>volume_c</th>\n",
       "      <th>strike_price</th>\n",
       "      <th>option_price_c</th>\n",
       "      <th>volume_p</th>\n",
       "      <th>option_price_p</th>\n",
       "      <th>S0</th>\n",
       "      <th>T</th>\n",
       "    </tr>\n",
       "  </thead>\n",
       "  <tbody>\n",
       "    <tr>\n",
       "      <th>0</th>\n",
       "      <td>AMZN</td>\n",
       "      <td>2018-01-02</td>\n",
       "      <td>2018-01-05</td>\n",
       "      <td>0</td>\n",
       "      <td>1000.0</td>\n",
       "      <td>189.975</td>\n",
       "      <td>8.0</td>\n",
       "      <td>0.025</td>\n",
       "      <td>1189.01001</td>\n",
       "      <td>0.008219</td>\n",
       "    </tr>\n",
       "    <tr>\n",
       "      <th>1</th>\n",
       "      <td>AMZN</td>\n",
       "      <td>2018-01-02</td>\n",
       "      <td>2018-01-05</td>\n",
       "      <td>0</td>\n",
       "      <td>1002.5</td>\n",
       "      <td>187.475</td>\n",
       "      <td>0.0</td>\n",
       "      <td>0.080</td>\n",
       "      <td>1189.01001</td>\n",
       "      <td>0.008219</td>\n",
       "    </tr>\n",
       "    <tr>\n",
       "      <th>2</th>\n",
       "      <td>AMZN</td>\n",
       "      <td>2018-01-02</td>\n",
       "      <td>2018-01-05</td>\n",
       "      <td>0</td>\n",
       "      <td>1005.0</td>\n",
       "      <td>184.975</td>\n",
       "      <td>0.0</td>\n",
       "      <td>0.050</td>\n",
       "      <td>1189.01001</td>\n",
       "      <td>0.008219</td>\n",
       "    </tr>\n",
       "    <tr>\n",
       "      <th>3</th>\n",
       "      <td>AMZN</td>\n",
       "      <td>2018-01-02</td>\n",
       "      <td>2018-01-05</td>\n",
       "      <td>0</td>\n",
       "      <td>1007.5</td>\n",
       "      <td>182.475</td>\n",
       "      <td>0.0</td>\n",
       "      <td>0.085</td>\n",
       "      <td>1189.01001</td>\n",
       "      <td>0.008219</td>\n",
       "    </tr>\n",
       "    <tr>\n",
       "      <th>4</th>\n",
       "      <td>AMZN</td>\n",
       "      <td>2018-01-02</td>\n",
       "      <td>2018-01-05</td>\n",
       "      <td>0</td>\n",
       "      <td>1010.0</td>\n",
       "      <td>179.975</td>\n",
       "      <td>3.0</td>\n",
       "      <td>0.080</td>\n",
       "      <td>1189.01001</td>\n",
       "      <td>0.008219</td>\n",
       "    </tr>\n",
       "    <tr>\n",
       "      <th>...</th>\n",
       "      <td>...</td>\n",
       "      <td>...</td>\n",
       "      <td>...</td>\n",
       "      <td>...</td>\n",
       "      <td>...</td>\n",
       "      <td>...</td>\n",
       "      <td>...</td>\n",
       "      <td>...</td>\n",
       "      <td>...</td>\n",
       "      <td>...</td>\n",
       "    </tr>\n",
       "    <tr>\n",
       "      <th>13328412</th>\n",
       "      <td>TSLA</td>\n",
       "      <td>2022-12-30</td>\n",
       "      <td>2025-01-17</td>\n",
       "      <td>5</td>\n",
       "      <td>75.0</td>\n",
       "      <td>71.050</td>\n",
       "      <td>609.0</td>\n",
       "      <td>15.550</td>\n",
       "      <td>123.18000</td>\n",
       "      <td>2.052055</td>\n",
       "    </tr>\n",
       "    <tr>\n",
       "      <th>13328413</th>\n",
       "      <td>TSLA</td>\n",
       "      <td>2022-12-30</td>\n",
       "      <td>2025-01-17</td>\n",
       "      <td>123</td>\n",
       "      <td>80.0</td>\n",
       "      <td>68.350</td>\n",
       "      <td>19.0</td>\n",
       "      <td>17.525</td>\n",
       "      <td>123.18000</td>\n",
       "      <td>2.052055</td>\n",
       "    </tr>\n",
       "    <tr>\n",
       "      <th>13328414</th>\n",
       "      <td>TSLA</td>\n",
       "      <td>2022-12-30</td>\n",
       "      <td>2025-01-17</td>\n",
       "      <td>37</td>\n",
       "      <td>85.0</td>\n",
       "      <td>65.725</td>\n",
       "      <td>20.0</td>\n",
       "      <td>19.500</td>\n",
       "      <td>123.18000</td>\n",
       "      <td>2.052055</td>\n",
       "    </tr>\n",
       "    <tr>\n",
       "      <th>13328415</th>\n",
       "      <td>TSLA</td>\n",
       "      <td>2022-12-30</td>\n",
       "      <td>2025-01-17</td>\n",
       "      <td>33</td>\n",
       "      <td>90.0</td>\n",
       "      <td>63.275</td>\n",
       "      <td>23.0</td>\n",
       "      <td>21.700</td>\n",
       "      <td>123.18000</td>\n",
       "      <td>2.052055</td>\n",
       "    </tr>\n",
       "    <tr>\n",
       "      <th>13328416</th>\n",
       "      <td>TSLA</td>\n",
       "      <td>2022-12-30</td>\n",
       "      <td>2025-01-17</td>\n",
       "      <td>4</td>\n",
       "      <td>95.0</td>\n",
       "      <td>61.225</td>\n",
       "      <td>4.0</td>\n",
       "      <td>24.075</td>\n",
       "      <td>123.18000</td>\n",
       "      <td>2.052055</td>\n",
       "    </tr>\n",
       "  </tbody>\n",
       "</table>\n",
       "<p>13328417 rows × 10 columns</p>\n",
       "</div>"
      ],
      "text/plain": [
       "         ticker       date     exdate  volume_c  strike_price  option_price_c  \\\n",
       "0          AMZN 2018-01-02 2018-01-05         0        1000.0         189.975   \n",
       "1          AMZN 2018-01-02 2018-01-05         0        1002.5         187.475   \n",
       "2          AMZN 2018-01-02 2018-01-05         0        1005.0         184.975   \n",
       "3          AMZN 2018-01-02 2018-01-05         0        1007.5         182.475   \n",
       "4          AMZN 2018-01-02 2018-01-05         0        1010.0         179.975   \n",
       "...         ...        ...        ...       ...           ...             ...   \n",
       "13328412   TSLA 2022-12-30 2025-01-17         5          75.0          71.050   \n",
       "13328413   TSLA 2022-12-30 2025-01-17       123          80.0          68.350   \n",
       "13328414   TSLA 2022-12-30 2025-01-17        37          85.0          65.725   \n",
       "13328415   TSLA 2022-12-30 2025-01-17        33          90.0          63.275   \n",
       "13328416   TSLA 2022-12-30 2025-01-17         4          95.0          61.225   \n",
       "\n",
       "          volume_p  option_price_p          S0         T  \n",
       "0              8.0           0.025  1189.01001  0.008219  \n",
       "1              0.0           0.080  1189.01001  0.008219  \n",
       "2              0.0           0.050  1189.01001  0.008219  \n",
       "3              0.0           0.085  1189.01001  0.008219  \n",
       "4              3.0           0.080  1189.01001  0.008219  \n",
       "...            ...             ...         ...       ...  \n",
       "13328412     609.0          15.550   123.18000  2.052055  \n",
       "13328413      19.0          17.525   123.18000  2.052055  \n",
       "13328414      20.0          19.500   123.18000  2.052055  \n",
       "13328415      23.0          21.700   123.18000  2.052055  \n",
       "13328416       4.0          24.075   123.18000  2.052055  \n",
       "\n",
       "[13328417 rows x 10 columns]"
      ]
     },
     "execution_count": 23,
     "metadata": {},
     "output_type": "execute_result"
    }
   ],
   "source": [
    "smdf =  pd.merge(mdf, stock_price_melt, on=['date','ticker'], how='left')\n",
    "smdf['T'] = (smdf.exdate - smdf.date).dt.days / 365\n",
    "smdf "
   ]
  },
  {
   "cell_type": "markdown",
   "id": "3c51d8b1-9f2d-44fa-80c5-85529aba2c65",
   "metadata": {},
   "source": [
    "### 3. Regression"
   ]
  },
  {
   "cell_type": "markdown",
   "id": "85df20d8-459b-48dd-9671-fa568184a2b1",
   "metadata": {},
   "source": [
    "#### Use put call parity: $C-P=S_0-Ke^{-rT}$ to compute interest rate $r = \\frac{1}{T}\\ln(\\frac{K}{S_0+P-C})$. "
   ]
  },
  {
   "cell_type": "code",
   "execution_count": 39,
   "id": "e5c03dcd-b4b7-44ea-a3ea-b31d564b901d",
   "metadata": {
    "ExecuteTime": {
     "end_time": "2024-07-17T11:53:41.548979Z",
     "start_time": "2024-07-17T11:53:34.915958Z"
    }
   },
   "outputs": [
    {
     "data": {
      "text/html": [
       "<div>\n",
       "<style scoped>\n",
       "    .dataframe tbody tr th:only-of-type {\n",
       "        vertical-align: middle;\n",
       "    }\n",
       "\n",
       "    .dataframe tbody tr th {\n",
       "        vertical-align: top;\n",
       "    }\n",
       "\n",
       "    .dataframe thead th {\n",
       "        text-align: right;\n",
       "    }\n",
       "</style>\n",
       "<table border=\"1\" class=\"dataframe\">\n",
       "  <thead>\n",
       "    <tr style=\"text-align: right;\">\n",
       "      <th></th>\n",
       "      <th>date</th>\n",
       "      <th>exdate</th>\n",
       "      <th>K</th>\n",
       "      <th>C</th>\n",
       "      <th>P</th>\n",
       "      <th>T</th>\n",
       "      <th>S0</th>\n",
       "    </tr>\n",
       "  </thead>\n",
       "  <tbody>\n",
       "    <tr>\n",
       "      <th>0</th>\n",
       "      <td>2018-01-02</td>\n",
       "      <td>2018-01-05</td>\n",
       "      <td>1000.0</td>\n",
       "      <td>189.975</td>\n",
       "      <td>0.025</td>\n",
       "      <td>0.008219</td>\n",
       "      <td>1189.01001</td>\n",
       "    </tr>\n",
       "    <tr>\n",
       "      <th>1</th>\n",
       "      <td>2018-01-02</td>\n",
       "      <td>2018-01-05</td>\n",
       "      <td>1002.5</td>\n",
       "      <td>187.475</td>\n",
       "      <td>0.080</td>\n",
       "      <td>0.008219</td>\n",
       "      <td>1189.01001</td>\n",
       "    </tr>\n",
       "    <tr>\n",
       "      <th>2</th>\n",
       "      <td>2018-01-02</td>\n",
       "      <td>2018-01-05</td>\n",
       "      <td>1005.0</td>\n",
       "      <td>184.975</td>\n",
       "      <td>0.050</td>\n",
       "      <td>0.008219</td>\n",
       "      <td>1189.01001</td>\n",
       "    </tr>\n",
       "    <tr>\n",
       "      <th>3</th>\n",
       "      <td>2018-01-02</td>\n",
       "      <td>2018-01-05</td>\n",
       "      <td>1007.5</td>\n",
       "      <td>182.475</td>\n",
       "      <td>0.085</td>\n",
       "      <td>0.008219</td>\n",
       "      <td>1189.01001</td>\n",
       "    </tr>\n",
       "    <tr>\n",
       "      <th>4</th>\n",
       "      <td>2018-01-02</td>\n",
       "      <td>2018-01-05</td>\n",
       "      <td>1010.0</td>\n",
       "      <td>179.975</td>\n",
       "      <td>0.080</td>\n",
       "      <td>0.008219</td>\n",
       "      <td>1189.01001</td>\n",
       "    </tr>\n",
       "    <tr>\n",
       "      <th>...</th>\n",
       "      <td>...</td>\n",
       "      <td>...</td>\n",
       "      <td>...</td>\n",
       "      <td>...</td>\n",
       "      <td>...</td>\n",
       "      <td>...</td>\n",
       "      <td>...</td>\n",
       "    </tr>\n",
       "    <tr>\n",
       "      <th>13328412</th>\n",
       "      <td>2022-12-30</td>\n",
       "      <td>2025-01-17</td>\n",
       "      <td>75.0</td>\n",
       "      <td>71.050</td>\n",
       "      <td>15.550</td>\n",
       "      <td>2.052055</td>\n",
       "      <td>123.18000</td>\n",
       "    </tr>\n",
       "    <tr>\n",
       "      <th>13328413</th>\n",
       "      <td>2022-12-30</td>\n",
       "      <td>2025-01-17</td>\n",
       "      <td>80.0</td>\n",
       "      <td>68.350</td>\n",
       "      <td>17.525</td>\n",
       "      <td>2.052055</td>\n",
       "      <td>123.18000</td>\n",
       "    </tr>\n",
       "    <tr>\n",
       "      <th>13328414</th>\n",
       "      <td>2022-12-30</td>\n",
       "      <td>2025-01-17</td>\n",
       "      <td>85.0</td>\n",
       "      <td>65.725</td>\n",
       "      <td>19.500</td>\n",
       "      <td>2.052055</td>\n",
       "      <td>123.18000</td>\n",
       "    </tr>\n",
       "    <tr>\n",
       "      <th>13328415</th>\n",
       "      <td>2022-12-30</td>\n",
       "      <td>2025-01-17</td>\n",
       "      <td>90.0</td>\n",
       "      <td>63.275</td>\n",
       "      <td>21.700</td>\n",
       "      <td>2.052055</td>\n",
       "      <td>123.18000</td>\n",
       "    </tr>\n",
       "    <tr>\n",
       "      <th>13328416</th>\n",
       "      <td>2022-12-30</td>\n",
       "      <td>2025-01-17</td>\n",
       "      <td>95.0</td>\n",
       "      <td>61.225</td>\n",
       "      <td>24.075</td>\n",
       "      <td>2.052055</td>\n",
       "      <td>123.18000</td>\n",
       "    </tr>\n",
       "  </tbody>\n",
       "</table>\n",
       "<p>13328298 rows × 7 columns</p>\n",
       "</div>"
      ],
      "text/plain": [
       "               date     exdate       K        C       P         T          S0\n",
       "0        2018-01-02 2018-01-05  1000.0  189.975   0.025  0.008219  1189.01001\n",
       "1        2018-01-02 2018-01-05  1002.5  187.475   0.080  0.008219  1189.01001\n",
       "2        2018-01-02 2018-01-05  1005.0  184.975   0.050  0.008219  1189.01001\n",
       "3        2018-01-02 2018-01-05  1007.5  182.475   0.085  0.008219  1189.01001\n",
       "4        2018-01-02 2018-01-05  1010.0  179.975   0.080  0.008219  1189.01001\n",
       "...             ...        ...     ...      ...     ...       ...         ...\n",
       "13328412 2022-12-30 2025-01-17    75.0   71.050  15.550  2.052055   123.18000\n",
       "13328413 2022-12-30 2025-01-17    80.0   68.350  17.525  2.052055   123.18000\n",
       "13328414 2022-12-30 2025-01-17    85.0   65.725  19.500  2.052055   123.18000\n",
       "13328415 2022-12-30 2025-01-17    90.0   63.275  21.700  2.052055   123.18000\n",
       "13328416 2022-12-30 2025-01-17    95.0   61.225  24.075  2.052055   123.18000\n",
       "\n",
       "[13328298 rows x 7 columns]"
      ]
     },
     "execution_count": 39,
     "metadata": {},
     "output_type": "execute_result"
    }
   ],
   "source": [
    "regression_df = smdf[['date','exdate','strike_price', 'option_price_c','option_price_p', 'T','S0']]\n",
    "regression_df.columns = ['date','exdate','K','C','P','T','S0']\n",
    "regression_df = regression_df.dropna(axis=0)\n",
    "regression_df"
   ]
  },
  {
   "cell_type": "code",
   "execution_count": 40,
   "id": "4a0488f61844fda3",
   "metadata": {
    "ExecuteTime": {
     "end_time": "2024-07-17T11:53:59.351808Z",
     "start_time": "2024-07-17T11:53:59.222712Z"
    }
   },
   "outputs": [
    {
     "data": {
      "text/plain": [
       "2.9336078770147545e-05"
      ]
     },
     "execution_count": 40,
     "metadata": {},
     "output_type": "execute_result"
    }
   ],
   "source": [
    "len(regression_df[(regression_df['C'] - regression_df['P'] - regression_df['S0'])>0])/len(regression_df)"
   ]
  },
  {
   "cell_type": "markdown",
   "id": "a3bad636294d7d69",
   "metadata": {},
   "source": [
    "#### remove datapoint unsatisfied condition : $C-P < S_0$"
   ]
  },
  {
   "cell_type": "code",
   "execution_count": 41,
   "id": "893685f01294b98d",
   "metadata": {
    "ExecuteTime": {
     "end_time": "2024-07-17T11:54:05.393940Z",
     "start_time": "2024-07-17T11:54:03.528831Z"
    }
   },
   "outputs": [],
   "source": [
    "regression_df = regression_df[(regression_df['C'] - regression_df['P'])<regression_df['S0']]"
   ]
  },
  {
   "cell_type": "markdown",
   "id": "98797f16-cfff-4f77-a75b-d0a9b49ab42f",
   "metadata": {},
   "source": [
    "#### Regression model : $y = r*x + \\epsilon$, where $(x,\\, y) = (T,\\, \\ln(\\frac{K}{S_0+P-C}))$"
   ]
  },
  {
   "cell_type": "code",
   "execution_count": 130,
   "id": "cce71474d6e15f11",
   "metadata": {
    "ExecuteTime": {
     "end_time": "2024-07-17T13:31:08.383277Z",
     "start_time": "2024-07-17T13:31:02.911770Z"
    }
   },
   "outputs": [
    {
     "name": "stdout",
     "output_type": "stream",
     "text": [
      "Estimated r: 0.02261114599766386\n",
      "Mean Square Error: 0.014986376970162918\n",
      "Mean Absolute Percentage Error: 638869466.172107\n"
     ]
    }
   ],
   "source": [
    "from sklearn.linear_model import LinearRegression\n",
    "from sklearn.model_selection import train_test_split\n",
    "from sklearn.metrics import mean_squared_error\n",
    "\n",
    "regression_df.loc[:,'y'] = np.log(regression_df['K'] / (regression_df['S0'] + regression_df['P'] - regression_df['C']))\n",
    "\n",
    "X = regression_df[['T']]\n",
    "y = regression_df['y']\n",
    "\n",
    "X_train, X_test, y_train, y_test = train_test_split(X, y, test_size=0.2, random_state=23)\n",
    "\n",
    "model = LinearRegression(fit_intercept=False)\n",
    "model.fit(X_train, y_train)\n",
    "\n",
    "y_pred = model.predict(X_test)\n",
    "mse = mean_squared_error(y_test,y_pred)\n",
    "\n",
    "r_estimate = model.coef_[0]\n",
    "print(f\"Estimated r: {r_estimate}\")\n",
    "print(f'Mean Square Error: {mse}')"
   ]
  },
  {
   "cell_type": "markdown",
   "id": "ec5f794570493b7",
   "metadata": {},
   "source": [
    "## 4. modified regression"
   ]
  },
  {
   "cell_type": "markdown",
   "id": "2330a3f416c66ca1",
   "metadata": {},
   "source": [
    "#### (1) model r as a function of time t  (group by date t0)"
   ]
  },
  {
   "cell_type": "code",
   "execution_count": 112,
   "id": "5328a46c57367f18",
   "metadata": {
    "ExecuteTime": {
     "end_time": "2024-07-17T12:40:28.274222Z",
     "start_time": "2024-07-17T12:40:28.255133Z"
    }
   },
   "outputs": [],
   "source": [
    "def get_IR(regression_df):\n",
    "    regression_df['y'] = np.log(regression_df['K'] / (regression_df['S0'] + regression_df['P'] - regression_df['C']))\n",
    "    \n",
    "    X = regression_df[['T']]\n",
    "    y = regression_df['y']\n",
    "    \n",
    "    model = LinearRegression(fit_intercept=False)\n",
    "    model.fit(X, y)\n",
    "    \n",
    "    r_estimate = model.coef_[0]\n",
    "    return r_estimate"
   ]
  },
  {
   "cell_type": "code",
   "execution_count": 113,
   "id": "cb971159e7dc52d4",
   "metadata": {
    "ExecuteTime": {
     "end_time": "2024-07-17T12:40:39.956394Z",
     "start_time": "2024-07-17T12:40:30.042918Z"
    }
   },
   "outputs": [
    {
     "data": {
      "text/plain": [
       "date\n",
       "2018-01-02    0.038331\n",
       "2018-01-03    0.038273\n",
       "2018-01-04    0.039813\n",
       "2018-01-05    0.039026\n",
       "2018-01-08    0.038984\n",
       "                ...   \n",
       "2022-12-23    0.032973\n",
       "2022-12-27    0.032952\n",
       "2022-12-28    0.032954\n",
       "2022-12-29    0.033885\n",
       "2022-12-30    0.034466\n",
       "Length: 1259, dtype: float64"
      ]
     },
     "execution_count": 113,
     "metadata": {},
     "output_type": "execute_result"
    }
   ],
   "source": [
    "res = regression_df.groupby('date').apply(get_IR)\n",
    "res"
   ]
  },
  {
   "cell_type": "code",
   "execution_count": 114,
   "id": "2bfdd43cd5e579dc",
   "metadata": {
    "ExecuteTime": {
     "end_time": "2024-07-17T12:40:42.054958Z",
     "start_time": "2024-07-17T12:40:42.007080Z"
    }
   },
   "outputs": [
    {
     "data": {
      "text/plain": [
       "0.02560654881368453"
      ]
     },
     "execution_count": 114,
     "metadata": {},
     "output_type": "execute_result"
    }
   ],
   "source": [
    "res.mean()"
   ]
  },
  {
   "cell_type": "code",
   "execution_count": 115,
   "id": "42f543cb26e46203",
   "metadata": {
    "ExecuteTime": {
     "end_time": "2024-07-17T12:40:43.851538Z",
     "start_time": "2024-07-17T12:40:43.215013Z"
    }
   },
   "outputs": [
    {
     "data": {
      "text/plain": [
       "[<matplotlib.lines.Line2D at 0x13d6c5a90>]"
      ]
     },
     "execution_count": 115,
     "metadata": {},
     "output_type": "execute_result"
    },
    {
     "data": {
      "image/png": "[encoded data removed]",
      "text/plain": [
       "<Figure size 1500x600 with 1 Axes>"
      ]
     },
     "metadata": {},
     "output_type": "display_data"
    }
   ],
   "source": [
    "plt.figure(figsize=(15,6))\n",
    "plt.plot(res)"
   ]
  },
  {
   "cell_type": "code",
   "execution_count": 135,
   "id": "1bc2d397378f520e",
   "metadata": {
    "ExecuteTime": {
     "end_time": "2024-07-17T13:34:22.838578Z",
     "start_time": "2024-07-17T13:34:22.754458Z"
    }
   },
   "outputs": [
    {
     "data": {
      "text/plain": [
       "exdate\n",
       "2018-01-19   -1.709486\n",
       "2019-01-18   -0.040695\n",
       "2019-08-16   -0.005277\n",
       "2019-12-20   -0.001214\n",
       "2020-11-20   -0.003278\n",
       "2022-06-24   -0.060936\n",
       "2022-07-01   -0.112660\n",
       "2022-07-08   -0.365692\n",
       "2022-07-22   -0.147206\n",
       "2022-08-05   -0.100902\n",
       "2022-08-12   -0.227314\n",
       "2022-08-19   -0.003659\n",
       "2022-08-26   -0.220166\n",
       "2022-11-18   -0.001675\n",
       "dtype: float64"
      ]
     },
     "execution_count": 135,
     "metadata": {},
     "output_type": "execute_result"
    }
   ],
   "source": [
    "res[res<0]"
   ]
  },
  {
   "cell_type": "code",
   "execution_count": 117,
   "id": "158bb05c7f3deb94",
   "metadata": {
    "ExecuteTime": {
     "end_time": "2024-07-17T12:40:47.313581Z",
     "start_time": "2024-07-17T12:40:46.830726Z"
    }
   },
   "outputs": [
    {
     "data": {
      "text/plain": [
       "[<matplotlib.lines.Line2D at 0x13d720c90>]"
      ]
     },
     "execution_count": 117,
     "metadata": {},
     "output_type": "execute_result"
    },
    {
     "data": {
      "image/png": "[encoded data removed]",
      "text/plain": [
       "<Figure size 1500x600 with 1 Axes>"
      ]
     },
     "metadata": {},
     "output_type": "display_data"
    }
   ],
   "source": [
    "plt.figure(figsize=(15,6))\n",
    "plt.plot(res[res>=0])"
   ]
  },
  {
   "cell_type": "code",
   "execution_count": 116,
   "id": "1cd625c6efce3867",
   "metadata": {
    "ExecuteTime": {
     "end_time": "2024-07-17T12:40:44.864067Z",
     "start_time": "2024-07-17T12:40:44.804128Z"
    }
   },
   "outputs": [
    {
     "data": {
      "text/plain": [
       "0.027737062129895913"
      ]
     },
     "execution_count": 116,
     "metadata": {},
     "output_type": "execute_result"
    }
   ],
   "source": [
    "res[res>=0].mean()"
   ]
  },
  {
   "cell_type": "markdown",
   "id": "e1f0fb9d6045359b",
   "metadata": {},
   "source": [
    "### (2) group by maturity (exdate)"
   ]
  },
  {
   "cell_type": "code",
   "execution_count": 120,
   "id": "9497ad6aa869b648",
   "metadata": {
    "ExecuteTime": {
     "end_time": "2024-07-17T12:40:58.670354Z",
     "start_time": "2024-07-17T12:40:51.975046Z"
    }
   },
   "outputs": [
    {
     "data": {
      "text/plain": [
       "exdate\n",
       "2018-01-05    8.331777\n",
       "2018-01-12    2.579931\n",
       "2018-01-19   -1.709486\n",
       "2018-01-26    1.115221\n",
       "2018-02-02    0.870173\n",
       "                ...   \n",
       "2024-01-19    0.019397\n",
       "2024-03-15    0.027106\n",
       "2024-06-21    0.027074\n",
       "2024-09-20    0.039451\n",
       "2025-01-17    0.034236\n",
       "Length: 281, dtype: float64"
      ]
     },
     "execution_count": 120,
     "metadata": {},
     "output_type": "execute_result"
    }
   ],
   "source": [
    "res = regression_df.groupby('exdate').apply(get_IR)\n",
    "res"
   ]
  },
  {
   "cell_type": "code",
   "execution_count": 122,
   "id": "bc08d8c740955bb9",
   "metadata": {
    "ExecuteTime": {
     "end_time": "2024-07-17T12:41:02.395162Z",
     "start_time": "2024-07-17T12:41:01.866898Z"
    }
   },
   "outputs": [
    {
     "data": {
      "text/plain": [
       "[<matplotlib.lines.Line2D at 0x138d10810>]"
      ]
     },
     "execution_count": 122,
     "metadata": {},
     "output_type": "execute_result"
    },
    {
     "data": {
      "image/png": "[encoded data removed]",
      "text/plain": [
       "<Figure size 2000x600 with 1 Axes>"
      ]
     },
     "metadata": {},
     "output_type": "display_data"
    }
   ],
   "source": [
    "plt.figure(figsize=(20,6))\n",
    "plt.plot(res, marker='o')"
   ]
  },
  {
   "cell_type": "code",
   "execution_count": 121,
   "id": "d191cfad88e6df4a",
   "metadata": {
    "ExecuteTime": {
     "end_time": "2024-07-17T12:41:00.304807Z",
     "start_time": "2024-07-17T12:41:00.226576Z"
    }
   },
   "outputs": [
    {
     "data": {
      "text/plain": [
       "exdate\n",
       "2023-06-16    0.014052\n",
       "2023-07-21    0.047988\n",
       "2023-09-15    0.021262\n",
       "2023-10-20    0.040420\n",
       "2023-12-15    0.038685\n",
       "2024-01-19    0.019397\n",
       "2024-03-15    0.027106\n",
       "2024-06-21    0.027074\n",
       "2024-09-20    0.039451\n",
       "dtype: float64"
      ]
     },
     "execution_count": 121,
     "metadata": {},
     "output_type": "execute_result"
    }
   ],
   "source": [
    "res.iloc[-10:-1]"
   ]
  },
  {
   "cell_type": "code",
   "execution_count": null,
   "id": "ebc7b32b89c415db",
   "metadata": {},
   "outputs": [],
   "source": []
  },
  {
   "cell_type": "code",
   "execution_count": null,
   "id": "1e030dee6f138b88",
   "metadata": {},
   "outputs": [],
   "source": []
  },
  {
   "cell_type": "code",
   "execution_count": null,
   "id": "4aaa485263b11ef5",
   "metadata": {},
   "outputs": [],
   "source": []
  }
 ],
 "metadata": {
  "kernelspec": {
   "display_name": "Python 3 (ipykernel)",
   "language": "python",
   "name": "python3"
  },
  "language_info": {
   "codemirror_mode": {
    "name": "ipython",
    "version": 3
   },
   "file_extension": ".py",
   "mimetype": "text/x-python",
   "name": "python",
   "nbconvert_exporter": "python",
   "pygments_lexer": "ipython3",
   "version": "3.11.3"
  }
 },
 "nbformat": 4,
 "nbformat_minor": 5
}
