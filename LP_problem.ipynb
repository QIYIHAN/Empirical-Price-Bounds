{
 "cells": [
  {
   "cell_type": "code",
   "execution_count": 1,
   "id": "2130b488",
   "metadata": {},
   "outputs": [
    {
     "name": "stderr",
     "output_type": "stream",
     "text": [
      "C:\\Users\\yanhui\\AppData\\Local\\Temp\\ipykernel_15068\\2162656668.py:1: DeprecationWarning: \n",
      "Pyarrow will become a required dependency of pandas in the next major release of pandas (pandas 3.0),\n",
      "(to allow more performant data types, such as the Arrow string type, and better interoperability with other libraries)\n",
      "but was not found to be installed on your system.\n",
      "If this would cause problems for you,\n",
      "please provide us feedback at https://github.com/pandas-dev/pandas/issues/54466\n",
      "        \n",
      "  import pandas as pd\n"
     ]
    }
   ],
   "source": [
    "import pandas as pd\n",
    "import numpy as np"
   ]
  },
  {
   "cell_type": "code",
   "execution_count": 2,
   "id": "26fae465",
   "metadata": {},
   "outputs": [],
   "source": [
    "# pip install gurobipy\n",
    "import gurobipy as gp\n",
    "from gurobipy import GRB\n",
    "\n",
    "options = {\n",
    "    \"WLSACCESSID\": \"31598bc4-0b23-474f-86d4-af032d437137\",\n",
    "    \"WLSSECRET\": \"bd7ad348-f8d6-452e-b615-ebc88d920e41\",\n",
    "    \"LICENSEID\": 2498404,\n",
    "}"
   ]
  },
  {
   "cell_type": "code",
   "execution_count": 29,
   "id": "c38b2159",
   "metadata": {},
   "outputs": [],
   "source": [
    "df = pd.read_csv('data_20180119_20180420.csv',index_col=0)\n",
    "df = df.iloc[:80,:]"
   ]
  },
  {
   "cell_type": "code",
   "execution_count": 30,
   "id": "8c717b5a",
   "metadata": {},
   "outputs": [],
   "source": [
    "\n",
    "# df_0102 = df[df['t0'] == '2018-01-02']\n",
    "C1 = df['C1']\n",
    "C2 = df['C2']"
   ]
  },
  {
   "cell_type": "markdown",
   "id": "d82f0380",
   "metadata": {},
   "source": [
    "### Grid for stock price\n",
    "current setting S_{T2}, S_{T1} from range [1100,1300] and 20\\*20 discretization"
   ]
  },
  {
   "cell_type": "code",
   "execution_count": 31,
   "id": "e2052332",
   "metadata": {},
   "outputs": [],
   "source": [
    "def gen_Grid(S_0,epsilon,n):\n",
    "    S_min = S_0-epsilon\n",
    "    S_max = S_0+epsilon\n",
    "    S = np.linspace(S_min, S_max, num=n+1)\n",
    "    return S"
   ]
  },
  {
   "cell_type": "code",
   "execution_count": 32,
   "id": "2e4533d4",
   "metadata": {},
   "outputs": [],
   "source": [
    "N_j = 20\n",
    "epsi = 200\n",
    "S0 = df['S0'].unique()\n",
    "S = [gen_Grid(s,epsi,N_j) for s in S0]"
   ]
  },
  {
   "cell_type": "markdown",
   "id": "b4d581aa",
   "metadata": {},
   "source": [
    "### Optimization Variables\n",
    "variables to optimize: lambda_1, lambda_2, d, \\Delta_1, \\Delta_0"
   ]
  },
  {
   "cell_type": "code",
   "execution_count": 33,
   "id": "ac91e6a3",
   "metadata": {},
   "outputs": [],
   "source": [
    "m = gp.Model(\"Option Pricing\")\n",
    "lamb1 = m.addVars(df.index,name=\"lamb1\")\n",
    "lamb2 = m.addVars(df.index,name=\"lamb2\")\n",
    "d = m.addVars(['d'],name=\"d\")\n",
    "delta0 = m.addVars(['delta0'],name=\"delta0\")\n",
    "delta1 = m.addVars(np.array(S).flatten(),name=\"delta1\")"
   ]
  },
  {
   "cell_type": "markdown",
   "id": "7bc19f64",
   "metadata": {},
   "source": [
    "### Model Construction\n",
    "objective: min$d+\\sum_{i=1}^{N_1}\\lambda_{i,1}\\Pi_{i,1}+\\sum_{i=1}^{N_2}\\lambda_{i,2}\\Pi_{i,2}$\n",
    "\n",
    "constrains: for each grid point (S_i,S_j), we have\n",
    "\n",
    "$d+\\sum_{n=1}^{N_1}\\lambda_{n,1}(S_i-K_{n,1})^++\\sum_{n=1}^{N_2}\\lambda_{n,2}(S_j-K_{n,2})^++\\Delta_{0}\\cdot(S_i-S_0)+\\Delta_{1}^i\\cdot(S_j-S_i) >= \\Phi(S_i,S_j)$\n",
    "\n",
    "Current payoff $\\Phi(S_i,S_j) = S_j - S_i$"
   ]
  },
  {
   "cell_type": "code",
   "execution_count": 34,
   "id": "5bcd97fa",
   "metadata": {},
   "outputs": [],
   "source": [
    "m.setObjective(d['d']+sum(lamb1[r]*C1[r]+lamb2[r]*C2[r] for r in df.index))\n",
    "m.ModelSense = GRB.MINIMIZE"
   ]
  },
  {
   "cell_type": "code",
   "execution_count": 35,
   "id": "6d4e1ff4",
   "metadata": {},
   "outputs": [
    {
     "name": "stdout",
     "output_type": "stream",
     "text": [
      "Warning for adding constraints: zero or small (< 1e-13) coefficients, ignored\n"
     ]
    }
   ],
   "source": [
    "def payoff(S1,S2):\n",
    "    return S2-S1\n",
    "for i in range(len(S0)):\n",
    "    S_t0 = S[i]\n",
    "    df_t0 = df[df['S0']==S0[i]]\n",
    "    for S_i in S_t0:\n",
    "        for S_j in S_t0:\n",
    "            m.addConstr(d['d']+sum(lamb1[r]*max(S_i-r,0)+lamb2[r]*max(S_j-r,0) for r in df_t0.index)+delta0['delta0']*(S_i-S0[i])+delta1[S_i]*(S_j-S_i) >= payoff(S_i,S_j),'C_{}{}'.format(S_i,S_j))\n",
    "            m.update()"
   ]
  },
  {
   "cell_type": "code",
   "execution_count": 36,
   "id": "c64a4e4e",
   "metadata": {},
   "outputs": [
    {
     "name": "stdout",
     "output_type": "stream",
     "text": [
      "Gurobi Optimizer version 11.0.1 build v11.0.1rc0 (win64 - Windows 11.0 (22000.2))\n",
      "\n",
      "CPU model: AMD Ryzen 7 5800H with Radeon Graphics, instruction set [SSE2|AVX|AVX2]\n",
      "Thread count: 8 physical cores, 16 logical processors, using up to 16 threads\n",
      "\n",
      "Optimize a model with 1764 rows, 246 columns and 43932 nonzeros\n",
      "Model fingerprint: 0xd04b1bcb\n",
      "Coefficient statistics:\n",
      "  Matrix range     [2e-01, 4e+02]\n",
      "  Objective range  [4e-01, 4e+02]\n",
      "  Bounds range     [0e+00, 0e+00]\n",
      "  RHS range        [2e+01, 4e+02]\n",
      "Presolve removed 229 rows and 9 columns\n",
      "Presolve time: 0.02s\n",
      "Presolved: 1535 rows, 237 columns, 38005 nonzeros\n",
      "\n",
      "Iteration    Objective       Primal Inf.    Dual Inf.      Time\n",
      "       0    0.0000000e+00   8.172500e+03   0.000000e+00      0s\n",
      "      77    0.0000000e+00   0.000000e+00   0.000000e+00      0s\n",
      "\n",
      "Solved in 77 iterations and 0.04 seconds (0.03 work units)\n",
      "Optimal objective  0.000000000e+00\n"
     ]
    }
   ],
   "source": [
    "m.optimize()"
   ]
  },
  {
   "cell_type": "code",
   "execution_count": 37,
   "id": "69fcc845",
   "metadata": {},
   "outputs": [
    {
     "data": {
      "text/plain": [
       "{'delta0': <gurobi.Var delta0[delta0] (value 0.0)>}"
      ]
     },
     "execution_count": 37,
     "metadata": {},
     "output_type": "execute_result"
    }
   ],
   "source": [
    "delta0"
   ]
  },
  {
   "cell_type": "code",
   "execution_count": null,
   "id": "566b102a",
   "metadata": {},
   "outputs": [],
   "source": []
  }
 ],
 "metadata": {
  "kernelspec": {
   "display_name": "tf310",
   "language": "python",
   "name": "tf310"
  },
  "language_info": {
   "codemirror_mode": {
    "name": "ipython",
    "version": 3
   },
   "file_extension": ".py",
   "mimetype": "text/x-python",
   "name": "python",
   "nbconvert_exporter": "python",
   "pygments_lexer": "ipython3",
   "version": "3.10.13"
  }
 },
 "nbformat": 4,
 "nbformat_minor": 5
}
