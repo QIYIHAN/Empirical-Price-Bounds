{
 "cells": [
  {
   "cell_type": "code",
   "execution_count": 1,
   "id": "caaea384",
   "metadata": {},
   "outputs": [],
   "source": [
    "import numpy as np\n",
    "import pandas as pd\n",
    "import tensorflow as tf"
   ]
  },
  {
   "cell_type": "markdown",
   "id": "864ccfe5",
   "metadata": {},
   "source": [
    "### Data"
   ]
  },
  {
   "cell_type": "code",
   "execution_count": 2,
   "id": "8cee3fce",
   "metadata": {},
   "outputs": [
    {
     "data": {
      "text/html": [
       "<div>\n",
       "<style scoped>\n",
       "    .dataframe tbody tr th:only-of-type {\n",
       "        vertical-align: middle;\n",
       "    }\n",
       "\n",
       "    .dataframe tbody tr th {\n",
       "        vertical-align: top;\n",
       "    }\n",
       "\n",
       "    .dataframe thead th {\n",
       "        text-align: right;\n",
       "    }\n",
       "</style>\n",
       "<table border=\"1\" class=\"dataframe\">\n",
       "  <thead>\n",
       "    <tr style=\"text-align: right;\">\n",
       "      <th></th>\n",
       "      <th>t0</th>\n",
       "      <th>T1</th>\n",
       "      <th>K1</th>\n",
       "      <th>C1</th>\n",
       "      <th>T2</th>\n",
       "      <th>K2</th>\n",
       "      <th>C2</th>\n",
       "      <th>S0</th>\n",
       "      <th>Adj_S0</th>\n",
       "    </tr>\n",
       "  </thead>\n",
       "  <tbody>\n",
       "    <tr>\n",
       "      <th>0</th>\n",
       "      <td>2018-01-02</td>\n",
       "      <td>2018-01-19</td>\n",
       "      <td>1000.0</td>\n",
       "      <td>191.525</td>\n",
       "      <td>2018-04-20</td>\n",
       "      <td>800.0</td>\n",
       "      <td>396.725000</td>\n",
       "      <td>59.4505</td>\n",
       "      <td>1189.01001</td>\n",
       "    </tr>\n",
       "    <tr>\n",
       "      <th>1</th>\n",
       "      <td>2018-01-02</td>\n",
       "      <td>2018-01-19</td>\n",
       "      <td>1100.0</td>\n",
       "      <td>92.525</td>\n",
       "      <td>2018-04-20</td>\n",
       "      <td>1015.0</td>\n",
       "      <td>191.675000</td>\n",
       "      <td>59.4505</td>\n",
       "      <td>1189.01001</td>\n",
       "    </tr>\n",
       "    <tr>\n",
       "      <th>2</th>\n",
       "      <td>2018-01-02</td>\n",
       "      <td>2018-01-19</td>\n",
       "      <td>1150.0</td>\n",
       "      <td>46.075</td>\n",
       "      <td>2018-04-20</td>\n",
       "      <td>1025.0</td>\n",
       "      <td>183.025000</td>\n",
       "      <td>59.4505</td>\n",
       "      <td>1189.01001</td>\n",
       "    </tr>\n",
       "    <tr>\n",
       "      <th>3</th>\n",
       "      <td>2018-01-02</td>\n",
       "      <td>2018-01-19</td>\n",
       "      <td>1160.0</td>\n",
       "      <td>38.000</td>\n",
       "      <td>2018-04-20</td>\n",
       "      <td>1050.0</td>\n",
       "      <td>157.776341</td>\n",
       "      <td>59.4505</td>\n",
       "      <td>1189.01001</td>\n",
       "    </tr>\n",
       "    <tr>\n",
       "      <th>4</th>\n",
       "      <td>2018-01-02</td>\n",
       "      <td>2018-01-19</td>\n",
       "      <td>1170.0</td>\n",
       "      <td>30.450</td>\n",
       "      <td>2018-04-20</td>\n",
       "      <td>1080.0</td>\n",
       "      <td>137.850000</td>\n",
       "      <td>59.4505</td>\n",
       "      <td>1189.01001</td>\n",
       "    </tr>\n",
       "  </tbody>\n",
       "</table>\n",
       "</div>"
      ],
      "text/plain": [
       "           t0          T1      K1       C1          T2      K2          C2  \\\n",
       "0  2018-01-02  2018-01-19  1000.0  191.525  2018-04-20   800.0  396.725000   \n",
       "1  2018-01-02  2018-01-19  1100.0   92.525  2018-04-20  1015.0  191.675000   \n",
       "2  2018-01-02  2018-01-19  1150.0   46.075  2018-04-20  1025.0  183.025000   \n",
       "3  2018-01-02  2018-01-19  1160.0   38.000  2018-04-20  1050.0  157.776341   \n",
       "4  2018-01-02  2018-01-19  1170.0   30.450  2018-04-20  1080.0  137.850000   \n",
       "\n",
       "        S0      Adj_S0  \n",
       "0  59.4505  1189.01001  \n",
       "1  59.4505  1189.01001  \n",
       "2  59.4505  1189.01001  \n",
       "3  59.4505  1189.01001  \n",
       "4  59.4505  1189.01001  "
      ]
     },
     "execution_count": 2,
     "metadata": {},
     "output_type": "execute_result"
    }
   ],
   "source": [
    "df = pd.read_csv('data_20180119_20180420.csv', index_col=0)\n",
    "df.head()"
   ]
  },
  {
   "cell_type": "code",
   "execution_count": 3,
   "id": "9fea67b2",
   "metadata": {},
   "outputs": [],
   "source": [
    "S0 = df['Adj_S0'].unique()"
   ]
  },
  {
   "cell_type": "code",
   "execution_count": 4,
   "id": "10dac694",
   "metadata": {},
   "outputs": [],
   "source": [
    "t0List = list(df.t0.unique())\n",
    "\n",
    "# dimension: K[k-th t0][t1 and t2][i-th option with i-th strike]\n",
    "K = [[np.array(df.loc[df.t0 == t0,'K1']),np.array(df.loc[df.t0==t0,'K2'])] for t0 in t0List]\n",
    "\n",
    "# dimension: Pi[k-th t0][t1 and t2][i-th option with i-th price]\n",
    "Pi = [[np.array(df.loc[df.t0 == t0,'C1']),np.array(df.loc[df.t0==t0,'C2'])] for t0 in t0List]"
   ]
  },
  {
   "cell_type": "code",
   "execution_count": 5,
   "id": "d248ce9b",
   "metadata": {},
   "outputs": [],
   "source": [
    "# number of t0\n",
    "N_t0 = len(t0List)\n",
    "\n",
    "# number of times (t1, t2)\n",
    "T = 2\n",
    "\n",
    "# number of options in hedging\n",
    "N1, N2 = 20, 20\n",
    "Size = max(N1, N2)"
   ]
  },
  {
   "cell_type": "code",
   "execution_count": 37,
   "id": "03640997",
   "metadata": {},
   "outputs": [],
   "source": [
    "# Assume marginal distribution is uniform\n",
    "def margDistr(batch_size):\n",
    "    data = np.random.uniform(size=(N_t0, batch_size, T))\n",
    "    eps = 100\n",
    "    for i in range(N_t0):\n",
    "        for t in range(T):\n",
    "            data[i,:,t] = (S0[i]-eps) + 2*eps*data[i,:,t]\n",
    "    return data"
   ]
  },
  {
   "cell_type": "code",
   "execution_count": 38,
   "id": "8183bd73",
   "metadata": {},
   "outputs": [],
   "source": [
    "BATCH_SIZE = 1000\n",
    "S = margDistr(BATCH_SIZE)\n",
    "\n",
    "# different S for different t0: 13*Batch_size*2"
   ]
  },
  {
   "cell_type": "code",
   "execution_count": 39,
   "id": "5e04437f",
   "metadata": {},
   "outputs": [],
   "source": [
    "Phi = (S[:,:,1]-S[:,:,0])\n",
    "# define the payoff function of the derivative"
   ]
  },
  {
   "cell_type": "markdown",
   "id": "6ca4deba",
   "metadata": {},
   "source": [
    "### Variables"
   ]
  },
  {
   "cell_type": "code",
   "execution_count": 32,
   "id": "f076e25a",
   "metadata": {},
   "outputs": [],
   "source": [
    "# parameter: d\n",
    "d = tf.Variable(\n",
    "    initial_value = tf.random.normal(shape=[N_t0, 1], dtype=tf.float64),\n",
    "    trainable = True,\n",
    "    name = 'd'\n",
    ")"
   ]
  },
  {
   "cell_type": "code",
   "execution_count": 33,
   "id": "9736a033",
   "metadata": {},
   "outputs": [],
   "source": [
    "# parameter: lambda\n",
    "Lambda = tf.Variable(\n",
    "    initial_value = tf.random.normal(shape=[N_t0, T, Size], dtype=tf.float64),\n",
    "    trainable = True,\n",
    "    name = 'lambda'\n",
    ")"
   ]
  },
  {
   "cell_type": "code",
   "execution_count": 34,
   "id": "82ac38cd",
   "metadata": {},
   "outputs": [],
   "source": [
    "# parameter: Delta_0\n",
    "Delta_0 = tf.Variable(\n",
    "    initial_value = tf.random.normal(shape=[N_t0, 1], dtype=tf.float64),\n",
    "    trainable = True,\n",
    "    name = 'Delta0'\n",
    ")"
   ]
  },
  {
   "cell_type": "code",
   "execution_count": 35,
   "id": "7724102e",
   "metadata": {},
   "outputs": [],
   "source": [
    "# neural network: Delta(S_1)\n",
    "Delta_1 = tf.keras.Sequential([\n",
    "    tf.keras.layers.Dense(100, activation='relu', input_shape=(BATCH_SIZE,)),\n",
    "    tf.keras.layers.Dense(50, activation='relu'),\n",
    "    tf.keras.layers.Dense(N_t0, activation='linear', dtype=tf.float64)\n",
    "])"
   ]
  },
  {
   "cell_type": "markdown",
   "id": "b0de9a5e",
   "metadata": {},
   "source": [
    "### The step-by-step computation of the objective function"
   ]
  },
  {
   "cell_type": "markdown",
   "id": "25d2030a",
   "metadata": {},
   "source": [
    "$d+\\sum_{i=1}^{N_1}\\lambda_{i,1}\\Pi_{i,1}+\\sum_{i=1}^{N_2}\\lambda_{i,2}\\Pi_{i,2}$"
   ]
  },
  {
   "cell_type": "code",
   "execution_count": null,
   "id": "8fa557a8",
   "metadata": {},
   "outputs": [],
   "source": [
    "hedgePrice = []\n",
    "for n in range(N_t0):\n",
    "    p = d[n]\n",
    "#     for t in range(T):\n",
    "#         p += tf.reduce_sum(Lambda[n,t,:]*Pi[n][t][:])\n",
    "    hedgePrice.append(p)"
   ]
  },
  {
   "cell_type": "code",
   "execution_count": null,
   "id": "342db074",
   "metadata": {},
   "outputs": [],
   "source": [
    "# take a look\n",
    "hedgePrice"
   ]
  },
  {
   "cell_type": "markdown",
   "id": "7a0b8ec7",
   "metadata": {},
   "source": [
    "$d+\\sum_{i=1}^{N_1}\\lambda_{i,1}(S_1-K_{i,1})^++\\sum_{i=1}^{N_2}\\lambda_{i,2}(S_2-K_{i,2})^++\\Delta_{0}\\cdot(S_1-S_0)+\\Delta_{1}(S_1)\\cdot(S_2-S_1)$"
   ]
  },
  {
   "cell_type": "code",
   "execution_count": null,
   "id": "b63409cb",
   "metadata": {},
   "outputs": [],
   "source": [
    "hedgeTerm = []\n",
    "for n in range(N_t0):\n",
    "    p = d[n]\n",
    "#     for t in range(T):\n",
    "#         p += tf.reduce_sum($d+\\sum_{i=1}^{N_1}\\lambda_{i,1}(S_1-K_{i,1})^++\\sum_{i=1}^{N_2}\\lambda_{i,2}(S_2-K_{i,2})^++\\Delta_{0}\\cdot(S_1-S_0)+\\Delta_{1}(S_1)\\cdot(S_2-S_1)$Lambda[n,t,:]*tf.maximum(S[n,:,t].reshape(BATCH_SIZE,1)-K[n][t][:],0),axis=1)\n",
    "    p += Delta_0[n,0]*(S[n,:,0]-S0[n])\n",
    "    p += Delta_1(S[n,:,0].reshape((1,-1)))[0,n]*(S[n,:,1]-S[n,:,0])\n",
    "    hedgeTerm.append(p)"
   ]
  },
  {
   "cell_type": "code",
   "execution_count": null,
   "id": "29ac9af4",
   "metadata": {},
   "outputs": [],
   "source": [
    "# take a look\n",
    "hedgeTerm"
   ]
  },
  {
   "cell_type": "markdown",
   "id": "d6640b70",
   "metadata": {},
   "source": [
    "$\\inf_{h\\in\\mathcal{H}^m}\\int hd\\mu_0+\\int \\beta_\\gamma(c-h)d\\theta$"
   ]
  },
  {
   "cell_type": "markdown",
   "id": "7280407b",
   "metadata": {},
   "source": [
    "$d+\\sum_{i=1}^{N_1}\\lambda_{i,1}\\Pi_{i,1}+\\sum_{i=1}^{N_2}\\lambda_{i,2}\\Pi_{i,2} + \\Gamma\\cdot\\left[\\left(\\Phi(S_1,S_2)-d-\\sum_{i=1}^{N_1}\\lambda_{i,1}(S_1-K_{i,1})^+-\\sum_{i=1}^{N_2}\\lambda_{i,2}(S_2-K_{i,2})^+-\\Delta_{0}\\cdot(S_1-S_0)-\\Delta_{1}(S_1)\\cdot(S_2-S_1)\\right)^+\\right]^2$"
   ]
  },
  {
   "cell_type": "code",
   "execution_count": null,
   "id": "64580a34",
   "metadata": {},
   "outputs": [],
   "source": [
    "# objective function\n",
    "Price = tf.reduce_mean(hedgePrice, axis=1)\n",
    "\n",
    "Gamma = 100\n",
    "diff = Phi - tf.stack(hedgeTerm, axis=0)\n",
    "Penalty = tf.reduce_mean(tf.square(tf.nn.relu(diff)), axis=1)\n",
    "\n",
    "ObjFunc = Price + Gamma*Penalty"
   ]
  },
  {
   "cell_type": "code",
   "execution_count": null,
   "id": "9289044c",
   "metadata": {},
   "outputs": [],
   "source": [
    "# take a look\n",
    "Price"
   ]
  },
  {
   "cell_type": "code",
   "execution_count": null,
   "id": "e62ee9c4",
   "metadata": {},
   "outputs": [],
   "source": [
    "# take a look\n",
    "Penalty"
   ]
  },
  {
   "cell_type": "code",
   "execution_count": null,
   "id": "b7cc1015",
   "metadata": {},
   "outputs": [],
   "source": [
    "# take a look\n",
    "ObjFunc"
   ]
  },
  {
   "cell_type": "markdown",
   "id": "358bad0e",
   "metadata": {},
   "source": [
    "### Optimisation"
   ]
  },
  {
   "cell_type": "code",
   "execution_count": 16,
   "id": "bff6e140",
   "metadata": {},
   "outputs": [],
   "source": [
    "# Combine all the computation as a function\n",
    "def ObjFunc(d, Delta_0, Delta_1, K, Pi, Phi, S):\n",
    "    hedgePrice = []\n",
    "    for n in range(N_t0):\n",
    "        p = d[n]\n",
    "#         for t in range(T):\n",
    "#             p += tf.reduce_sum(Lambda[n,t,:]*Pi[n][t][:])\n",
    "        hedgePrice.append(p)\n",
    "    \n",
    "    hedgeTerm = []\n",
    "    for n in range(N_t0):\n",
    "        p = d[n]\n",
    "#         for t in range(T):\n",
    "#             p += tf.reduce_sum(Lambda[n,t,:]*tf.maximum(S[n,:,t].reshape(BATCH_SIZE,1)-K[n][t][:],0),axis=1)\n",
    "        p += Delta_0[n,0]*(S[n,:,0]-S0[n])\n",
    "        p += Delta_1(S[n,:,0].reshape((1,-1)))[0,n]*(S[n,:,1]-S[n,:,0])\n",
    "        hedgeTerm.append(p)\n",
    "    \n",
    "    Price = tf.reduce_mean(hedgePrice, axis=1)\n",
    "    Gamma = 100\n",
    "    diff = Phi-tf.stack(hedgeTerm, axis=0)\n",
    "    Penalty = tf.reduce_mean(tf.square(tf.nn.relu(diff)), axis=1)\n",
    "    \n",
    "    return Price + Gamma*Penalty, Price"
   ]
  },
  {
   "cell_type": "code",
   "execution_count": 17,
   "id": "ac555683",
   "metadata": {},
   "outputs": [],
   "source": [
    "optimizer = tf.keras.optimizers.legacy.Adam(learning_rate = 0.01)"
   ]
  },
  {
   "cell_type": "code",
   "execution_count": 18,
   "id": "28ea6f2e",
   "metadata": {},
   "outputs": [
    {
     "name": "stdout",
     "output_type": "stream",
     "text": [
      "Processing progress: 500 / 10000\n",
      "Processing progress: 1000 / 10000\n",
      "Processing progress: 1500 / 10000\n",
      "Processing progress: 2000 / 10000\n",
      "Processing progress: 2500 / 10000\n",
      "Processing progress: 3000 / 10000\n",
      "Processing progress: 3500 / 10000\n",
      "Processing progress: 4000 / 10000\n",
      "Processing progress: 4500 / 10000\n",
      "Processing progress: 5000 / 10000\n",
      "Processing progress: 5500 / 10000\n",
      "Processing progress: 6000 / 10000\n",
      "Processing progress: 6500 / 10000\n",
      "Processing progress: 7000 / 10000\n",
      "Processing progress: 7500 / 10000\n",
      "Processing progress: 8000 / 10000\n",
      "Processing progress: 8500 / 10000\n",
      "Processing progress: 9000 / 10000\n",
      "Processing progress: 9500 / 10000\n",
      "Processing progress: 10000 / 10000\n"
     ]
    }
   ],
   "source": [
    "nIter = 10000\n",
    "threshold = 1e-6\n",
    "prev_price = tf.ones((N_t0,), dtype = tf.float64) * float('inf')\n",
    "\n",
    "for step in range(nIter):\n",
    "    if (step+1) % 500 == 0:\n",
    "        print(\"Processing progress: %d / %d\" %(step+1, nIter))\n",
    "    with tf.GradientTape(persistent=True) as tape:\n",
    "        tape.watch(d)\n",
    "#         tape.watch(Lambda)\n",
    "        tape.watch(Delta_0)\n",
    "        for variable in Delta_1.trainable_variables:\n",
    "            tape.watch(variable)\n",
    "\n",
    "        obj, price = ObjFunc(d, Delta_0, Delta_1, K, Pi, Phi, S)\n",
    "    \n",
    "#     gradients_d, gradients_Lambda, gradients_Delta_0 = tape.gradient(obj, [d, Lambda, Delta_0])\n",
    "    gradients_d, gradients_Delta_0 = tape.gradient(obj, [d, Delta_0])\n",
    "    gradients_Delta_1 = tape.gradient(obj, Delta_1.trainable_variables)\n",
    "    optimizer.apply_gradients(\n",
    "#         zip([gradients_d, gradients_Lambda, gradients_Delta_0] + gradients_Delta_1, \n",
    "#             [d, Lambda, Delta_0] + Delta_1.trainable_variables))\n",
    "        zip([gradients_d, gradients_Delta_0] + gradients_Delta_1, [d, Delta_0] + Delta_1.trainable_variables)\n",
    "    )\n",
    "    \n",
    "    diff = tf.abs(price - prev_price)\n",
    "    if tf.reduce_max(diff) < threshold:\n",
    "        print(\"Converged at step\", step+1)\n",
    "        break\n",
    "    \n",
    "    prev_price = price\n",
    "    \n",
    "    del tape"
   ]
  },
  {
   "cell_type": "code",
   "execution_count": 19,
   "id": "2cd29ed3",
   "metadata": {},
   "outputs": [
    {
     "data": {
      "text/plain": [
       "<tf.Tensor: shape=(13,), dtype=float64, numpy=\n",
       "array([ 0.49227187,  1.16494568,  2.93348616,  1.80973401,  2.18908984,\n",
       "        2.57377356,  1.11413516,  1.92718658,  2.07509368, -0.63996679,\n",
       "        2.86719127,  3.27949728,  3.09626755])>"
      ]
     },
     "execution_count": 19,
     "metadata": {},
     "output_type": "execute_result"
    }
   ],
   "source": [
    "price"
   ]
  },
  {
   "cell_type": "code",
   "execution_count": 20,
   "id": "f8867256",
   "metadata": {},
   "outputs": [
    {
     "data": {
      "text/plain": [
       "<tf.Tensor: shape=(13,), dtype=float64, numpy=\n",
       "array([5.17504514e-01, 1.86705208e+00, 3.88200318e+02, 8.90709015e+00,\n",
       "       1.75551470e+01, 3.69299975e+00, 1.96877076e+00, 1.82921316e+02,\n",
       "       2.84157782e+00, 1.07603300e+02, 1.14320129e+03, 2.52247335e+02,\n",
       "       7.49344729e+01])>"
      ]
     },
     "execution_count": 20,
     "metadata": {},
     "output_type": "execute_result"
    }
   ],
   "source": [
    "obj"
   ]
  },
  {
   "cell_type": "code",
   "execution_count": 40,
   "id": "d2b35ec6",
   "metadata": {},
   "outputs": [
    {
     "data": {
      "text/plain": [
       "<tf.Tensor: shape=(13,), dtype=float64, numpy=\n",
       "array([2.52326456e-02, 7.02106392e-01, 3.85266832e+02, 7.09735615e+00,\n",
       "       1.53660571e+01, 1.11922619e+00, 8.54635604e-01, 1.80994129e+02,\n",
       "       7.66484148e-01, 1.08243267e+02, 1.14033410e+03, 2.48967838e+02,\n",
       "       7.18382053e+01])>"
      ]
     },
     "execution_count": 40,
     "metadata": {},
     "output_type": "execute_result"
    }
   ],
   "source": [
    "obj-price"
   ]
  },
  {
   "cell_type": "code",
   "execution_count": null,
   "id": "8d890cf0",
   "metadata": {},
   "outputs": [],
   "source": []
  }
 ],
 "metadata": {
  "kernelspec": {
   "display_name": "Python 3 (ipykernel)",
   "language": "python",
   "name": "python3"
  },
  "language_info": {
   "codemirror_mode": {
    "name": "ipython",
    "version": 3
   },
   "file_extension": ".py",
   "mimetype": "text/x-python",
   "name": "python",
   "nbconvert_exporter": "python",
   "pygments_lexer": "ipython3",
   "version": "3.11.3"
  }
 },
 "nbformat": 4,
 "nbformat_minor": 5
}
