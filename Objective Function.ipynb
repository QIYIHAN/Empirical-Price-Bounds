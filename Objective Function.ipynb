{
 "cells": [
  {
   "cell_type": "code",
   "execution_count": 1,
   "id": "caaea384",
   "metadata": {},
   "outputs": [],
   "source": [
    "import numpy as np\n",
    "import pandas as pd\n",
    "import tensorflow as tf"
   ]
  },
  {
   "cell_type": "markdown",
   "id": "864ccfe5",
   "metadata": {},
   "source": [
    "### Data"
   ]
  },
  {
   "cell_type": "code",
   "execution_count": 2,
   "id": "8cee3fce",
   "metadata": {},
   "outputs": [
    {
     "data": {
      "text/html": [
       "<div>\n",
       "<style scoped>\n",
       "    .dataframe tbody tr th:only-of-type {\n",
       "        vertical-align: middle;\n",
       "    }\n",
       "\n",
       "    .dataframe tbody tr th {\n",
       "        vertical-align: top;\n",
       "    }\n",
       "\n",
       "    .dataframe thead th {\n",
       "        text-align: right;\n",
       "    }\n",
       "</style>\n",
       "<table border=\"1\" class=\"dataframe\">\n",
       "  <thead>\n",
       "    <tr style=\"text-align: right;\">\n",
       "      <th></th>\n",
       "      <th>t0</th>\n",
       "      <th>T1</th>\n",
       "      <th>K1</th>\n",
       "      <th>C1</th>\n",
       "      <th>T2</th>\n",
       "      <th>K2</th>\n",
       "      <th>C2</th>\n",
       "      <th>S0</th>\n",
       "      <th>Adj_S0</th>\n",
       "    </tr>\n",
       "  </thead>\n",
       "  <tbody>\n",
       "    <tr>\n",
       "      <th>0</th>\n",
       "      <td>2018-01-02</td>\n",
       "      <td>2018-01-19</td>\n",
       "      <td>1000.0</td>\n",
       "      <td>191.525</td>\n",
       "      <td>2018-04-20</td>\n",
       "      <td>800.0</td>\n",
       "      <td>396.725000</td>\n",
       "      <td>59.4505</td>\n",
       "      <td>1189.01001</td>\n",
       "    </tr>\n",
       "    <tr>\n",
       "      <th>1</th>\n",
       "      <td>2018-01-02</td>\n",
       "      <td>2018-01-19</td>\n",
       "      <td>1100.0</td>\n",
       "      <td>92.525</td>\n",
       "      <td>2018-04-20</td>\n",
       "      <td>1015.0</td>\n",
       "      <td>191.675000</td>\n",
       "      <td>59.4505</td>\n",
       "      <td>1189.01001</td>\n",
       "    </tr>\n",
       "    <tr>\n",
       "      <th>2</th>\n",
       "      <td>2018-01-02</td>\n",
       "      <td>2018-01-19</td>\n",
       "      <td>1150.0</td>\n",
       "      <td>46.075</td>\n",
       "      <td>2018-04-20</td>\n",
       "      <td>1025.0</td>\n",
       "      <td>183.025000</td>\n",
       "      <td>59.4505</td>\n",
       "      <td>1189.01001</td>\n",
       "    </tr>\n",
       "    <tr>\n",
       "      <th>3</th>\n",
       "      <td>2018-01-02</td>\n",
       "      <td>2018-01-19</td>\n",
       "      <td>1160.0</td>\n",
       "      <td>38.000</td>\n",
       "      <td>2018-04-20</td>\n",
       "      <td>1050.0</td>\n",
       "      <td>157.776341</td>\n",
       "      <td>59.4505</td>\n",
       "      <td>1189.01001</td>\n",
       "    </tr>\n",
       "    <tr>\n",
       "      <th>4</th>\n",
       "      <td>2018-01-02</td>\n",
       "      <td>2018-01-19</td>\n",
       "      <td>1170.0</td>\n",
       "      <td>30.450</td>\n",
       "      <td>2018-04-20</td>\n",
       "      <td>1080.0</td>\n",
       "      <td>137.850000</td>\n",
       "      <td>59.4505</td>\n",
       "      <td>1189.01001</td>\n",
       "    </tr>\n",
       "  </tbody>\n",
       "</table>\n",
       "</div>"
      ],
      "text/plain": [
       "           t0          T1      K1       C1          T2      K2          C2  \\\n",
       "0  2018-01-02  2018-01-19  1000.0  191.525  2018-04-20   800.0  396.725000   \n",
       "1  2018-01-02  2018-01-19  1100.0   92.525  2018-04-20  1015.0  191.675000   \n",
       "2  2018-01-02  2018-01-19  1150.0   46.075  2018-04-20  1025.0  183.025000   \n",
       "3  2018-01-02  2018-01-19  1160.0   38.000  2018-04-20  1050.0  157.776341   \n",
       "4  2018-01-02  2018-01-19  1170.0   30.450  2018-04-20  1080.0  137.850000   \n",
       "\n",
       "        S0      Adj_S0  \n",
       "0  59.4505  1189.01001  \n",
       "1  59.4505  1189.01001  \n",
       "2  59.4505  1189.01001  \n",
       "3  59.4505  1189.01001  \n",
       "4  59.4505  1189.01001  "
      ]
     },
     "execution_count": 2,
     "metadata": {},
     "output_type": "execute_result"
    }
   ],
   "source": [
    "df = pd.read_csv('data_20180119_20180420.csv', index_col=0)\n",
    "df.head()"
   ]
  },
  {
   "cell_type": "code",
   "execution_count": 3,
   "id": "3ac31881",
   "metadata": {},
   "outputs": [
    {
     "data": {
      "text/plain": [
       "array([1189.01000977, 1204.19998169, 1209.58999634, 1229.14001465,\n",
       "       1246.8699646 , 1252.69996643, 1254.32998657, 1276.67999268,\n",
       "       1305.20004272, 1304.85992432, 1295.        , 1293.32000732,\n",
       "       1294.57992554])"
      ]
     },
     "execution_count": 3,
     "metadata": {},
     "output_type": "execute_result"
    }
   ],
   "source": [
    "df.Adj_S0.unique()"
   ]
  },
  {
   "cell_type": "code",
   "execution_count": 4,
   "id": "10dac694",
   "metadata": {},
   "outputs": [],
   "source": [
    "t0List = list(df.t0.unique())\n",
    "\n",
    "# dimension: K[k-th t0][t1 and t2][i-th option with i-th strike]\n",
    "K = [[np.array(df.loc[df.t0 == t0,'K1']),np.array(df.loc[df.t0==t0,'K2'])] for t0 in t0List]\n",
    "\n",
    "# dimension: Pi[k-th t0][t1 and t2][i-th option with i-th price]\n",
    "Pi = [[np.array(df.loc[df.t0 == t0,'C1']),np.array(df.loc[df.t0==t0,'C2'])] for t0 in t0List]"
   ]
  },
  {
   "cell_type": "code",
   "execution_count": 5,
   "id": "d248ce9b",
   "metadata": {},
   "outputs": [],
   "source": [
    "# number of t0\n",
    "N_t0 = len(t0List)\n",
    "\n",
    "# number of times (t1, t2)\n",
    "T = 2\n",
    "\n",
    "# number of options in hedging\n",
    "N1, N2 = 20, 20\n",
    "Size = max(N1, N2)"
   ]
  },
  {
   "cell_type": "code",
   "execution_count": 6,
   "id": "03640997",
   "metadata": {},
   "outputs": [],
   "source": [
    "# Assume marginal distribution is uniform\n",
    "def margDistr(batch_size):\n",
    "    data = np.random.uniform(size=(batch_size, T))\n",
    "    for t in range(T):\n",
    "        data[:, t] = S_min + (S_max - S_min) * data[:, t] # just a simple test, need further consideration\n",
    "    return data"
   ]
  },
  {
   "cell_type": "code",
   "execution_count": 7,
   "id": "8183bd73",
   "metadata": {},
   "outputs": [],
   "source": [
    "# arbitrary\n",
    "S_max = 2000\n",
    "S_min = 500\n",
    "BATCH_SIZE = 1000\n",
    "\n",
    "S = margDistr(BATCH_SIZE)"
   ]
  },
  {
   "cell_type": "code",
   "execution_count": 8,
   "id": "5e04437f",
   "metadata": {},
   "outputs": [],
   "source": [
    "Phi = (S[:,1]-S[:,0])\n",
    "# define the payoff function of the derivative"
   ]
  },
  {
   "cell_type": "markdown",
   "id": "6ca4deba",
   "metadata": {},
   "source": [
    "### Variables"
   ]
  },
  {
   "cell_type": "code",
   "execution_count": 9,
   "id": "f076e25a",
   "metadata": {},
   "outputs": [],
   "source": [
    "# parameter: d\n",
    "d = tf.Variable(\n",
    "    initial_value = tf.random.normal(shape=[N_t0, 1], dtype=tf.float64),\n",
    "    trainable = True,\n",
    "    name = 'd'\n",
    ")"
   ]
  },
  {
   "cell_type": "code",
   "execution_count": 10,
   "id": "9736a033",
   "metadata": {},
   "outputs": [],
   "source": [
    "# parameter: lambda\n",
    "Lambda = tf.Variable(\n",
    "    initial_value = tf.random.normal(shape=[N_t0, T, Size], dtype=tf.float64),\n",
    "    trainable = True,\n",
    "    name = 'lambda'\n",
    ")"
   ]
  },
  {
   "cell_type": "code",
   "execution_count": null,
   "id": "82ac38cd",
   "metadata": {},
   "outputs": [],
   "source": [
    "# # parameter: Delta\n",
    "# Delta = tf.Variable(\n",
    "#     initial_value = tf.random.normal(shape=[N_t0, T-1], dtype=tf.float64),\n",
    "#     trainable = True,\n",
    "#     name = 'Delta'\n",
    "# )"
   ]
  },
  {
   "cell_type": "code",
   "execution_count": 11,
   "id": "7724102e",
   "metadata": {},
   "outputs": [],
   "source": [
    "# neural network: Delta(S_1)\n",
    "Delta = tf.keras.Sequential([\n",
    "    tf.keras.layers.Dense(100, activation='relu', input_shape=(BATCH_SIZE,)),\n",
    "    tf.keras.layers.Dense(50, activation='relu'),\n",
    "    tf.keras.layers.Dense(N_t0, activation='linear', dtype=tf.float64)\n",
    "])"
   ]
  },
  {
   "cell_type": "markdown",
   "id": "b0de9a5e",
   "metadata": {},
   "source": [
    "### The step-by-step computation of the objective function"
   ]
  },
  {
   "cell_type": "markdown",
   "id": "25d2030a",
   "metadata": {},
   "source": [
    "$d+\\sum_{i=1}^{N_1}\\lambda_{i,1}\\Pi_{i,1}+\\sum_{i=1}^{N_2}\\lambda_{i,2}\\Pi_{i,2}$"
   ]
  },
  {
   "cell_type": "code",
   "execution_count": null,
   "id": "e8907179",
   "metadata": {},
   "outputs": [],
   "source": [
    "hedgePrice = []\n",
    "for n in range(N_t0):\n",
    "    p = d[n]\n",
    "    for t in range(T):\n",
    "        p += tf.reduce_sum(Lambda[n,t,:]*Pi[n][t][:])\n",
    "    hedgePrice.append(p)"
   ]
  },
  {
   "cell_type": "code",
   "execution_count": null,
   "id": "53d68b7c",
   "metadata": {},
   "outputs": [],
   "source": [
    "# take a look\n",
    "hedgePrice"
   ]
  },
  {
   "cell_type": "markdown",
   "id": "7a0b8ec7",
   "metadata": {},
   "source": [
    "$d+\\sum_{i=1}^{N_1}\\lambda_{i,1}(S_1-K_{i,1})^++\\sum_{i=1}^{N_2}\\lambda_{i,2}(S_2-K_{i,2})^++\\Delta_{1}(S_1)\\cdot(S_2-S_1)$"
   ]
  },
  {
   "cell_type": "code",
   "execution_count": null,
   "id": "479d8f92",
   "metadata": {},
   "outputs": [],
   "source": [
    "hedgeTerm = []\n",
    "for n in range(N_t0):\n",
    "    p = d[n]\n",
    "    for t in range(T):\n",
    "        p += tf.reduce_sum(Lambda[n,t,:]*np.maximum(S[:,t].reshape(BATCH_SIZE,1)-K[n][t][:],0),axis=1)\n",
    "#     for t in range(T-1):\n",
    "#         p += Delta[n,t]*(S[:,t+1]-S[:,t])\n",
    "    p += Delta(S[:,0].reshape((1,-1)))[0,n]*(S[:,1]-S[:,0])\n",
    "    hedgeTerm.append(p)"
   ]
  },
  {
   "cell_type": "code",
   "execution_count": null,
   "id": "5f6eb2a6",
   "metadata": {},
   "outputs": [],
   "source": [
    "# take a look\n",
    "hedgeTerm"
   ]
  },
  {
   "cell_type": "markdown",
   "id": "d6640b70",
   "metadata": {},
   "source": [
    "$\\inf_{h\\in\\mathcal{H}^m}\\int hd\\mu_0+\\int \\beta_\\gamma(c-h)d\\theta$"
   ]
  },
  {
   "cell_type": "markdown",
   "id": "7280407b",
   "metadata": {},
   "source": [
    "$d+\\sum_{i=1}^{N_1}\\lambda_{i,1}\\Pi_{i,1}+\\sum_{i=1}^{N_2}\\lambda_{i,2}\\Pi_{i,2} + \\Gamma\\cdot\\left[\\left(\\Phi(S_1,S_2)-d-\\sum_{i=1}^{N_1}\\lambda_{i,1}(S_1-K_{i,1})^+-\\sum_{i=1}^{N_2}\\lambda_{i,2}(S_2-K_{i,2})^+-\\Delta_{1}(S_1)\\cdot(S_2-S_1)\\right)^+\\right]^2$"
   ]
  },
  {
   "cell_type": "code",
   "execution_count": null,
   "id": "304eca70",
   "metadata": {},
   "outputs": [],
   "source": [
    "# objective function\n",
    "Price = tf.reduce_mean(hedgePrice, axis=1)\n",
    "\n",
    "Gamma = 100\n",
    "diff = Phi - tf.stack(hedgeTerm, axis=0)\n",
    "Penalty = tf.reduce_mean(tf.square(tf.nn.relu(diff)), axis=1)\n",
    "\n",
    "ObjFunc = Price + Gamma*Penalty"
   ]
  },
  {
   "cell_type": "code",
   "execution_count": null,
   "id": "22fee79a",
   "metadata": {},
   "outputs": [],
   "source": [
    "# take a look\n",
    "Price"
   ]
  },
  {
   "cell_type": "code",
   "execution_count": null,
   "id": "10d95cfe",
   "metadata": {},
   "outputs": [],
   "source": [
    "# take a look\n",
    "Penalty"
   ]
  },
  {
   "cell_type": "code",
   "execution_count": null,
   "id": "a9d73280",
   "metadata": {},
   "outputs": [],
   "source": [
    "# take a look\n",
    "ObjFunc"
   ]
  },
  {
   "cell_type": "markdown",
   "id": "358bad0e",
   "metadata": {},
   "source": [
    "### Optimisation"
   ]
  },
  {
   "cell_type": "code",
   "execution_count": 12,
   "id": "bff6e140",
   "metadata": {},
   "outputs": [],
   "source": [
    "# Combine all the computation as a function\n",
    "def ObjFunc(d, Lambda, Delta, K, Pi, Phi, S):\n",
    "    hedgePrice = []\n",
    "    for n in range(N_t0):\n",
    "        p = d[n]\n",
    "        for t in range(T):\n",
    "            p += tf.reduce_sum(Lambda[n,t,:]*Pi[n][t][:])\n",
    "        hedgePrice.append(p)\n",
    "    \n",
    "    hedgeTerm = []\n",
    "    for n in range(N_t0):\n",
    "        p = d[n]\n",
    "        for t in range(T):\n",
    "            p += tf.reduce_sum(Lambda[n,t,:]*np.maximum(S[:,t].reshape(BATCH_SIZE,1)-K[n][t][:],0),axis=1)\n",
    "#         for t in range(T-1):\n",
    "#             p += Delta[n,t]*(S[:,t+1]-S[:,t])\n",
    "        p += Delta(S[:,0].reshape((1,-1)))[0,n]*(S[:,1]-S[:,0]) # Delta as a neural network\n",
    "        hedgeTerm.append(p)\n",
    "    \n",
    "    Price = tf.reduce_mean(hedgePrice, axis=1)\n",
    "    Gamma = 100\n",
    "    diff = Phi-tf.stack(hedgeTerm, axis=0)\n",
    "    Penalty = tf.reduce_mean(tf.square(tf.nn.relu(diff)), axis=1)\n",
    "    \n",
    "    return Price + Gamma*Penalty, Price"
   ]
  },
  {
   "cell_type": "code",
   "execution_count": 13,
   "id": "ac555683",
   "metadata": {},
   "outputs": [],
   "source": [
    "optimizer = tf.keras.optimizers.legacy.Adam(learning_rate = 0.01)"
   ]
  },
  {
   "cell_type": "code",
   "execution_count": null,
   "id": "248099fe",
   "metadata": {},
   "outputs": [],
   "source": [
    "# for step in range(10000):\n",
    "#     with tf.GradientTape() as tape:\n",
    "#         obj, price = ObjFunc(d, Lambda, Delta, K, Pi, Phi, S)\n",
    "#     gradients = tape.gradient(obj, [d, Lambda, Delta])\n",
    "#     optimizer.apply_gradients(zip(gradients, [d, Lambda, Delta]))"
   ]
  },
  {
   "cell_type": "code",
   "execution_count": 14,
   "id": "28ea6f2e",
   "metadata": {},
   "outputs": [
    {
     "name": "stdout",
     "output_type": "stream",
     "text": [
      "Processing progress: 500 / 10000\n",
      "Processing progress: 1000 / 10000\n",
      "Processing progress: 1500 / 10000\n",
      "Processing progress: 2000 / 10000\n",
      "Processing progress: 2500 / 10000\n",
      "Processing progress: 3000 / 10000\n",
      "Processing progress: 3500 / 10000\n",
      "Processing progress: 4000 / 10000\n",
      "Processing progress: 4500 / 10000\n",
      "Processing progress: 5000 / 10000\n",
      "Processing progress: 5500 / 10000\n",
      "Processing progress: 6000 / 10000\n",
      "Processing progress: 6500 / 10000\n",
      "Processing progress: 7000 / 10000\n",
      "Processing progress: 7500 / 10000\n",
      "Processing progress: 8000 / 10000\n",
      "Processing progress: 8500 / 10000\n",
      "Processing progress: 9000 / 10000\n",
      "Processing progress: 9500 / 10000\n",
      "Processing progress: 10000 / 10000\n"
     ]
    }
   ],
   "source": [
    "nIter = 10000\n",
    "threshold = 1e-3\n",
    "prev_price = tf.ones((N_t0,), dtype = tf.float64) * float('inf')\n",
    "\n",
    "for step in range(nIter):\n",
    "    if (step+1) % 500 == 0:\n",
    "        print(\"Processing progress: %d / %d\" %(step+1, nIter))\n",
    "    with tf.GradientTape(persistent=True) as tape:\n",
    "        tape.watch(d)\n",
    "        tape.watch(Lambda)\n",
    "        for variable in Delta.trainable_variables:\n",
    "            tape.watch(variable)\n",
    "\n",
    "        obj, price = ObjFunc(d, Lambda, Delta, K, Pi, Phi, S)\n",
    "    gradients_d, gradients_Lambda = tape.gradient(obj, [d, Lambda])\n",
    "    gradients_Delta = tape.gradient(obj, Delta.trainable_variables)\n",
    "    \n",
    "    optimizer.apply_gradients(\n",
    "        zip([gradients_d, gradients_Lambda] + gradients_Delta, [d, Lambda] + Delta.trainable_variables)\n",
    "    )\n",
    "    \n",
    "    diff = tf.abs(price - prev_price)\n",
    "    if tf.reduce_max(diff) < threshold:\n",
    "        print(\"Converged at step\", step+1)\n",
    "        break\n",
    "    \n",
    "    prev_price = price\n",
    "    \n",
    "    del tape"
   ]
  },
  {
   "cell_type": "code",
   "execution_count": 15,
   "id": "2cd29ed3",
   "metadata": {},
   "outputs": [
    {
     "data": {
      "text/plain": [
       "<tf.Tensor: shape=(13,), dtype=float64, numpy=\n",
       "array([1846.04158057, 2287.81239117, 1232.17535339, 1640.84158345,\n",
       "       1943.41340725, 1844.56311771, 1468.06375039, 2685.85338762,\n",
       "       1538.07631024, 1455.77228534,  586.77604876, 1007.23436402,\n",
       "       1023.71286479])>"
      ]
     },
     "execution_count": 15,
     "metadata": {},
     "output_type": "execute_result"
    }
   ],
   "source": [
    "price"
   ]
  },
  {
   "cell_type": "code",
   "execution_count": 16,
   "id": "f8867256",
   "metadata": {},
   "outputs": [
    {
     "data": {
      "text/plain": [
       "<tf.Tensor: shape=(13,), dtype=float64, numpy=\n",
       "array([  45800.66618212,  309332.08605599,  660210.13423921,\n",
       "        204526.34046012,  474613.85133449,  275540.83762481,\n",
       "        783213.11918003, 1207762.6979749 ,  700177.47090859,\n",
       "       2201075.72219859,  854946.31098821,  799002.38621799,\n",
       "        484389.06464796])>"
      ]
     },
     "execution_count": 16,
     "metadata": {},
     "output_type": "execute_result"
    }
   ],
   "source": [
    "obj"
   ]
  },
  {
   "cell_type": "code",
   "execution_count": 17,
   "id": "e82e2c65",
   "metadata": {},
   "outputs": [
    {
     "data": {
      "text/plain": [
       "<tf.Variable 'd:0' shape=(13, 1) dtype=float64, numpy=\n",
       "array([[ 0.82723749],\n",
       "       [ 1.27846338],\n",
       "       [-1.28390829],\n",
       "       [ 1.64108849],\n",
       "       [ 1.48160762],\n",
       "       [ 1.30468823],\n",
       "       [-0.07723492],\n",
       "       [-0.1865495 ],\n",
       "       [ 0.07746713],\n",
       "       [ 2.82613325],\n",
       "       [ 0.24593387],\n",
       "       [ 1.86815251],\n",
       "       [ 1.76615673]])>"
      ]
     },
     "execution_count": 17,
     "metadata": {},
     "output_type": "execute_result"
    }
   ],
   "source": [
    "d"
   ]
  },
  {
   "cell_type": "code",
   "execution_count": 18,
   "id": "72a214ed",
   "metadata": {},
   "outputs": [
    {
     "data": {
      "text/plain": [
       "<tf.Variable 'lambda:0' shape=(13, 2, 20) dtype=float64, numpy=\n",
       "array([[[-3.94857550e-01,  3.81436315e-01,  6.30794188e-01,\n",
       "          7.05266450e-01,  1.98299723e+00,  6.95990007e-01,\n",
       "         -5.62977974e-01,  1.31768904e+00,  1.57961815e+00,\n",
       "          8.15769428e-01,  1.21923810e+00,  1.51031783e+00,\n",
       "          1.73394799e+00,  3.07366378e-01,  2.91920203e-01,\n",
       "          1.22554135e+00, -4.55773539e-01,  1.47815340e+00,\n",
       "          4.74966148e-01,  1.53526247e+00],\n",
       "        [ 1.08618202e+00,  3.02047716e-01,  2.08354406e+00,\n",
       "          4.98177302e-01,  2.22602044e+00,  7.40569702e-01,\n",
       "          1.77191428e-01,  9.43560285e-01,  5.89826464e-01,\n",
       "          3.22999898e-01,  4.09001434e-01, -1.11557779e+00,\n",
       "          1.72740110e+00, -2.98513785e-02,  4.78586926e-01,\n",
       "          1.70752156e-01,  2.56557242e+00,  1.10110186e+00,\n",
       "          4.19947266e-01,  3.56195211e-01]],\n",
       "\n",
       "       [[ 4.37049943e-01,  2.62590396e+00,  5.26282711e-01,\n",
       "         -4.61248548e-01, -2.75882335e-01, -6.29292850e-01,\n",
       "          1.58610601e+00, -6.72300952e-01, -2.33597623e-01,\n",
       "          1.86327945e+00,  7.75369399e-01,  3.04660565e-01,\n",
       "          1.26685798e+00, -6.65768995e-02,  8.83612109e-01,\n",
       "          7.78582632e-01,  8.40562192e-01,  9.03047165e-01,\n",
       "         -5.21014806e-01,  1.29491784e+00],\n",
       "        [ 2.14968565e+00,  1.39222350e+00,  1.54356686e+00,\n",
       "          1.39776618e+00,  5.08073223e-01,  6.98411336e-01,\n",
       "          3.70479255e-01,  7.72652095e-01,  9.67712016e-01,\n",
       "          1.01160894e+00,  1.18883265e+00,  2.17705715e+00,\n",
       "         -3.17316770e-01,  1.18303658e-01,  2.07785281e-01,\n",
       "          1.14561084e+00, -9.08825070e-02, -3.18339546e-01,\n",
       "          3.28888783e-01,  6.95611660e-01]],\n",
       "\n",
       "       [[ 1.10476731e+00,  1.24791570e+00, -2.47732608e+00,\n",
       "         -4.82823668e-01,  1.04187011e+00, -9.26160611e-01,\n",
       "          1.95645989e+00,  5.20189329e-01, -5.08523116e-01,\n",
       "          2.27592868e+00,  7.96356746e-01,  1.02509595e+00,\n",
       "          1.73825783e+00,  9.83625136e-01,  1.72038986e+00,\n",
       "         -2.20795007e-01,  2.06368578e+00,  1.99425976e+00,\n",
       "         -5.63494495e-01,  5.99268722e-01],\n",
       "        [ 8.38191895e-01,  5.11088325e-01,  9.48635302e-01,\n",
       "          1.62032347e+00, -7.88742532e-01, -8.67752994e-01,\n",
       "         -1.47478303e+00,  1.43083747e+00,  1.08155320e+00,\n",
       "         -9.44369788e-02,  5.99320863e-02,  2.18974784e+00,\n",
       "          8.99721957e-01,  1.44573651e+00, -2.84280763e-01,\n",
       "          2.34585337e+00,  2.52454995e-01,  1.17086553e+00,\n",
       "          6.11612784e-01,  1.03938022e+00]],\n",
       "\n",
       "       [[-9.47112265e-02,  3.96261407e-01,  1.50967437e+00,\n",
       "          1.04011691e+00,  1.23740846e+00,  1.28078099e+00,\n",
       "         -6.23196049e-01,  1.30718410e+00,  9.41592602e-01,\n",
       "          1.37622008e+00,  4.39200454e-01, -3.75382909e-02,\n",
       "         -8.83981071e-01,  4.10807391e-01, -8.06801866e-02,\n",
       "          2.28619979e-01,  5.86787850e-01,  1.49145558e+00,\n",
       "          3.56380961e-01,  3.42290630e-01],\n",
       "        [ 1.54203506e+00,  1.47910929e+00, -3.27094297e-02,\n",
       "          6.84741044e-01,  7.20874994e-01, -1.80566600e-01,\n",
       "          9.23743100e-01,  5.71062097e-01, -5.60880595e-01,\n",
       "          1.74757355e+00,  5.30450900e-01, -9.49461608e-01,\n",
       "          1.18062797e+00,  2.09837536e+00,  1.02217683e+00,\n",
       "         -5.59789097e-01,  1.58540653e-01, -7.31804509e-01,\n",
       "         -4.33608679e-01,  2.32293978e+00]],\n",
       "\n",
       "       [[-6.22993924e-01,  1.83184477e+00,  1.32489927e+00,\n",
       "         -7.61206181e-01,  1.42771732e+00, -5.19499491e-01,\n",
       "          2.20592741e+00,  1.46456234e+00,  2.89975566e-01,\n",
       "          1.35983422e-01,  9.72648294e-01,  1.02527210e+00,\n",
       "          8.09053015e-01, -1.00071610e-01,  1.14486909e+00,\n",
       "         -5.83184598e-01,  1.57591959e+00, -9.94815882e-02,\n",
       "          7.19714768e-01, -2.67104150e+00],\n",
       "        [ 1.00315075e+00,  1.02466632e+00,  3.62682614e-01,\n",
       "          2.78557435e+00,  4.17456678e-01,  1.44938246e+00,\n",
       "          9.53493270e-01,  3.46795219e+00,  8.68392074e-01,\n",
       "         -3.62476942e-01,  4.53962197e-01,  1.28717302e+00,\n",
       "         -1.23108806e+00,  7.70061709e-01,  5.99291075e-01,\n",
       "         -9.20321166e-02, -9.67512876e-01, -1.97756177e-01,\n",
       "          1.27826282e+00, -1.56550268e-01]],\n",
       "\n",
       "       [[ 7.59283760e-01,  3.94188792e-01,  1.34772257e+00,\n",
       "          6.27789134e-01,  1.17263776e+00,  1.81960955e+00,\n",
       "          4.49548737e-01, -4.26288508e-02,  1.37798796e+00,\n",
       "          1.14254021e+00,  1.75749732e+00, -1.04569146e+00,\n",
       "         -6.35768458e-01,  7.83926715e-01,  2.68816773e-01,\n",
       "         -3.96641276e-02,  1.61048557e+00,  1.05045230e+00,\n",
       "          1.45840972e+00,  1.70016956e+00],\n",
       "        [ 1.06754996e+00,  1.00414437e+00,  6.36261388e-01,\n",
       "          1.65746873e+00, -8.95568118e-03, -5.71887820e-04,\n",
       "          1.06811132e+00,  2.27034910e+00,  3.14429426e+00,\n",
       "         -9.82835185e-02,  2.53272737e+00, -3.87964969e-01,\n",
       "          1.05183329e+00,  2.30928865e+00,  1.17752631e+00,\n",
       "          2.80721033e-01,  5.41758379e-01,  2.65855145e+00,\n",
       "          1.37269957e-01,  4.11254767e-01]],\n",
       "\n",
       "       [[ 1.53638784e+00, -7.84176725e-02,  2.07046716e-01,\n",
       "          1.40130169e+00,  8.23692911e-01,  7.57328301e-01,\n",
       "          8.84838195e-01,  4.87450606e-01, -2.30097782e-01,\n",
       "          1.83600185e+00,  1.67254548e-01,  5.04311582e-01,\n",
       "          9.60690916e-01,  8.32372394e-01,  1.14737233e+00,\n",
       "          3.96757513e-01,  8.38222818e-01,  1.72022681e+00,\n",
       "          9.96703727e-01,  1.39847768e+00],\n",
       "        [-3.61893250e-01,  7.12397380e-01,  1.44176257e+00,\n",
       "          8.84512419e-01,  1.33634423e+00,  2.42196541e-01,\n",
       "         -4.66863012e-01,  1.53587007e+00, -5.12701388e-01,\n",
       "          5.86277602e-01,  8.48917071e-01, -1.96216305e+00,\n",
       "          2.54560329e+00,  5.12898309e-01,  6.28093522e-01,\n",
       "          6.01350951e-01,  9.12669040e-01,  1.59027037e+00,\n",
       "         -1.05497191e+00,  1.03541935e-02]],\n",
       "\n",
       "       [[-3.02881741e-01,  1.09247343e+00,  8.60711978e-01,\n",
       "         -1.65008533e+00,  1.57851959e+00,  2.42080176e+00,\n",
       "          9.30561313e-01,  2.20084882e-01,  9.04714645e-01,\n",
       "         -2.93580618e-02,  6.46646074e-01,  1.12035651e+00,\n",
       "         -1.67451116e+00,  2.87902395e+00, -4.36182309e-01,\n",
       "          7.58733588e-01,  6.71187233e-01, -7.20790269e-01,\n",
       "         -1.98881599e-01, -8.19084841e-01],\n",
       "        [ 1.34394604e+00,  6.44459334e-01,  1.92629508e+00,\n",
       "          2.12548948e+00,  2.29118946e+00,  2.77459863e+00,\n",
       "          6.26951593e-01,  4.42888000e-01, -1.48077127e-02,\n",
       "          1.90979679e+00,  4.11629419e-01,  1.56795339e-01,\n",
       "          8.39125045e-01,  4.85348381e-01,  6.18559527e-01,\n",
       "          2.08018715e+00,  5.50429306e-01,  1.33194992e+00,\n",
       "          9.52592795e-01, -1.37076955e+00]],\n",
       "\n",
       "       [[ 7.30042178e-01,  1.00204584e+00,  2.53851739e+00,\n",
       "          2.36776726e-01,  2.89592375e-01,  1.04264778e+00,\n",
       "          3.40496736e-01,  6.82530697e-01, -3.54027619e-01,\n",
       "         -1.47020720e+00, -1.55882916e-01, -9.06214427e-01,\n",
       "          7.22033504e-01,  9.58082202e-01,  4.04508373e-01,\n",
       "         -3.29369552e-01,  5.55793275e-01, -1.37831310e+00,\n",
       "          7.35600726e-01,  6.29447458e-01],\n",
       "        [ 1.71639206e+00,  1.47619780e+00,  7.49980040e-01,\n",
       "          5.65260766e-02,  3.14156268e-01,  3.20758511e-01,\n",
       "         -2.52436652e-01,  1.01243980e+00,  1.06576359e+00,\n",
       "          4.19543870e-01,  6.65383816e-01,  1.22097827e+00,\n",
       "         -2.56780874e+00,  2.29646596e-02,  7.01255059e-01,\n",
       "         -1.10907678e-01, -6.93861859e-01,  1.46043041e+00,\n",
       "          1.24481276e+00,  1.33362066e+00]],\n",
       "\n",
       "       [[ 8.19291037e-01,  2.34924133e-01, -2.92854805e-01,\n",
       "          1.64153157e+00, -8.87512132e-01, -1.34176502e+00,\n",
       "          1.77102835e-01,  1.33504223e+00,  1.04755179e+00,\n",
       "          2.71190369e+00,  1.98171424e+00, -9.01378125e-01,\n",
       "          7.07154883e-01,  6.92031728e-01, -6.48298933e-01,\n",
       "          1.42081668e+00,  1.73985573e+00,  4.10523993e-01,\n",
       "          9.89630592e-01,  2.41637206e+00],\n",
       "        [-1.41087663e-01,  1.94012703e+00,  2.04861465e+00,\n",
       "          1.47376393e+00,  3.14738121e-01,  2.40029152e+00,\n",
       "         -1.23824132e-01,  5.49779186e-01,  2.63362927e-01,\n",
       "          5.26336204e-01,  1.52532922e+00,  1.20980809e-01,\n",
       "         -2.37206539e-01,  8.30161642e-01,  1.13015770e+00,\n",
       "          4.81453148e-01, -1.63016637e+00,  1.20891357e-01,\n",
       "          1.32439160e+00,  8.78858239e-02]],\n",
       "\n",
       "       [[-1.97912213e-01, -7.20144461e-01,  6.96965632e-01,\n",
       "          1.88479484e+00,  2.86029420e+00,  1.42181302e+00,\n",
       "         -6.11135197e-01,  1.21298449e+00,  5.44289734e-01,\n",
       "          5.64552108e-01,  1.86800162e+00,  1.40816274e+00,\n",
       "         -9.06301073e-02,  1.85430425e-01,  1.58440306e-01,\n",
       "         -7.46454499e-01, -2.49757540e-01,  4.88820749e-01,\n",
       "          2.62949024e+00,  7.68339625e-01],\n",
       "        [ 1.00377408e+00, -9.84275142e-01,  1.34379684e+00,\n",
       "         -8.91696740e-01,  9.44922125e-01, -3.27145121e-01,\n",
       "         -1.00047471e+00,  1.28291701e+00,  2.44635252e+00,\n",
       "          6.31811829e-01,  4.80806383e-01,  1.91456160e-01,\n",
       "         -2.97971069e-01,  7.53210063e-01, -1.67200944e+00,\n",
       "          1.20998134e+00,  2.05230885e+00, -6.94987237e-01,\n",
       "         -4.23194169e-01,  8.09499231e-01]],\n",
       "\n",
       "       [[-9.31713193e-01,  1.07820998e+00,  2.17472580e+00,\n",
       "          4.72044946e-01,  6.24569676e-01,  2.07644390e+00,\n",
       "          2.61286843e+00, -2.61753081e-01, -9.36514887e-01,\n",
       "          1.73218357e+00,  1.48327516e+00,  8.57362446e-01,\n",
       "          1.50357314e-01,  1.10433657e+00,  8.25152473e-02,\n",
       "          2.28587616e-01,  1.32361817e+00,  4.39828101e-01,\n",
       "          6.99541602e-01,  1.94303515e+00],\n",
       "        [ 3.79244756e-01,  2.05189521e+00, -9.96582421e-02,\n",
       "          1.17758657e+00,  8.58652004e-01,  1.19344800e+00,\n",
       "          2.02592624e+00,  1.99019344e+00,  8.83883769e-01,\n",
       "          2.45130674e-01, -4.30572751e-01, -7.75385400e-01,\n",
       "         -1.22437877e-01, -5.01757521e-01, -5.64039929e-01,\n",
       "          1.46363418e+00, -1.21301731e-01, -4.77172765e-01,\n",
       "          2.50342940e-01,  3.48923852e+00]],\n",
       "\n",
       "       [[ 1.22528114e+00,  1.13778852e-01,  1.21699188e+00,\n",
       "          2.55514726e+00,  6.36572498e-01,  2.92562928e+00,\n",
       "          9.93144252e-02, -8.52385933e-01,  1.36961612e-01,\n",
       "         -1.97957332e+00,  4.74566732e-01,  3.94958710e-01,\n",
       "          9.58539863e-01, -6.77619385e-01, -1.85278893e+00,\n",
       "          2.09837939e+00, -7.12015448e-01, -3.40493517e-01,\n",
       "          1.09297591e+00, -4.34015237e-01],\n",
       "        [ 1.70046225e+00,  1.59523190e+00, -1.58388523e+00,\n",
       "          2.20558073e+00,  6.79792936e-01,  1.56525682e+00,\n",
       "          1.77667326e+00, -9.48600886e-01,  4.52707673e-01,\n",
       "          5.53881044e-02, -3.22285738e-01, -1.54327425e+00,\n",
       "         -5.67361834e-01,  1.24105771e+00,  6.63404116e-02,\n",
       "         -7.07500807e-01,  6.47017208e-01, -6.83357821e-01,\n",
       "          1.48036550e+00,  8.01405803e-01]]])>"
      ]
     },
     "execution_count": 18,
     "metadata": {},
     "output_type": "execute_result"
    }
   ],
   "source": [
    "Lambda"
   ]
  },
  {
   "cell_type": "code",
   "execution_count": 19,
   "id": "09db52a5",
   "metadata": {},
   "outputs": [
    {
     "data": {
      "text/plain": [
       "<tf.Tensor: shape=(1, 13), dtype=float64, numpy=\n",
       "array([[0.51462862, 0.54844253, 0.77435069, 0.64216309, 0.4065882 ,\n",
       "        0.31276193, 0.74667481, 0.6102724 , 0.68174072, 0.97233619,\n",
       "        0.82401652, 0.45626345, 0.76556161]])>"
      ]
     },
     "execution_count": 19,
     "metadata": {},
     "output_type": "execute_result"
    }
   ],
   "source": [
    "Delta(S[:,0].reshape((1,-1)))"
   ]
  },
  {
   "cell_type": "code",
   "execution_count": null,
   "id": "d0d256db",
   "metadata": {},
   "outputs": [],
   "source": []
  }
 ],
 "metadata": {
  "kernelspec": {
   "display_name": "Python 3 (ipykernel)",
   "language": "python",
   "name": "python3"
  },
  "language_info": {
   "codemirror_mode": {
    "name": "ipython",
    "version": 3
   },
   "file_extension": ".py",
   "mimetype": "text/x-python",
   "name": "python",
   "nbconvert_exporter": "python",
   "pygments_lexer": "ipython3",
   "version": "3.11.3"
  }
 },
 "nbformat": 4,
 "nbformat_minor": 5
}
