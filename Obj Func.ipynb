{
 "cells": [
  {
   "cell_type": "code",
   "execution_count": 1,
   "id": "caaea384",
   "metadata": {},
   "outputs": [],
   "source": [
    "import numpy as np\n",
    "import pandas as pd\n",
    "import tensorflow as tf"
   ]
  },
  {
   "cell_type": "markdown",
   "id": "864ccfe5",
   "metadata": {},
   "source": [
    "### Data"
   ]
  },
  {
   "cell_type": "code",
   "execution_count": 2,
   "id": "8cee3fce",
   "metadata": {},
   "outputs": [
    {
     "data": {
      "text/html": [
       "<div>\n",
       "<style scoped>\n",
       "    .dataframe tbody tr th:only-of-type {\n",
       "        vertical-align: middle;\n",
       "    }\n",
       "\n",
       "    .dataframe tbody tr th {\n",
       "        vertical-align: top;\n",
       "    }\n",
       "\n",
       "    .dataframe thead th {\n",
       "        text-align: right;\n",
       "    }\n",
       "</style>\n",
       "<table border=\"1\" class=\"dataframe\">\n",
       "  <thead>\n",
       "    <tr style=\"text-align: right;\">\n",
       "      <th></th>\n",
       "      <th>t0</th>\n",
       "      <th>T1</th>\n",
       "      <th>K1</th>\n",
       "      <th>C1</th>\n",
       "      <th>T2</th>\n",
       "      <th>K2</th>\n",
       "      <th>C2</th>\n",
       "      <th>S0</th>\n",
       "      <th>Adj_S0</th>\n",
       "    </tr>\n",
       "  </thead>\n",
       "  <tbody>\n",
       "    <tr>\n",
       "      <th>0</th>\n",
       "      <td>2018-01-02</td>\n",
       "      <td>2018-01-19</td>\n",
       "      <td>1000.0</td>\n",
       "      <td>191.525</td>\n",
       "      <td>2018-04-20</td>\n",
       "      <td>800.0</td>\n",
       "      <td>396.725000</td>\n",
       "      <td>59.4505</td>\n",
       "      <td>1189.01001</td>\n",
       "    </tr>\n",
       "    <tr>\n",
       "      <th>1</th>\n",
       "      <td>2018-01-02</td>\n",
       "      <td>2018-01-19</td>\n",
       "      <td>1100.0</td>\n",
       "      <td>92.525</td>\n",
       "      <td>2018-04-20</td>\n",
       "      <td>1015.0</td>\n",
       "      <td>191.675000</td>\n",
       "      <td>59.4505</td>\n",
       "      <td>1189.01001</td>\n",
       "    </tr>\n",
       "    <tr>\n",
       "      <th>2</th>\n",
       "      <td>2018-01-02</td>\n",
       "      <td>2018-01-19</td>\n",
       "      <td>1150.0</td>\n",
       "      <td>46.075</td>\n",
       "      <td>2018-04-20</td>\n",
       "      <td>1025.0</td>\n",
       "      <td>183.025000</td>\n",
       "      <td>59.4505</td>\n",
       "      <td>1189.01001</td>\n",
       "    </tr>\n",
       "    <tr>\n",
       "      <th>3</th>\n",
       "      <td>2018-01-02</td>\n",
       "      <td>2018-01-19</td>\n",
       "      <td>1160.0</td>\n",
       "      <td>38.000</td>\n",
       "      <td>2018-04-20</td>\n",
       "      <td>1050.0</td>\n",
       "      <td>157.776341</td>\n",
       "      <td>59.4505</td>\n",
       "      <td>1189.01001</td>\n",
       "    </tr>\n",
       "    <tr>\n",
       "      <th>4</th>\n",
       "      <td>2018-01-02</td>\n",
       "      <td>2018-01-19</td>\n",
       "      <td>1170.0</td>\n",
       "      <td>30.450</td>\n",
       "      <td>2018-04-20</td>\n",
       "      <td>1080.0</td>\n",
       "      <td>137.850000</td>\n",
       "      <td>59.4505</td>\n",
       "      <td>1189.01001</td>\n",
       "    </tr>\n",
       "  </tbody>\n",
       "</table>\n",
       "</div>"
      ],
      "text/plain": [
       "           t0          T1      K1       C1          T2      K2          C2  \\\n",
       "0  2018-01-02  2018-01-19  1000.0  191.525  2018-04-20   800.0  396.725000   \n",
       "1  2018-01-02  2018-01-19  1100.0   92.525  2018-04-20  1015.0  191.675000   \n",
       "2  2018-01-02  2018-01-19  1150.0   46.075  2018-04-20  1025.0  183.025000   \n",
       "3  2018-01-02  2018-01-19  1160.0   38.000  2018-04-20  1050.0  157.776341   \n",
       "4  2018-01-02  2018-01-19  1170.0   30.450  2018-04-20  1080.0  137.850000   \n",
       "\n",
       "        S0      Adj_S0  \n",
       "0  59.4505  1189.01001  \n",
       "1  59.4505  1189.01001  \n",
       "2  59.4505  1189.01001  \n",
       "3  59.4505  1189.01001  \n",
       "4  59.4505  1189.01001  "
      ]
     },
     "execution_count": 2,
     "metadata": {},
     "output_type": "execute_result"
    }
   ],
   "source": [
    "df = pd.read_csv('data_20180119_20180420.csv', index_col=0)\n",
    "df.head()"
   ]
  },
  {
   "cell_type": "code",
   "execution_count": 3,
   "id": "3ac31881",
   "metadata": {},
   "outputs": [
    {
     "data": {
      "text/plain": [
       "array([1189.01000977, 1204.19998169, 1209.58999634, 1229.14001465,\n",
       "       1246.8699646 , 1252.69996643, 1254.32998657, 1276.67999268,\n",
       "       1305.20004272, 1304.85992432, 1295.        , 1293.32000732,\n",
       "       1294.57992554])"
      ]
     },
     "execution_count": 3,
     "metadata": {},
     "output_type": "execute_result"
    }
   ],
   "source": [
    "df.Adj_S0.unique()"
   ]
  },
  {
   "cell_type": "code",
   "execution_count": 4,
   "id": "10dac694",
   "metadata": {},
   "outputs": [],
   "source": [
    "t0List = list(df.t0.unique())\n",
    "\n",
    "# dimension: K[k-th t0][t1 and t2][i-th option with i-th strike]\n",
    "K = [[np.array(df.loc[df.t0 == t0,'K1']),np.array(df.loc[df.t0==t0,'K2'])] for t0 in t0List]\n",
    "\n",
    "# dimension: Pi[k-th t0][t1 and t2][i-th option with i-th price]\n",
    "Pi = [[np.array(df.loc[df.t0 == t0,'C1']),np.array(df.loc[df.t0==t0,'C2'])] for t0 in t0List]"
   ]
  },
  {
   "cell_type": "code",
   "execution_count": 5,
   "id": "d248ce9b",
   "metadata": {},
   "outputs": [],
   "source": [
    "# number of t0\n",
    "N_t0 = len(t0List)\n",
    "\n",
    "# number of times (t1, t2)\n",
    "T = 2\n",
    "\n",
    "# number of options in hedging\n",
    "N1, N2 = 20, 20\n",
    "Size = max(N1, N2)"
   ]
  },
  {
   "cell_type": "code",
   "execution_count": 6,
   "id": "03640997",
   "metadata": {},
   "outputs": [],
   "source": [
    "# Assume marginal distribution is uniform\n",
    "def margDistr(batch_size):\n",
    "    data = np.random.uniform(size=(batch_size, T))\n",
    "    for t in range(T):\n",
    "        data[:, t] = S_min + (S_max - S_min) * data[:, t] # just a simple test, need further consideration\n",
    "    return data"
   ]
  },
  {
   "cell_type": "code",
   "execution_count": 7,
   "id": "8183bd73",
   "metadata": {},
   "outputs": [],
   "source": [
    "# arbitrary\n",
    "S_max = 2000\n",
    "S_min = 500\n",
    "BATCH_SIZE = 100\n",
    "\n",
    "S = margDistr(BATCH_SIZE)"
   ]
  },
  {
   "cell_type": "code",
   "execution_count": 8,
   "id": "5e04437f",
   "metadata": {},
   "outputs": [],
   "source": [
    "Phi = (S[:,1]-S[:,0])\n",
    "# define the payoff function of the derivative"
   ]
  },
  {
   "cell_type": "markdown",
   "id": "6ca4deba",
   "metadata": {},
   "source": [
    "### Variables"
   ]
  },
  {
   "cell_type": "code",
   "execution_count": 9,
   "id": "f076e25a",
   "metadata": {},
   "outputs": [],
   "source": [
    "# parameter: d\n",
    "d = tf.Variable(\n",
    "    initial_value = tf.random.normal(shape=[N_t0, 1], dtype=tf.float64),\n",
    "    trainable = True,\n",
    "    name = 'd'\n",
    ")"
   ]
  },
  {
   "cell_type": "code",
   "execution_count": 10,
   "id": "9736a033",
   "metadata": {},
   "outputs": [],
   "source": [
    "# parameter: lambda\n",
    "Lambda = tf.Variable(\n",
    "    initial_value = tf.random.normal(shape=[N_t0, T, Size], dtype=tf.float64),\n",
    "    trainable = True,\n",
    "    name = 'lambda'\n",
    ")"
   ]
  },
  {
   "cell_type": "code",
   "execution_count": null,
   "id": "82ac38cd",
   "metadata": {},
   "outputs": [],
   "source": [
    "# # parameter: Delta\n",
    "# Delta = tf.Variable(\n",
    "#     initial_value = tf.random.normal(shape=[N_t0, T-1], dtype=tf.float64),\n",
    "#     trainable = True,\n",
    "#     name = 'Delta'\n",
    "# )"
   ]
  },
  {
   "cell_type": "code",
   "execution_count": 11,
   "id": "7724102e",
   "metadata": {},
   "outputs": [],
   "source": [
    "# neural network: Delta(S_1)\n",
    "Delta = tf.keras.Sequential([\n",
    "    tf.keras.layers.Dense(100, activation='relu', input_shape=(BATCH_SIZE,)),\n",
    "    tf.keras.layers.Dense(50, activation='relu'),\n",
    "    tf.keras.layers.Dense(N_t0, activation='linear', dtype=tf.float64)\n",
    "])"
   ]
  },
  {
   "cell_type": "markdown",
   "id": "b0de9a5e",
   "metadata": {},
   "source": [
    "### The step-by-step computation of the objective function"
   ]
  },
  {
   "cell_type": "markdown",
   "id": "25d2030a",
   "metadata": {},
   "source": [
    "$d+\\sum_{i=1}^{N_1}\\lambda_{i,1}\\Pi_{i,1}+\\sum_{i=1}^{N_2}\\lambda_{i,2}\\Pi_{i,2}$"
   ]
  },
  {
   "cell_type": "code",
   "execution_count": null,
   "id": "e8907179",
   "metadata": {},
   "outputs": [],
   "source": [
    "hedgePrice = []\n",
    "for n in range(N_t0):\n",
    "    p = d[n]\n",
    "    for t in range(T):\n",
    "        p += tf.reduce_sum(Lambda[n,t,:]*Pi[n][t][:])\n",
    "    hedgePrice.append(p)"
   ]
  },
  {
   "cell_type": "code",
   "execution_count": null,
   "id": "53d68b7c",
   "metadata": {},
   "outputs": [],
   "source": [
    "# take a look\n",
    "hedgePrice"
   ]
  },
  {
   "cell_type": "markdown",
   "id": "7a0b8ec7",
   "metadata": {},
   "source": [
    "$d+\\sum_{i=1}^{N_1}\\lambda_{i,1}(S_1-K_{i,1})^++\\sum_{i=1}^{N_2}\\lambda_{i,2}(S_2-K_{i,2})^++\\Delta_{1}(S_1)\\cdot(S_2-S_1)$"
   ]
  },
  {
   "cell_type": "code",
   "execution_count": null,
   "id": "479d8f92",
   "metadata": {},
   "outputs": [],
   "source": [
    "hedgeTerm = []\n",
    "for n in range(N_t0):\n",
    "    p = d[n]\n",
    "    for t in range(T):\n",
    "        p += tf.reduce_sum(Lambda[n,t,:]*np.maximum(S[:,t].reshape(BATCH_SIZE,1)-K[n][t][:],0),axis=1)\n",
    "#     for t in range(T-1):\n",
    "#         p += Delta[n,t]*(S[:,t+1]-S[:,t])\n",
    "    p += Delta(S[:,0].reshape((1,-1)))[0,n]*(S[:,1]-S[:,0])\n",
    "    hedgeTerm.append(p)"
   ]
  },
  {
   "cell_type": "code",
   "execution_count": null,
   "id": "5f6eb2a6",
   "metadata": {},
   "outputs": [],
   "source": [
    "# take a look\n",
    "hedgeTerm"
   ]
  },
  {
   "cell_type": "markdown",
   "id": "d6640b70",
   "metadata": {},
   "source": [
    "$\\inf_{h\\in\\mathcal{H}^m}\\int hd\\mu_0+\\int \\beta_\\gamma(c-h)d\\theta$"
   ]
  },
  {
   "cell_type": "markdown",
   "id": "7280407b",
   "metadata": {},
   "source": [
    "$d+\\sum_{i=1}^{N_1}\\lambda_{i,1}\\Pi_{i,1}+\\sum_{i=1}^{N_2}\\lambda_{i,2}\\Pi_{i,2} + \\Gamma\\cdot\\left[\\left(\\Phi(S_1,S_2)-d-\\sum_{i=1}^{N_1}\\lambda_{i,1}(S_1-K_{i,1})^+-\\sum_{i=1}^{N_2}\\lambda_{i,2}(S_2-K_{i,2})^+-\\Delta_{1}(S_1)\\cdot(S_2-S_1)\\right)^+\\right]^2$"
   ]
  },
  {
   "cell_type": "code",
   "execution_count": null,
   "id": "304eca70",
   "metadata": {},
   "outputs": [],
   "source": [
    "# objective function\n",
    "Price = tf.reduce_mean(hedgePrice, axis=1)\n",
    "\n",
    "Gamma = 100\n",
    "diff = Phi - tf.stack(hedgeTerm, axis=0)\n",
    "Penalty = tf.reduce_mean(tf.square(tf.nn.relu(diff)), axis=1)\n",
    "\n",
    "ObjFunc = Price + Gamma*Penalty"
   ]
  },
  {
   "cell_type": "code",
   "execution_count": null,
   "id": "22fee79a",
   "metadata": {},
   "outputs": [],
   "source": [
    "# take a look\n",
    "Price"
   ]
  },
  {
   "cell_type": "code",
   "execution_count": null,
   "id": "10d95cfe",
   "metadata": {},
   "outputs": [],
   "source": [
    "# take a look\n",
    "Penalty"
   ]
  },
  {
   "cell_type": "code",
   "execution_count": null,
   "id": "a9d73280",
   "metadata": {},
   "outputs": [],
   "source": [
    "# take a look\n",
    "ObjFunc"
   ]
  },
  {
   "cell_type": "markdown",
   "id": "358bad0e",
   "metadata": {},
   "source": [
    "### Optimisation"
   ]
  },
  {
   "cell_type": "code",
   "execution_count": 12,
   "id": "bff6e140",
   "metadata": {},
   "outputs": [],
   "source": [
    "# Combine all the computation as a function\n",
    "def ObjFunc(d, Lambda, Delta, K, Pi, Phi, S):\n",
    "    hedgePrice = []\n",
    "    for n in range(N_t0):\n",
    "        p = d[n]\n",
    "        for t in range(T):\n",
    "            p += tf.reduce_sum(Lambda[n,t,:]*Pi[n][t][:])\n",
    "        hedgePrice.append(p)\n",
    "    \n",
    "    hedgeTerm = []\n",
    "    for n in range(N_t0):\n",
    "        p = d[n]\n",
    "        for t in range(T):\n",
    "            p += tf.reduce_sum(Lambda[n,t,:]*np.maximum(S[:,t].reshape(BATCH_SIZE,1)-K[n][t][:],0),axis=1)\n",
    "#         for t in range(T-1):\n",
    "#             p += Delta[n,t]*(S[:,t+1]-S[:,t])\n",
    "        p += Delta(S[:,0].reshape((1,-1)))[0,n]*(S[:,1]-S[:,0]) # Delta as a neural network\n",
    "        hedgeTerm.append(p)\n",
    "    \n",
    "    Price = tf.reduce_mean(hedgePrice, axis=1)\n",
    "    Gamma = 100\n",
    "    diff = Phi-tf.stack(hedgeTerm, axis=0)\n",
    "    Penalty = tf.reduce_mean(tf.square(tf.nn.relu(diff)), axis=1)\n",
    "    \n",
    "    return Price + Gamma*Penalty, Price"
   ]
  },
  {
   "cell_type": "code",
   "execution_count": 13,
   "id": "ac555683",
   "metadata": {},
   "outputs": [],
   "source": [
    "optimizer = tf.keras.optimizers.legacy.Adam(learning_rate = 0.01)"
   ]
  },
  {
   "cell_type": "code",
   "execution_count": null,
   "id": "248099fe",
   "metadata": {},
   "outputs": [],
   "source": [
    "# for step in range(10000):\n",
    "#     with tf.GradientTape() as tape:\n",
    "#         obj, price = ObjFunc(d, Lambda, Delta, K, Pi, Phi, S)\n",
    "#     gradients = tape.gradient(obj, [d, Lambda, Delta])\n",
    "#     optimizer.apply_gradients(zip(gradients, [d, Lambda, Delta]))"
   ]
  },
  {
   "cell_type": "code",
   "execution_count": 14,
   "id": "28ea6f2e",
   "metadata": {},
   "outputs": [],
   "source": [
    "nIter = 10000\n",
    "for step in range(nIter):\n",
    "    with tf.GradientTape(persistent=True) as tape:\n",
    "        tape.watch(d)\n",
    "        tape.watch(Lambda)\n",
    "        for variable in Delta.trainable_variables:\n",
    "            tape.watch(variable)\n",
    "\n",
    "        obj, price = ObjFunc(d, Lambda, Delta, K, Pi, Phi, S)\n",
    "    \n",
    "    gradients_d, gradients_Lambda = tape.gradient(obj, [d, Lambda])\n",
    "    gradients_Delta = tape.gradient(obj, Delta.trainable_variables)\n",
    "    optimizer.apply_gradients(\n",
    "        zip([gradients_d, gradients_Lambda] + gradients_Delta, [d, Lambda] + Delta.trainable_variables)\n",
    "    )\n",
    "    \n",
    "    del tape"
   ]
  },
  {
   "cell_type": "code",
   "execution_count": 15,
   "id": "2cd29ed3",
   "metadata": {},
   "outputs": [
    {
     "data": {
      "text/plain": [
       "<tf.Tensor: shape=(13,), dtype=float64, numpy=\n",
       "array([ 671.76739186,  794.78787752,  904.54154047,  440.6109676 ,\n",
       "       1005.59053067, 1110.52942635,  391.43649585,  348.45865829,\n",
       "        589.67795933,  715.26383561,  481.58790378,  625.29003104,\n",
       "        514.80353895])>"
      ]
     },
     "execution_count": 15,
     "metadata": {},
     "output_type": "execute_result"
    }
   ],
   "source": [
    "price"
   ]
  },
  {
   "cell_type": "markdown",
   "id": "d06af572",
   "metadata": {},
   "source": [
    "Well... :("
   ]
  },
  {
   "cell_type": "code",
   "execution_count": 16,
   "id": "f8867256",
   "metadata": {},
   "outputs": [
    {
     "data": {
      "text/plain": [
       "<tf.Tensor: shape=(13,), dtype=float64, numpy=\n",
       "array([21676.35996899, 27781.92011305, 22379.0146769 , 22696.97779107,\n",
       "       57740.80482755, 83951.77695808, 10449.59180837, 23853.20227313,\n",
       "       18008.35219671,  1255.53817945,  7604.6633072 , 50987.91376935,\n",
       "       12062.75481656])>"
      ]
     },
     "execution_count": 16,
     "metadata": {},
     "output_type": "execute_result"
    }
   ],
   "source": [
    "obj"
   ]
  },
  {
   "cell_type": "code",
   "execution_count": 17,
   "id": "e82e2c65",
   "metadata": {},
   "outputs": [
    {
     "data": {
      "text/plain": [
       "<tf.Variable 'd:0' shape=(13, 1) dtype=float64, numpy=\n",
       "array([[3.07306406],\n",
       "       [1.80324025],\n",
       "       [2.02865352],\n",
       "       [1.7050854 ],\n",
       "       [1.25507869],\n",
       "       [1.58039725],\n",
       "       [3.85958367],\n",
       "       [2.65779118],\n",
       "       [1.29954066],\n",
       "       [3.6229174 ],\n",
       "       [2.13508354],\n",
       "       [2.66106179],\n",
       "       [1.9063431 ]])>"
      ]
     },
     "execution_count": 17,
     "metadata": {},
     "output_type": "execute_result"
    }
   ],
   "source": [
    "d"
   ]
  },
  {
   "cell_type": "code",
   "execution_count": 18,
   "id": "72a214ed",
   "metadata": {},
   "outputs": [
    {
     "data": {
      "text/plain": [
       "<tf.Variable 'lambda:0' shape=(13, 2, 20) dtype=float64, numpy=\n",
       "array([[[ 4.34791715e-01,  7.80651091e-01,  1.40569695e+00,\n",
       "         -3.44116282e-01, -7.16364313e-02, -3.62576486e-01,\n",
       "         -5.56808162e-02, -6.87064150e-01,  4.51096834e-01,\n",
       "          1.32000123e+00, -6.87492572e-01,  1.21544002e-01,\n",
       "          1.34078160e-01, -1.09744014e+00, -1.41622294e+00,\n",
       "          5.55917398e-01, -7.01567916e-02,  1.67519303e+00,\n",
       "          1.12799149e+00,  6.00803951e-01],\n",
       "        [ 1.14178483e+00,  3.11601236e-01,  1.23647794e-01,\n",
       "         -5.92975564e-01,  5.49229987e-03,  1.90597543e+00,\n",
       "         -8.61237304e-01, -1.05710697e+00, -6.97188304e-01,\n",
       "         -8.54977347e-01,  3.29056264e+00, -1.57277507e+00,\n",
       "         -2.87927294e-01, -1.43607513e+00,  3.97500677e-01,\n",
       "          2.20061190e-01, -4.08598555e-01,  1.26620329e+00,\n",
       "          2.53933050e+00,  4.76475058e-01]],\n",
       "\n",
       "       [[ 1.35242117e+00, -1.03396439e+00,  4.35452591e-01,\n",
       "          1.89746192e+00, -9.81499719e-01,  1.75788298e+00,\n",
       "         -1.87270330e+00,  1.46593111e+00, -6.80163175e-01,\n",
       "          9.76647451e-02,  1.73497346e-01,  1.67686779e+00,\n",
       "         -2.48749854e-01, -7.16474107e-02,  2.89858521e-01,\n",
       "          1.05304412e+00, -9.70921643e-01,  1.59313877e-01,\n",
       "         -4.71327433e-02, -3.45563412e-01],\n",
       "        [ 1.06340574e+00,  5.03233739e-01, -4.45818499e-01,\n",
       "          1.26187329e+00,  1.27373651e+00, -3.91056978e-01,\n",
       "          6.80244564e-01, -7.09180101e-01, -1.86696474e-01,\n",
       "          3.04678273e-02, -1.21630686e-01, -6.38723720e-01,\n",
       "          1.42771810e+00, -6.68279050e-02,  2.21464430e-01,\n",
       "          8.73214005e-01, -3.62904227e-01, -1.77026060e-01,\n",
       "         -1.20580204e+00,  8.99508971e-01]],\n",
       "\n",
       "       [[ 1.03794219e+00, -1.16897593e+00,  1.17993556e+00,\n",
       "          1.18099731e+00, -1.15421274e-01,  1.98608568e+00,\n",
       "          3.33992356e+00,  9.14626972e-01, -8.36387332e-01,\n",
       "          1.90064238e-01,  1.05464988e+00,  7.51643636e-01,\n",
       "          1.03377484e-01, -3.79650857e-01,  4.36516815e-01,\n",
       "          3.30319252e-01,  1.20726922e+00,  9.42194683e-01,\n",
       "          6.42970954e-01,  8.98717083e-01],\n",
       "        [-1.84472843e+00, -4.14006492e-01,  5.64316603e-01,\n",
       "         -8.34163291e-01,  6.77390268e-01,  1.53114255e+00,\n",
       "          2.76810620e-01,  1.36660854e+00,  2.23090577e-01,\n",
       "          2.28586234e+00, -1.45965760e+00,  9.50285374e-01,\n",
       "          1.37829817e+00,  2.25894020e+00, -2.29223477e-01,\n",
       "          1.79391969e+00,  7.72627457e-01,  3.07010449e-01,\n",
       "         -2.08944546e+00, -1.13846601e+00]],\n",
       "\n",
       "       [[ 4.81976339e-01,  5.38016322e-01, -3.70229917e-01,\n",
       "         -4.71516346e-01,  4.71814384e-01,  3.68978936e-01,\n",
       "          6.47751907e-01, -9.24270526e-01,  5.46183132e-01,\n",
       "          1.12604914e+00, -1.05273227e+00, -1.94231581e+00,\n",
       "          2.38776006e-01, -5.03929826e-01, -4.73024138e-01,\n",
       "         -1.27920896e+00,  2.47213026e+00, -1.66553821e+00,\n",
       "          1.46812629e+00, -3.95186932e-01],\n",
       "        [ 8.09461324e-01,  3.47480974e-01,  1.86160523e+00,\n",
       "         -1.92340492e+00,  3.16844798e-01, -3.37698382e-01,\n",
       "         -2.03516325e+00, -3.18900235e-02, -2.07929848e-02,\n",
       "          1.11337990e+00,  1.26596999e+00, -4.66709497e-01,\n",
       "          2.98510911e+00,  7.15636834e-01,  8.37861911e-01,\n",
       "         -6.58771123e-01, -5.01679043e-01,  5.28619524e-01,\n",
       "          7.78972391e-01, -5.91948073e-01]],\n",
       "\n",
       "       [[ 2.08405363e+00, -4.31600285e-02,  3.14504909e-01,\n",
       "         -4.85692012e-01, -8.55228974e-02, -3.79391139e-01,\n",
       "          6.52525927e-01, -2.50033983e-01,  5.22351561e-01,\n",
       "          6.88879188e-02,  6.82803130e-02,  1.09071345e+00,\n",
       "         -1.31421461e+00,  7.51298860e-01, -6.18686066e-01,\n",
       "         -1.17562166e+00, -1.13839579e+00,  5.44708159e-01,\n",
       "          1.06481584e+00,  2.25678078e+00],\n",
       "        [ 1.80541959e+00, -1.44800677e-01, -1.12786139e-02,\n",
       "          8.94719819e-01, -2.69837244e-01,  3.42686674e-01,\n",
       "         -8.74771389e-01,  1.91964702e+00, -9.52984064e-01,\n",
       "          6.44487279e-02,  1.96063065e+00, -2.78270744e-01,\n",
       "          5.76767938e-01, -1.73583650e-01, -1.34190034e+00,\n",
       "          1.74392625e+00,  2.67827008e+00, -4.39602446e-01,\n",
       "          1.15249508e-01, -8.89656212e-01]],\n",
       "\n",
       "       [[ 2.23003214e-03,  6.65537501e-01,  8.31199045e-01,\n",
       "         -2.96283583e+00,  1.92162180e+00, -2.02585119e+00,\n",
       "         -1.20995549e+00,  1.62308302e+00, -2.58526354e-01,\n",
       "         -3.74344488e-01,  1.07833274e+00,  8.37979096e-01,\n",
       "          5.57305989e-01,  1.86321255e+00, -1.55842819e-01,\n",
       "          1.96354500e+00,  1.19706479e-01,  6.95462097e-01,\n",
       "          1.23500754e-01,  1.44860820e-01],\n",
       "        [ 1.58251025e+00, -6.62558574e-01,  2.65954225e+00,\n",
       "          5.86828767e-01,  8.23502040e-01, -4.34832254e-01,\n",
       "          5.79818303e-02,  1.29855007e+00,  1.08883470e+00,\n",
       "         -2.22560596e-01,  3.60111599e-01,  1.10059758e+00,\n",
       "          1.52973243e+00, -5.65713832e-01,  1.40190399e-01,\n",
       "          7.79358468e-01,  6.27530213e-01, -6.55800406e-01,\n",
       "          8.52151748e-02, -3.41772737e-01]],\n",
       "\n",
       "       [[-8.80554671e-01, -8.74440200e-01,  5.95134927e-01,\n",
       "          4.98428094e-01, -6.62681366e-01,  3.93265666e-01,\n",
       "          3.00066101e-01, -1.08449611e+00,  1.60234118e+00,\n",
       "         -2.53522277e-01,  1.27677042e+00,  3.83471749e-01,\n",
       "          1.49534608e-01, -8.07822598e-01,  2.67745355e-01,\n",
       "          1.05342795e+00,  1.70111758e+00,  1.30147913e+00,\n",
       "          1.94289797e+00,  1.10450263e+00],\n",
       "        [-6.23197540e-01,  9.07032038e-01, -6.44188919e-02,\n",
       "          6.96470054e-01, -1.12518852e+00, -1.61688652e-02,\n",
       "          1.86121852e+00,  1.05910316e-01,  7.49981218e-01,\n",
       "         -7.87317773e-01,  1.21821124e+00,  1.65990458e+00,\n",
       "          6.60536413e-01,  4.87230418e-01, -3.46009447e-01,\n",
       "          5.02944483e-01,  1.68917816e+00, -5.69128818e-01,\n",
       "         -1.79343033e+00, -1.32085928e+00]],\n",
       "\n",
       "       [[-1.10231346e+00,  1.34345590e+00, -1.78846530e+00,\n",
       "          1.46946616e+00, -6.81031996e-01,  1.17753266e-01,\n",
       "         -1.23190839e+00, -6.50651720e-01, -8.87386715e-01,\n",
       "          1.01229356e+00,  9.93476770e-01,  3.64277403e-01,\n",
       "          1.80486093e+00, -4.77452105e-01,  1.19635477e+00,\n",
       "         -2.29930478e-01,  9.10330156e-01,  7.63867292e-01,\n",
       "          1.43438261e+00, -2.95610818e-01],\n",
       "        [ 9.58751900e-01, -1.19164615e+00, -1.02958878e+00,\n",
       "          7.58061957e-01,  1.13802247e+00,  2.10581923e+00,\n",
       "         -1.37146698e-01, -1.12963990e+00, -1.95651894e-01,\n",
       "          9.40645953e-01, -1.79825458e+00,  1.69411397e+00,\n",
       "          1.55641825e+00, -3.48862383e-02,  2.62510186e-01,\n",
       "         -1.46188909e+00,  1.34961668e-01,  4.97001510e-01,\n",
       "         -5.40621656e-01,  1.24555209e+00]],\n",
       "\n",
       "       [[-1.09081447e+00,  5.62680283e-01,  8.06994157e-01,\n",
       "          1.95281912e+00,  1.11259346e+00, -5.70057519e-01,\n",
       "          9.82713464e-01,  9.41225901e-01,  5.90425018e-01,\n",
       "         -1.02316876e+00,  9.35846084e-01,  7.54979508e-01,\n",
       "         -2.95864834e-01,  2.95072518e-01,  8.09344250e-01,\n",
       "         -1.48004392e+00,  3.23687544e-01,  7.54264993e-01,\n",
       "         -4.92836990e-01, -2.46497983e+00],\n",
       "        [-1.20376641e-01, -4.15531627e-01,  2.78748401e+00,\n",
       "         -6.99478568e-01, -5.73191129e-01,  6.93890837e-01,\n",
       "          1.82712997e-01,  1.20861388e+00, -5.85968288e-01,\n",
       "          7.11484535e-01, -7.29201834e-01,  3.62764237e-01,\n",
       "         -9.17346009e-01, -1.52232452e-02, -5.66494050e-01,\n",
       "          1.85778255e+00,  8.70948459e-01,  1.08195401e+00,\n",
       "         -1.51173952e-01, -9.43428919e-01]],\n",
       "\n",
       "       [[-2.97160073e-01,  6.36734803e-01,  1.64781438e+00,\n",
       "         -4.04948065e-01,  6.26946016e-01,  6.08502271e-01,\n",
       "         -5.43896126e-01,  4.85643187e-01,  1.39853786e+00,\n",
       "          1.24426744e+00,  6.08014449e-01,  7.26237639e-01,\n",
       "         -5.61698127e-01, -1.46536746e+00,  1.37697962e-01,\n",
       "          8.02813398e-02,  5.72978936e-01,  2.56500400e-01,\n",
       "         -3.87657843e-01, -2.65134191e-01],\n",
       "        [ 5.32154072e-01, -1.61484743e+00, -2.96049701e-01,\n",
       "          1.15527950e+00,  1.21189681e+00,  2.33147426e+00,\n",
       "          1.30919903e+00, -5.55270255e-01, -3.81892853e-01,\n",
       "          2.79536576e-01,  1.67845437e+00,  4.64720740e-01,\n",
       "          5.06851361e-01,  5.11192862e-01, -2.31065633e-02,\n",
       "          1.44194902e+00,  1.41628520e-01,  1.15162073e+00,\n",
       "          7.24947861e-01,  1.40920723e+00]],\n",
       "\n",
       "       [[-1.33551376e-02,  8.35198768e-01,  2.92844193e-01,\n",
       "          1.35644519e+00,  2.05619612e-01,  9.85688223e-01,\n",
       "         -1.08371757e+00, -7.36264224e-01,  4.57539463e-01,\n",
       "          1.01343219e+00,  5.69685848e-01, -4.01046218e-01,\n",
       "         -9.69570744e-01, -4.07647564e-01,  1.63995884e+00,\n",
       "          3.54882567e-01,  2.75737713e-01,  3.81480075e-01,\n",
       "          6.93212962e-01,  7.64993621e-01],\n",
       "        [-1.61914172e-01,  5.86593731e-01, -3.99389024e-02,\n",
       "          6.76331014e-01, -7.63000082e-01,  1.39413506e+00,\n",
       "         -3.32917897e-02,  7.65483831e-01,  7.43037846e-01,\n",
       "         -3.46194454e-01,  1.46726811e+00,  9.97439382e-01,\n",
       "          9.05184192e-01, -1.30438798e+00, -6.65929479e-01,\n",
       "          2.48410086e+00, -1.07539229e-01, -7.72726974e-01,\n",
       "         -1.83515080e+00,  3.97620681e-01]],\n",
       "\n",
       "       [[-5.21267943e-02, -4.77162736e-01,  4.01163791e-01,\n",
       "         -3.31454115e-01,  2.16823693e-01, -1.53606726e+00,\n",
       "          2.67283665e+00,  1.97692608e+00,  1.26036145e+00,\n",
       "          6.22137624e-01, -6.35224886e-01, -1.57765805e+00,\n",
       "         -1.93466949e-01, -3.55708423e-01,  3.43776016e-01,\n",
       "         -8.10538404e-02,  7.01713036e-01,  2.70838092e-02,\n",
       "          5.71117510e-02, -1.47510439e+00],\n",
       "        [ 1.58633513e+00,  1.61131217e+00,  1.51067695e+00,\n",
       "         -4.32025184e-01, -1.86185958e+00, -3.93997295e-01,\n",
       "         -8.66497929e-02,  1.24093111e+00,  1.39258936e+00,\n",
       "          1.31964995e+00, -1.29731960e+00,  4.85078901e-02,\n",
       "         -1.48170759e+00, -1.20075902e+00,  1.20597141e-01,\n",
       "          3.51135489e-01,  1.01892230e+00,  5.56282250e-01,\n",
       "          9.25517534e-01, -1.54041006e+00]],\n",
       "\n",
       "       [[ 9.83176582e-02,  4.95472635e-01,  2.41888633e-01,\n",
       "          2.79609511e-01,  1.20140387e+00, -1.17091182e+00,\n",
       "          1.73304004e-01,  3.10441203e-02, -1.29900448e+00,\n",
       "         -4.68963667e-01, -5.43061594e-01, -1.20354069e+00,\n",
       "         -9.52988066e-01, -9.27372463e-01,  6.22570617e-02,\n",
       "          1.55724948e+00,  6.09915442e-01,  1.84310863e-01,\n",
       "          1.21023422e-01,  1.30125873e+00],\n",
       "        [ 6.36979685e-01, -1.98358443e+00,  8.32118966e-01,\n",
       "          2.64816796e+00, -6.65876258e-01,  5.98137430e-01,\n",
       "         -3.98131261e-01,  1.47682343e+00,  7.22873041e-01,\n",
       "         -2.16708001e-01,  8.12184402e-01,  1.72406160e+00,\n",
       "          1.21440805e+00, -5.55552569e-01, -1.11702671e-02,\n",
       "         -6.38059802e-01, -2.56373449e-01, -7.53420932e-01,\n",
       "         -6.96164045e-01, -8.62376953e-02]]])>"
      ]
     },
     "execution_count": 18,
     "metadata": {},
     "output_type": "execute_result"
    }
   ],
   "source": [
    "Lambda"
   ]
  },
  {
   "cell_type": "code",
   "execution_count": 19,
   "id": "09db52a5",
   "metadata": {},
   "outputs": [
    {
     "data": {
      "text/plain": [
       "<tf.Tensor: shape=(1, 13), dtype=float64, numpy=\n",
       "array([[0.51462862, 0.54844253, 0.77435069, 0.64216309, 0.4065882 ,\n",
       "        0.31276193, 0.74667481, 0.6102724 , 0.68174072, 0.97233619,\n",
       "        0.82401652, 0.45626345, 0.76556161]])>"
      ]
     },
     "execution_count": 19,
     "metadata": {},
     "output_type": "execute_result"
    }
   ],
   "source": [
    "Delta(S[:,0].reshape((1,-1)))"
   ]
  },
  {
   "cell_type": "code",
   "execution_count": null,
   "id": "d0d256db",
   "metadata": {},
   "outputs": [],
   "source": []
  }
 ],
 "metadata": {
  "kernelspec": {
   "display_name": "Python 3 (ipykernel)",
   "language": "python",
   "name": "python3"
  },
  "language_info": {
   "codemirror_mode": {
    "name": "ipython",
    "version": 3
   },
   "file_extension": ".py",
   "mimetype": "text/x-python",
   "name": "python",
   "nbconvert_exporter": "python",
   "pygments_lexer": "ipython3",
   "version": "3.11.3"
  }
 },
 "nbformat": 4,
 "nbformat_minor": 5
}
