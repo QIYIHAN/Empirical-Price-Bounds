{
 "cells": [
  {
   "cell_type": "code",
   "execution_count": 1,
   "id": "caaea384",
   "metadata": {},
   "outputs": [],
   "source": [
    "import numpy as np\n",
    "import pandas as pd\n",
    "import tensorflow as tf"
   ]
  },
  {
   "cell_type": "markdown",
   "id": "864ccfe5",
   "metadata": {},
   "source": [
    "### Data"
   ]
  },
  {
   "cell_type": "code",
   "execution_count": 2,
   "id": "8cee3fce",
   "metadata": {},
   "outputs": [
    {
     "data": {
      "text/html": [
       "<div>\n",
       "<style scoped>\n",
       "    .dataframe tbody tr th:only-of-type {\n",
       "        vertical-align: middle;\n",
       "    }\n",
       "\n",
       "    .dataframe tbody tr th {\n",
       "        vertical-align: top;\n",
       "    }\n",
       "\n",
       "    .dataframe thead th {\n",
       "        text-align: right;\n",
       "    }\n",
       "</style>\n",
       "<table border=\"1\" class=\"dataframe\">\n",
       "  <thead>\n",
       "    <tr style=\"text-align: right;\">\n",
       "      <th></th>\n",
       "      <th>t0</th>\n",
       "      <th>t1</th>\n",
       "      <th>K1</th>\n",
       "      <th>pi1</th>\n",
       "      <th>t2</th>\n",
       "      <th>K2</th>\n",
       "      <th>pi2</th>\n",
       "    </tr>\n",
       "  </thead>\n",
       "  <tbody>\n",
       "    <tr>\n",
       "      <th>0</th>\n",
       "      <td>2018-01-02</td>\n",
       "      <td>2018-01-19</td>\n",
       "      <td>120.0</td>\n",
       "      <td>13.525</td>\n",
       "      <td>2018-04-20</td>\n",
       "      <td>120.0</td>\n",
       "      <td>61.050</td>\n",
       "    </tr>\n",
       "    <tr>\n",
       "      <th>1</th>\n",
       "      <td>2018-01-02</td>\n",
       "      <td>2018-01-19</td>\n",
       "      <td>110.0</td>\n",
       "      <td>92.525</td>\n",
       "      <td>2018-04-20</td>\n",
       "      <td>118.0</td>\n",
       "      <td>71.275</td>\n",
       "    </tr>\n",
       "    <tr>\n",
       "      <th>2</th>\n",
       "      <td>2018-01-02</td>\n",
       "      <td>2018-01-19</td>\n",
       "      <td>100.0</td>\n",
       "      <td>191.525</td>\n",
       "      <td>2018-04-20</td>\n",
       "      <td>112.0</td>\n",
       "      <td>108.400</td>\n",
       "    </tr>\n",
       "    <tr>\n",
       "      <th>3</th>\n",
       "      <td>2018-01-02</td>\n",
       "      <td>2018-01-19</td>\n",
       "      <td>117.5</td>\n",
       "      <td>27.125</td>\n",
       "      <td>2018-04-20</td>\n",
       "      <td>116.0</td>\n",
       "      <td>82.500</td>\n",
       "    </tr>\n",
       "    <tr>\n",
       "      <th>4</th>\n",
       "      <td>2018-01-02</td>\n",
       "      <td>2018-01-19</td>\n",
       "      <td>117.0</td>\n",
       "      <td>30.450</td>\n",
       "      <td>2018-04-20</td>\n",
       "      <td>150.0</td>\n",
       "      <td>3.675</td>\n",
       "    </tr>\n",
       "  </tbody>\n",
       "</table>\n",
       "</div>"
      ],
      "text/plain": [
       "           t0          t1     K1      pi1          t2     K2      pi2\n",
       "0  2018-01-02  2018-01-19  120.0   13.525  2018-04-20  120.0   61.050\n",
       "1  2018-01-02  2018-01-19  110.0   92.525  2018-04-20  118.0   71.275\n",
       "2  2018-01-02  2018-01-19  100.0  191.525  2018-04-20  112.0  108.400\n",
       "3  2018-01-02  2018-01-19  117.5   27.125  2018-04-20  116.0   82.500\n",
       "4  2018-01-02  2018-01-19  117.0   30.450  2018-04-20  150.0    3.675"
      ]
     },
     "execution_count": 2,
     "metadata": {},
     "output_type": "execute_result"
    }
   ],
   "source": [
    "df = pd.read_csv('data_20180119_20180420.csv', index_col=0)\n",
    "df.head()"
   ]
  },
  {
   "cell_type": "code",
   "execution_count": 3,
   "id": "10dac694",
   "metadata": {},
   "outputs": [],
   "source": [
    "t0List = list(df.t0.unique())\n",
    "\n",
    "# dimension: K[k-th t0][t1 and t2][i-th option with i-th strike]\n",
    "K = [[np.array(df.loc[df.t0 == t0,'K1']),np.array(df.loc[df.t0==t0,'K2'])] for t0 in t0List]\n",
    "\n",
    "# dimension: Pi[k-th t0][t1 and t2][i-th option with i-th price]\n",
    "Pi = [[np.array(df.loc[df.t0 == t0,'pi1']),np.array(df.loc[df.t0==t0,'pi2'])] for t0 in t0List]"
   ]
  },
  {
   "cell_type": "code",
   "execution_count": 4,
   "id": "d248ce9b",
   "metadata": {},
   "outputs": [],
   "source": [
    "# number of t0\n",
    "N_t0 = len(t0List)\n",
    "\n",
    "# number of times (t1, t2)\n",
    "T = 2\n",
    "\n",
    "# number of options in hedging\n",
    "N1, N2 = 20, 20\n",
    "Size = max(N1, N2)"
   ]
  },
  {
   "cell_type": "code",
   "execution_count": 5,
   "id": "03640997",
   "metadata": {},
   "outputs": [],
   "source": [
    "# Assume marginal distribution is uniform\n",
    "def margDistr(batch_size):\n",
    "    data = np.random.uniform(size=(batch_size, T))\n",
    "    for t in range(T):\n",
    "        data[:, t] = S_min + (S_max - S_min) * data[:, t] # just a simple test, need further consideration\n",
    "    return data"
   ]
  },
  {
   "cell_type": "code",
   "execution_count": 6,
   "id": "8183bd73",
   "metadata": {},
   "outputs": [],
   "source": [
    "# arbitrary\n",
    "S_t0 = 143\n",
    "S_max = 180\n",
    "S_min = 100\n",
    "BATCH_SIZE = 4 # for ease\n",
    "\n",
    "S = margDistr(BATCH_SIZE)"
   ]
  },
  {
   "cell_type": "code",
   "execution_count": 7,
   "id": "5e04437f",
   "metadata": {},
   "outputs": [],
   "source": [
    "Phi = (S[:,1]-S[:,0])\n",
    "# define the payoff function of the derivative"
   ]
  },
  {
   "cell_type": "markdown",
   "id": "6ca4deba",
   "metadata": {},
   "source": [
    "### Variables"
   ]
  },
  {
   "cell_type": "code",
   "execution_count": 8,
   "id": "f076e25a",
   "metadata": {},
   "outputs": [],
   "source": [
    "# parameter: d\n",
    "d = tf.Variable(\n",
    "    initial_value = tf.random.normal(shape=[N_t0, 1], dtype=tf.float64),\n",
    "    trainable = True,\n",
    "    name = 'd'\n",
    ")"
   ]
  },
  {
   "cell_type": "code",
   "execution_count": 9,
   "id": "9736a033",
   "metadata": {},
   "outputs": [],
   "source": [
    "# parameter: lambda\n",
    "Lambda = tf.Variable(\n",
    "    initial_value = tf.random.normal(shape=[N_t0, T, Size], dtype=tf.float64),\n",
    "    trainable = True,\n",
    "    name = 'lambda'\n",
    ")"
   ]
  },
  {
   "cell_type": "code",
   "execution_count": 10,
   "id": "13392ee5",
   "metadata": {},
   "outputs": [],
   "source": [
    "# parameter: Delta\n",
    "Delta = tf.Variable(\n",
    "    initial_value = tf.random.normal(shape=[N_t0, T-1], dtype=tf.float64),\n",
    "    trainable = True,\n",
    "    name = 'Delta'\n",
    ")"
   ]
  },
  {
   "cell_type": "markdown",
   "id": "bd6217f0",
   "metadata": {},
   "source": [
    "Question: \n",
    "$\\Delta_1(S_1)$ is actually a function of $S_1$, should we treat the whole term as the variable or assume its formula is something like $\\Delta_1(S_1) = \\delta_1S_1$ and treat $\\delta_1$ as the variable we need to optimise?"
   ]
  },
  {
   "cell_type": "markdown",
   "id": "b0de9a5e",
   "metadata": {},
   "source": [
    "### The step-by-step computation of the objective function"
   ]
  },
  {
   "cell_type": "markdown",
   "id": "25d2030a",
   "metadata": {},
   "source": [
    "$d+\\sum_{i=1}^{N_1}\\lambda_{i,1}\\Pi_{i,1}+\\sum_{i=1}^{N_2}\\lambda_{i,2}\\Pi_{i,2}$"
   ]
  },
  {
   "cell_type": "code",
   "execution_count": 11,
   "id": "da1f2687",
   "metadata": {},
   "outputs": [],
   "source": [
    "hedgePrice = []\n",
    "for n in range(N_t0):\n",
    "    p = d[n]\n",
    "    for t in range(T):\n",
    "        p += tf.reduce_sum(Lambda[n,t,:]*Pi[n][t][:])\n",
    "    hedgePrice.append(p)"
   ]
  },
  {
   "cell_type": "code",
   "execution_count": 12,
   "id": "06ec2574",
   "metadata": {},
   "outputs": [
    {
     "data": {
      "text/plain": [
       "[<tf.Tensor: shape=(1,), dtype=float64, numpy=array([890.64463977])>,\n",
       " <tf.Tensor: shape=(1,), dtype=float64, numpy=array([277.64992917])>,\n",
       " <tf.Tensor: shape=(1,), dtype=float64, numpy=array([401.84222244])>,\n",
       " <tf.Tensor: shape=(1,), dtype=float64, numpy=array([-622.03040404])>,\n",
       " <tf.Tensor: shape=(1,), dtype=float64, numpy=array([-215.90788441])>,\n",
       " <tf.Tensor: shape=(1,), dtype=float64, numpy=array([-912.94438297])>,\n",
       " <tf.Tensor: shape=(1,), dtype=float64, numpy=array([806.74059786])>,\n",
       " <tf.Tensor: shape=(1,), dtype=float64, numpy=array([871.94900119])>,\n",
       " <tf.Tensor: shape=(1,), dtype=float64, numpy=array([283.79872458])>,\n",
       " <tf.Tensor: shape=(1,), dtype=float64, numpy=array([-935.51027626])>,\n",
       " <tf.Tensor: shape=(1,), dtype=float64, numpy=array([-503.46666635])>,\n",
       " <tf.Tensor: shape=(1,), dtype=float64, numpy=array([-229.43346824])>,\n",
       " <tf.Tensor: shape=(1,), dtype=float64, numpy=array([-497.44295917])>]"
      ]
     },
     "execution_count": 12,
     "metadata": {},
     "output_type": "execute_result"
    }
   ],
   "source": [
    "# take a look\n",
    "hedgePrice"
   ]
  },
  {
   "cell_type": "markdown",
   "id": "7a0b8ec7",
   "metadata": {},
   "source": [
    "$d+\\sum_{i=1}^{N_1}\\lambda_{i,1}(S_1-K_{i,1})^++\\sum_{i=1}^{N_2}\\lambda_{i,2}(S_2-K_{i,2})^++\\Delta_{1}(S_1)\\cdot(S_2-S_1)$"
   ]
  },
  {
   "cell_type": "code",
   "execution_count": 13,
   "id": "10972925",
   "metadata": {},
   "outputs": [],
   "source": [
    "hedgeTerm = []\n",
    "for n in range(N_t0):\n",
    "    p = d[n]\n",
    "    for t in range(T):\n",
    "        p += tf.reduce_sum(Lambda[n,t,:]*np.maximum(S[:,t].reshape(BATCH_SIZE,1)-K[n][t][:],0),axis=1)\n",
    "    for t in range(T-1):\n",
    "        p += Delta[n,t]*(S[:,t+1]-S[:,t])\n",
    "    hedgeTerm.append(p)"
   ]
  },
  {
   "cell_type": "code",
   "execution_count": 14,
   "id": "f3309b3b",
   "metadata": {},
   "outputs": [
    {
     "data": {
      "text/plain": [
       "[<tf.Tensor: shape=(4,), dtype=float64, numpy=array([ 61.12567126, 563.39181668, 392.70992908, 549.88238569])>,\n",
       " <tf.Tensor: shape=(4,), dtype=float64, numpy=array([ 9.98207725, -7.42418731, 13.31652611, 27.42385417])>,\n",
       " <tf.Tensor: shape=(4,), dtype=float64, numpy=array([ -3.99731906, 302.36409496, 238.72902249, 142.73155783])>,\n",
       " <tf.Tensor: shape=(4,), dtype=float64, numpy=array([ -22.128626  , -257.04617554, -199.78338327, -136.97338241])>,\n",
       " <tf.Tensor: shape=(4,), dtype=float64, numpy=array([  -3.37584791, -132.55240528,  -85.14710927, -147.97942427])>,\n",
       " <tf.Tensor: shape=(4,), dtype=float64, numpy=array([ -18.30671979, -342.815695  , -257.49022841, -253.46084188])>,\n",
       " <tf.Tensor: shape=(4,), dtype=float64, numpy=array([ 24.90805493, 372.6060004 , 255.51315787, 370.08137135])>,\n",
       " <tf.Tensor: shape=(4,), dtype=float64, numpy=array([ 22.11722831, 133.96709698, 121.34791993, 165.89985885])>,\n",
       " <tf.Tensor: shape=(4,), dtype=float64, numpy=array([  0.47020306, 106.56846919,  79.36107018,  60.75119941])>,\n",
       " <tf.Tensor: shape=(4,), dtype=float64, numpy=array([ -10.9946163 , -375.40983671, -243.95452045, -306.47203958])>,\n",
       " <tf.Tensor: shape=(4,), dtype=float64, numpy=array([ -3.17876451, -75.44131014, -70.07117489, -99.04935059])>,\n",
       " <tf.Tensor: shape=(4,), dtype=float64, numpy=array([ -12.77412702, -248.11579286, -138.05358779, -268.14253771])>,\n",
       " <tf.Tensor: shape=(4,), dtype=float64, numpy=array([ -10.64728327, -280.59539282, -155.14483415, -287.57958922])>]"
      ]
     },
     "execution_count": 14,
     "metadata": {},
     "output_type": "execute_result"
    }
   ],
   "source": [
    "# take a look\n",
    "hedgeTerm"
   ]
  },
  {
   "cell_type": "markdown",
   "id": "d6640b70",
   "metadata": {},
   "source": [
    "$\\inf_{h\\in\\mathcal{H}^m}\\int hd\\mu_0+\\int \\beta_\\gamma(c-h)d\\theta$"
   ]
  },
  {
   "cell_type": "markdown",
   "id": "7280407b",
   "metadata": {},
   "source": [
    "$d+\\sum_{i=1}^{N_1}\\lambda_{i,1}\\Pi_{i,1}+\\sum_{i=1}^{N_2}\\lambda_{i,2}\\Pi_{i,2} + \\Gamma\\cdot\\left[\\left(\\Phi(S_1,S_2)-d-\\sum_{i=1}^{N_1}\\lambda_{i,1}(S_1-K_{i,1})^+-\\sum_{i=1}^{N_2}\\lambda_{i,2}(S_2-K_{i,2})^+-\\Delta_{1}(S_1)\\cdot(S_2-S_1)\\right)^+\\right]^2$"
   ]
  },
  {
   "cell_type": "code",
   "execution_count": 15,
   "id": "2b798828",
   "metadata": {},
   "outputs": [],
   "source": [
    "# objective function\n",
    "Price = tf.reduce_mean(hedgePrice, axis=1)\n",
    "\n",
    "Gamma = 100\n",
    "diff = Phi - tf.stack(hedgeTerm, axis=0)\n",
    "Penalty = tf.reduce_mean(tf.square(tf.nn.relu(diff)), axis=1)\n",
    "\n",
    "ObjFunc = Price + Gamma*Penalty"
   ]
  },
  {
   "cell_type": "code",
   "execution_count": 16,
   "id": "e80cc070",
   "metadata": {},
   "outputs": [
    {
     "data": {
      "text/plain": [
       "<tf.Tensor: shape=(13,), dtype=float64, numpy=\n",
       "array([ 890.64463977,  277.64992917,  401.84222244, -622.03040404,\n",
       "       -215.90788441, -912.94438297,  806.74059786,  871.94900119,\n",
       "        283.79872458, -935.51027626, -503.46666635, -229.43346824,\n",
       "       -497.44295917])>"
      ]
     },
     "execution_count": 16,
     "metadata": {},
     "output_type": "execute_result"
    }
   ],
   "source": [
    "# take a look\n",
    "Price"
   ]
  },
  {
   "cell_type": "code",
   "execution_count": 17,
   "id": "70ab3f66",
   "metadata": {},
   "outputs": [
    {
     "data": {
      "text/plain": [
       "<tf.Tensor: shape=(13,), dtype=float64, numpy=\n",
       "array([0.00000000e+00, 6.71164304e+02, 5.03725794e+01, 4.24266390e+04,\n",
       "       2.03314691e+04, 7.86120898e+04, 0.00000000e+00, 0.00000000e+00,\n",
       "       2.56010303e+01, 9.21620482e+04, 1.12366541e+04, 5.28041552e+04,\n",
       "       6.22570246e+04])>"
      ]
     },
     "execution_count": 17,
     "metadata": {},
     "output_type": "execute_result"
    }
   ],
   "source": [
    "# take a look\n",
    "Penalty"
   ]
  },
  {
   "cell_type": "code",
   "execution_count": 18,
   "id": "6bfa211a",
   "metadata": {},
   "outputs": [
    {
     "data": {
      "text/plain": [
       "<tf.Tensor: shape=(13,), dtype=float64, numpy=\n",
       "array([8.90644640e+02, 6.73940803e+04, 5.43910016e+03, 4.24204187e+06,\n",
       "       2.03293100e+06, 7.86029604e+06, 8.06740598e+02, 8.71949001e+02,\n",
       "       2.84390175e+03, 9.21526931e+06, 1.12316194e+06, 5.28018609e+06,\n",
       "       6.22520502e+06])>"
      ]
     },
     "execution_count": 18,
     "metadata": {},
     "output_type": "execute_result"
    }
   ],
   "source": [
    "# take a look\n",
    "ObjFunc"
   ]
  },
  {
   "cell_type": "markdown",
   "id": "358bad0e",
   "metadata": {},
   "source": [
    "### Optimisation"
   ]
  },
  {
   "cell_type": "code",
   "execution_count": 19,
   "id": "bff6e140",
   "metadata": {},
   "outputs": [],
   "source": [
    "# Combine all the computation as a function\n",
    "def ObjFunc(d, Lambda, Delta, K, Pi, Phi, S):\n",
    "    hedgePrice = []\n",
    "    for n in range(N_t0):\n",
    "        p = d[n]\n",
    "        for t in range(T):\n",
    "            p += tf.reduce_sum(Lambda[n,t,:]*Pi[n][t][:])\n",
    "        hedgePrice.append(p)\n",
    "    \n",
    "    hedgeTerm = []\n",
    "    for n in range(N_t0):\n",
    "        p = d[n]\n",
    "        for t in range(T):\n",
    "            p += tf.reduce_sum(Lambda[n,t,:]*np.maximum(S[:,t].reshape(BATCH_SIZE,1)-K[n][t][:],0),axis=1)\n",
    "        for t in range(T-1):\n",
    "            p += Delta[n,t]*(S[:,t+1]-S[:,t])\n",
    "        hedgeTerm.append(p)\n",
    "    \n",
    "    Price = tf.reduce_mean(hedgePrice, axis=1)\n",
    "    Gamma = 100\n",
    "    diff = Phi-tf.stack(hedgeTerm, axis=0)\n",
    "    Penalty = tf.reduce_mean(tf.square(tf.nn.relu(diff)), axis=1)\n",
    "    \n",
    "    return Price + Gamma*Penalty, Price"
   ]
  },
  {
   "cell_type": "code",
   "execution_count": 20,
   "id": "ac555683",
   "metadata": {},
   "outputs": [],
   "source": [
    "optimizer = tf.keras.optimizers.legacy.Adam(learning_rate = 0.01)"
   ]
  },
  {
   "cell_type": "code",
   "execution_count": 24,
   "id": "b4231139",
   "metadata": {},
   "outputs": [],
   "source": [
    "for step in range(10000):\n",
    "    with tf.GradientTape() as tape:\n",
    "        obj, price = ObjFunc(d, Lambda, Delta, K, Pi, Phi, S)\n",
    "    gradients = tape.gradient(obj, [d, Lambda, Delta])\n",
    "    optimizer.apply_gradients(zip(gradients, [d, Lambda, Delta]))"
   ]
  },
  {
   "cell_type": "code",
   "execution_count": 25,
   "id": "2cd29ed3",
   "metadata": {},
   "outputs": [
    {
     "data": {
      "text/plain": [
       "<tf.Tensor: shape=(13,), dtype=float64, numpy=\n",
       "array([-12232.3879989 ,  -4972.46447127, -12594.35459494,  -1133.03988455,\n",
       "        -2742.17076983,   -984.28663393, -14638.46317849, -11480.31678387,\n",
       "        -9666.07969813,   -598.60105114,  -1850.94043755,   -305.06549677,\n",
       "         -959.68033254])>"
      ]
     },
     "execution_count": 25,
     "metadata": {},
     "output_type": "execute_result"
    }
   ],
   "source": [
    "price"
   ]
  },
  {
   "cell_type": "code",
   "execution_count": 26,
   "id": "f8867256",
   "metadata": {},
   "outputs": [
    {
     "data": {
      "text/plain": [
       "<tf.Tensor: shape=(13,), dtype=float64, numpy=\n",
       "array([-12232.3879989 ,  -4972.46447127, -12594.35459494,  -1132.65256285,\n",
       "        -2741.83241418,   -984.19764283, -14638.46317849, -11475.55201419,\n",
       "        -9665.96378062,   -598.55462667,  -1850.94043755,   -305.04014335,\n",
       "         -959.65181002])>"
      ]
     },
     "execution_count": 26,
     "metadata": {},
     "output_type": "execute_result"
    }
   ],
   "source": [
    "obj"
   ]
  },
  {
   "cell_type": "code",
   "execution_count": null,
   "id": "e82e2c65",
   "metadata": {},
   "outputs": [],
   "source": []
  }
 ],
 "metadata": {
  "kernelspec": {
   "display_name": "Python 3 (ipykernel)",
   "language": "python",
   "name": "python3"
  },
  "language_info": {
   "codemirror_mode": {
    "name": "ipython",
    "version": 3
   },
   "file_extension": ".py",
   "mimetype": "text/x-python",
   "name": "python",
   "nbconvert_exporter": "python",
   "pygments_lexer": "ipython3",
   "version": "3.11.3"
  }
 },
 "nbformat": 4,
 "nbformat_minor": 5
}
