{
 "cells": [
  {
   "cell_type": "markdown",
   "id": "d6a4fe05",
   "metadata": {},
   "source": [
    "# Data Processing"
   ]
  },
  {
   "cell_type": "markdown",
   "id": "255e9574",
   "metadata": {},
   "source": [
    "## import packages"
   ]
  },
  {
   "cell_type": "code",
   "execution_count": 2,
   "id": "56256476",
   "metadata": {},
   "outputs": [],
   "source": [
    "import numpy as np\n",
    "import pandas as pd\n",
    "from arbitragerepair import constraints, repair"
   ]
  },
  {
   "cell_type": "code",
   "execution_count": 2,
   "id": "2a889623",
   "metadata": {},
   "outputs": [],
   "source": [
    "raw_data = pd.read_csv('./Call Option Data/fqjo3s8eacwzxkcw.csv')"
   ]
  },
  {
   "cell_type": "code",
   "execution_count": 3,
   "id": "0e4cdb22",
   "metadata": {},
   "outputs": [
    {
     "data": {
      "text/html": [
       "<div>\n",
       "<style scoped>\n",
       "    .dataframe tbody tr th:only-of-type {\n",
       "        vertical-align: middle;\n",
       "    }\n",
       "\n",
       "    .dataframe tbody tr th {\n",
       "        vertical-align: top;\n",
       "    }\n",
       "\n",
       "    .dataframe thead th {\n",
       "        text-align: right;\n",
       "    }\n",
       "</style>\n",
       "<table border=\"1\" class=\"dataframe\">\n",
       "  <thead>\n",
       "    <tr style=\"text-align: right;\">\n",
       "      <th></th>\n",
       "      <th>date</th>\n",
       "      <th>exdate</th>\n",
       "      <th>cp_flag</th>\n",
       "      <th>strike_price</th>\n",
       "      <th>volume</th>\n",
       "      <th>option_price</th>\n",
       "    </tr>\n",
       "  </thead>\n",
       "  <tbody>\n",
       "    <tr>\n",
       "      <th>0</th>\n",
       "      <td>2018-01-02</td>\n",
       "      <td>2018-01-05</td>\n",
       "      <td>C</td>\n",
       "      <td>100.00</td>\n",
       "      <td>0</td>\n",
       "      <td>189.975</td>\n",
       "    </tr>\n",
       "    <tr>\n",
       "      <th>1</th>\n",
       "      <td>2018-01-02</td>\n",
       "      <td>2018-01-05</td>\n",
       "      <td>C</td>\n",
       "      <td>100.25</td>\n",
       "      <td>0</td>\n",
       "      <td>187.475</td>\n",
       "    </tr>\n",
       "    <tr>\n",
       "      <th>2</th>\n",
       "      <td>2018-01-02</td>\n",
       "      <td>2018-01-05</td>\n",
       "      <td>C</td>\n",
       "      <td>100.50</td>\n",
       "      <td>0</td>\n",
       "      <td>184.975</td>\n",
       "    </tr>\n",
       "    <tr>\n",
       "      <th>3</th>\n",
       "      <td>2018-01-02</td>\n",
       "      <td>2018-01-05</td>\n",
       "      <td>C</td>\n",
       "      <td>100.75</td>\n",
       "      <td>0</td>\n",
       "      <td>182.475</td>\n",
       "    </tr>\n",
       "    <tr>\n",
       "      <th>4</th>\n",
       "      <td>2018-01-02</td>\n",
       "      <td>2018-01-05</td>\n",
       "      <td>C</td>\n",
       "      <td>101.00</td>\n",
       "      <td>0</td>\n",
       "      <td>179.975</td>\n",
       "    </tr>\n",
       "  </tbody>\n",
       "</table>\n",
       "</div>"
      ],
      "text/plain": [
       "        date     exdate cp_flag  strike_price  volume  option_price\n",
       "0 2018-01-02 2018-01-05       C        100.00       0       189.975\n",
       "1 2018-01-02 2018-01-05       C        100.25       0       187.475\n",
       "2 2018-01-02 2018-01-05       C        100.50       0       184.975\n",
       "3 2018-01-02 2018-01-05       C        100.75       0       182.475\n",
       "4 2018-01-02 2018-01-05       C        101.00       0       179.975"
      ]
     },
     "execution_count": 3,
     "metadata": {},
     "output_type": "execute_result"
    }
   ],
   "source": [
    "# Choose Amazon as the underlying stock\n",
    "df = raw_data.loc[raw_data.ticker=='AMZN', \n",
    "                  ['date','exdate','cp_flag','strike_price','best_bid','best_offer','volume']].copy()\n",
    "df['date'] = pd.to_datetime(df['date'])\n",
    "df['exdate'] = pd.to_datetime(df['exdate'])\n",
    "df['strike_price'] = df['strike_price']/10000 # scaling strike\n",
    "df['option_price'] = df[['best_bid','best_offer']].mean(axis=1)\n",
    "df = df.drop(columns = ['best_bid','best_offer'])\n",
    "df.head()"
   ]
  },
  {
   "cell_type": "code",
   "execution_count": 4,
   "id": "9678ce18",
   "metadata": {},
   "outputs": [
    {
     "data": {
      "text/plain": [
       "array(['2018-01-05T00:00:00.000000000', '2018-01-12T00:00:00.000000000',\n",
       "       '2018-01-19T00:00:00.000000000', '2018-01-26T00:00:00.000000000',\n",
       "       '2018-02-02T00:00:00.000000000', '2018-02-09T00:00:00.000000000',\n",
       "       '2018-02-16T00:00:00.000000000', '2018-03-16T00:00:00.000000000',\n",
       "       '2018-04-20T00:00:00.000000000', '2018-06-15T00:00:00.000000000',\n",
       "       '2018-07-20T00:00:00.000000000', '2018-09-21T00:00:00.000000000',\n",
       "       '2019-01-18T00:00:00.000000000', '2019-06-21T00:00:00.000000000',\n",
       "       '2020-01-17T00:00:00.000000000'], dtype='datetime64[ns]')"
      ]
     },
     "execution_count": 4,
     "metadata": {},
     "output_type": "execute_result"
    }
   ],
   "source": [
    "# Assume t0 = 2018-01-02\n",
    "df.loc[df.date=='2018-01-02','exdate'].unique()"
   ]
  },
  {
   "cell_type": "markdown",
   "id": "e4dc5a93",
   "metadata": {},
   "source": [
    "## Fixed $T_1$, $T_2$, and drag back different $t_0$"
   ]
  },
  {
   "cell_type": "code",
   "execution_count": 4,
   "id": "9975840a",
   "metadata": {},
   "outputs": [],
   "source": [
    "# Choose t1 = '2018-01-19', t2 = '2018-04-20' (arbitrarily,temporarily)\n",
    "\n",
    "t1 = '2018-01-19'\n",
    "t2 = '2018-04-20'\n",
    "\n",
    "# call options data\n",
    "df_t1 = df.loc[(df.exdate==t1)&(df.cp_flag=='C'), ['date','exdate','strike_price','volume','option_price']]\n",
    "df_t2 = df.loc[(df.exdate==t2)&(df.cp_flag=='C'), ['date','exdate','strike_price','volume','option_price']]\n",
    "\n",
    "# put options data\n",
    "df_t1_P = df.loc[(df.exdate==t1)&(df.cp_flag=='P'), ['date','exdate','strike_price','option_price']]\n",
    "df_t2_P = df.loc[(df.exdate==t2)&(df.cp_flag=='P'), ['date','exdate','strike_price','option_price']]"
   ]
  },
  {
   "cell_type": "code",
   "execution_count": 5,
   "id": "2ea1ab8d",
   "metadata": {},
   "outputs": [
    {
     "name": "stdout",
     "output_type": "stream",
     "text": [
      "13\n",
      "[numpy.datetime64('2018-01-02T00:00:00.000000000'), numpy.datetime64('2018-01-03T00:00:00.000000000'), numpy.datetime64('2018-01-04T00:00:00.000000000'), numpy.datetime64('2018-01-05T00:00:00.000000000'), numpy.datetime64('2018-01-08T00:00:00.000000000'), numpy.datetime64('2018-01-09T00:00:00.000000000'), numpy.datetime64('2018-01-10T00:00:00.000000000'), numpy.datetime64('2018-01-11T00:00:00.000000000'), numpy.datetime64('2018-01-12T00:00:00.000000000'), numpy.datetime64('2018-01-16T00:00:00.000000000'), numpy.datetime64('2018-01-17T00:00:00.000000000'), numpy.datetime64('2018-01-18T00:00:00.000000000'), numpy.datetime64('2018-01-19T00:00:00.000000000')]\n"
     ]
    }
   ],
   "source": [
    "# t0 to proceed with\n",
    "t0List = list(df_t1.date.unique())\n",
    "\n",
    "print(len(t0List))\n",
    "print(t0List) "
   ]
  },
  {
   "cell_type": "markdown",
   "id": "a711ce36",
   "metadata": {},
   "source": [
    "## Use stock prices to Arbitrage Repair"
   ]
  },
  {
   "cell_type": "code",
   "execution_count": 6,
   "id": "410fbc30-ef04-442d-b112-9f8f950303c3",
   "metadata": {},
   "outputs": [
    {
     "name": "stderr",
     "output_type": "stream",
     "text": [
      "[*********************100%%**********************]  1 of 1 completed"
     ]
    },
    {
     "name": "stdout",
     "output_type": "stream",
     "text": [
      "                 Open       High        Low      Close  Adj Close    Volume\n",
      "Date                                                                       \n",
      "2018-01-02  58.599998  59.500000  58.525501  59.450500  59.450500  53890000\n",
      "2018-01-03  59.415001  60.274502  59.415001  60.209999  60.209999  62176000\n",
      "2018-01-04  60.250000  60.793499  60.233002  60.479500  60.479500  60442000\n",
      "2018-01-05  60.875500  61.457001  60.500000  61.457001  61.457001  70894000\n",
      "2018-01-08  61.799999  62.653999  61.601501  62.343498  62.343498  85590000\n",
      "saved to ./amzn_stock_%s_%s_daily.csv\n"
     ]
    },
    {
     "name": "stderr",
     "output_type": "stream",
     "text": [
      "\n"
     ]
    }
   ],
   "source": [
    "import datetime as dt\n",
    "import yfinance as yf\n",
    "amzn = yf.Ticker(\"AMZN\")\n",
    "#amzn.info\n",
    "#amzn.institutional_holders\n",
    "\n",
    "start_date = dt.datetime(2018, 1, 1)\n",
    "\n",
    "tickers_list = ['AMZN']\n",
    "\n",
    "df_amzn = yf.download(tickers_list, start=start_date, progress=True)\n",
    "print(df_amzn.head())\n",
    "fn = './amzn_stock_%s_%s_daily.csv'\n",
    "df_amzn.to_csv(fn, sep=',', encoding='utf-8')\n",
    "print('saved to %s'%(fn))"
   ]
  },
  {
   "cell_type": "code",
   "execution_count": 7,
   "id": "7fcc1b88-4944-405f-8637-2981aa58af47",
   "metadata": {},
   "outputs": [
    {
     "data": {
      "text/html": [
       "<div>\n",
       "<style scoped>\n",
       "    .dataframe tbody tr th:only-of-type {\n",
       "        vertical-align: middle;\n",
       "    }\n",
       "\n",
       "    .dataframe tbody tr th {\n",
       "        vertical-align: top;\n",
       "    }\n",
       "\n",
       "    .dataframe thead th {\n",
       "        text-align: right;\n",
       "    }\n",
       "</style>\n",
       "<table border=\"1\" class=\"dataframe\">\n",
       "  <thead>\n",
       "    <tr style=\"text-align: right;\">\n",
       "      <th></th>\n",
       "      <th>date</th>\n",
       "      <th>stock_price</th>\n",
       "    </tr>\n",
       "  </thead>\n",
       "  <tbody>\n",
       "    <tr>\n",
       "      <th>0</th>\n",
       "      <td>2018-01-02</td>\n",
       "      <td>59.450500</td>\n",
       "    </tr>\n",
       "    <tr>\n",
       "      <th>1</th>\n",
       "      <td>2018-01-03</td>\n",
       "      <td>60.209999</td>\n",
       "    </tr>\n",
       "    <tr>\n",
       "      <th>2</th>\n",
       "      <td>2018-01-04</td>\n",
       "      <td>60.479500</td>\n",
       "    </tr>\n",
       "    <tr>\n",
       "      <th>3</th>\n",
       "      <td>2018-01-05</td>\n",
       "      <td>61.457001</td>\n",
       "    </tr>\n",
       "    <tr>\n",
       "      <th>4</th>\n",
       "      <td>2018-01-08</td>\n",
       "      <td>62.343498</td>\n",
       "    </tr>\n",
       "    <tr>\n",
       "      <th>...</th>\n",
       "      <td>...</td>\n",
       "      <td>...</td>\n",
       "    </tr>\n",
       "    <tr>\n",
       "      <th>1556</th>\n",
       "      <td>2024-03-11</td>\n",
       "      <td>171.960007</td>\n",
       "    </tr>\n",
       "    <tr>\n",
       "      <th>1557</th>\n",
       "      <td>2024-03-12</td>\n",
       "      <td>175.389999</td>\n",
       "    </tr>\n",
       "    <tr>\n",
       "      <th>1558</th>\n",
       "      <td>2024-03-13</td>\n",
       "      <td>176.559998</td>\n",
       "    </tr>\n",
       "    <tr>\n",
       "      <th>1559</th>\n",
       "      <td>2024-03-14</td>\n",
       "      <td>178.750000</td>\n",
       "    </tr>\n",
       "    <tr>\n",
       "      <th>1560</th>\n",
       "      <td>2024-03-15</td>\n",
       "      <td>174.419998</td>\n",
       "    </tr>\n",
       "  </tbody>\n",
       "</table>\n",
       "<p>1561 rows × 2 columns</p>\n",
       "</div>"
      ],
      "text/plain": [
       "           date  stock_price\n",
       "0    2018-01-02    59.450500\n",
       "1    2018-01-03    60.209999\n",
       "2    2018-01-04    60.479500\n",
       "3    2018-01-05    61.457001\n",
       "4    2018-01-08    62.343498\n",
       "...         ...          ...\n",
       "1556 2024-03-11   171.960007\n",
       "1557 2024-03-12   175.389999\n",
       "1558 2024-03-13   176.559998\n",
       "1559 2024-03-14   178.750000\n",
       "1560 2024-03-15   174.419998\n",
       "\n",
       "[1561 rows x 2 columns]"
      ]
     },
     "execution_count": 7,
     "metadata": {},
     "output_type": "execute_result"
    }
   ],
   "source": [
    "df_amzn.reset_index(inplace=True)\n",
    "df_amzn['date'] = pd.to_datetime(df_amzn['Date'], format=\"%d/%m/%y\")\n",
    "stock_AMZN = df_amzn[['date','Adj Close']].copy()\n",
    "stock_AMZN.rename(columns = {'Adj Close' : 'stock_price'}, inplace = True)\n",
    "stock_AMZN"
   ]
  },
  {
   "cell_type": "code",
   "execution_count": 7,
   "id": "f1c0f418",
   "metadata": {},
   "outputs": [],
   "source": [
    "# Arbitrage repair function\n",
    "def arbitrageRepair(columnT, columnK, columnC, columnF):\n",
    "    # normalise strikes and call prices\n",
    "    normaliser = constraints.Normalise()\n",
    "    T = np.array(columnT)\n",
    "    K = np.array(columnK)\n",
    "    C = np.array(columnC)\n",
    "    F = np.array(columnF)\n",
    "    normaliser.fit(T, K, C, F)\n",
    "    T1, K1, C1 = normaliser.transform(T, K, C)\n",
    "    \n",
    "    # construct arbitrage constraints and detect violation\n",
    "    mat_A, vec_b, _, _ = constraints.detect(T1, K1, C1, verbose=False)\n",
    "    \n",
    "    # repair arbitrage - l1-norm objective\n",
    "    epsilon = repair.l1(mat_A, vec_b, C1)\n",
    "    \n",
    "    # de-normalise\n",
    "    K0, C0 = normaliser.inverse_transform(K1, C1 + epsilon)\n",
    "    \n",
    "    return K0, C0"
   ]
  },
  {
   "cell_type": "code",
   "execution_count": 8,
   "id": "b30e09ab",
   "metadata": {},
   "outputs": [],
   "source": [
    "result = pd.DataFrame()\n",
    "\n",
    "for t0 in t0List:\n",
    "    ## T1:\n",
    "    # t1: 20 largest trading volume\n",
    "    df_t0t1 = df_t1[df_t1.date==t0].sort_values('volume',ascending=False).iloc[0:20].drop(columns='volume').reset_index(drop=True)\n",
    "    \n",
    "    # merge with put options data and stock price data\n",
    "    df_t0t1 = df_t0t1.merge(df_t1_P, on = ['date','exdate','strike_price'], suffixes = ('_C','_P'))\n",
    "    df_t0t1 = pd.merge(df_t0t1, stock_AMZN, on = 'date')\n",
    "    \n",
    "    # calculate the forward price:\n",
    "    # df_t0t1['forward_price'] = df_t0t1['stock_price']/((df_t0t1['stock_price']-(df_t0t1['option_price_C']-df_t0t1['option_price_P']))/df_t0t1['strike_price'])\n",
    "    df_t0t1['forward_price'] = df_t0t1['stock_price']\n",
    "    \n",
    "    # calculate the expiry:\n",
    "    df_t0t1['expiry'] = (df_t0t1['exdate']-df_t0t1['date']).apply(lambda x: x.days/365)\n",
    "    \n",
    "    # arbitrage repair:\n",
    "    K0_t1, C0_t1 = arbitrageRepair(df_t0t1['expiry'], df_t0t1['strike_price'], df_t0t1['option_price_C'], df_t0t1['forward_price'])\n",
    "    \n",
    "    # temporary result at t0:\n",
    "    result_t1 = df_t0t1[['date','exdate']].copy()\n",
    "    result_t1['strike_price'] = K0_t1\n",
    "    result_t1['option_price'] = C0_t1\n",
    "    \n",
    "    \n",
    "    ## T2:\n",
    "    # t2: 20 largest trading volume\n",
    "    df_t0t2 = df_t2[df_t2.date==t0].sort_values('volume',ascending=False).iloc[0:20].drop(columns='volume').reset_index(drop=True)\n",
    "    \n",
    "    # merge with put options data and stock price data\n",
    "    df_t0t2 = pd.merge(df_t0t2, df_t2_P, on = ['date','exdate','strike_price'], suffixes = ('_C','_P'))\n",
    "    df_t0t2 = pd.merge(df_t0t2, stock_AMZN, on = 'date')\n",
    "    \n",
    "    # calculate the forward price:\n",
    "    # df_t0t2['forward_price'] = df_t0t2['stock_price']/((df_t0t2['stock_price']-(df_t0t2['option_price_C']-df_t0t2['option_price_P']))/df_t0t2['strike_price'])\n",
    "    df_t0t2['forward_price'] = df_t0t2['stock_price']\n",
    "    \n",
    "    # calculate the expiry:\n",
    "    df_t0t2['expiry'] = (df_t0t2['exdate']-df_t0t2['date']).apply(lambda x: x.days/365)\n",
    "    \n",
    "    # arbitrage repair:\n",
    "    K0_t2, C0_t2 = arbitrageRepair(df_t0t2['expiry'], df_t0t2['strike_price'], df_t0t2['option_price_C'], df_t0t2['forward_price'])\n",
    "    \n",
    "    # temporary result at t0:\n",
    "    result_t2 = df_t0t2[['date','exdate']].copy()\n",
    "    result_t2['strike_price'] = K0_t2\n",
    "    result_t2['option_price'] = C0_t2\n",
    "    \n",
    "    \n",
    "    ## Concat horizontally\n",
    "    result_tmp = pd.concat([result_t1, result_t2.drop(columns='date')], axis=1)\n",
    "    \n",
    "    ## Concat vertically\n",
    "    result = pd.concat([result,result_tmp], axis=0)\n",
    "    \n",
    "result.columns = ['t0','t1','K1','pi1','t2','K2','pi2']\n",
    "result = result.reset_index(drop=True)"
   ]
  },
  {
   "cell_type": "code",
   "execution_count": 9,
   "id": "5f301f89",
   "metadata": {},
   "outputs": [
    {
     "name": "stdout",
     "output_type": "stream",
     "text": [
      "(260, 7)\n"
     ]
    },
    {
     "data": {
      "text/html": [
       "<div>\n",
       "<style scoped>\n",
       "    .dataframe tbody tr th:only-of-type {\n",
       "        vertical-align: middle;\n",
       "    }\n",
       "\n",
       "    .dataframe tbody tr th {\n",
       "        vertical-align: top;\n",
       "    }\n",
       "\n",
       "    .dataframe thead th {\n",
       "        text-align: right;\n",
       "    }\n",
       "</style>\n",
       "<table border=\"1\" class=\"dataframe\">\n",
       "  <thead>\n",
       "    <tr style=\"text-align: right;\">\n",
       "      <th></th>\n",
       "      <th>t0</th>\n",
       "      <th>t1</th>\n",
       "      <th>K1</th>\n",
       "      <th>pi1</th>\n",
       "      <th>t2</th>\n",
       "      <th>K2</th>\n",
       "      <th>pi2</th>\n",
       "    </tr>\n",
       "  </thead>\n",
       "  <tbody>\n",
       "    <tr>\n",
       "      <th>0</th>\n",
       "      <td>2018-01-02</td>\n",
       "      <td>2018-01-19</td>\n",
       "      <td>100.0</td>\n",
       "      <td>23.936454</td>\n",
       "      <td>2018-04-20</td>\n",
       "      <td>80.0</td>\n",
       "      <td>49.401790</td>\n",
       "    </tr>\n",
       "    <tr>\n",
       "      <th>1</th>\n",
       "      <td>2018-01-02</td>\n",
       "      <td>2018-01-19</td>\n",
       "      <td>110.0</td>\n",
       "      <td>20.385049</td>\n",
       "      <td>2018-04-20</td>\n",
       "      <td>101.5</td>\n",
       "      <td>46.701200</td>\n",
       "    </tr>\n",
       "    <tr>\n",
       "      <th>2</th>\n",
       "      <td>2018-01-02</td>\n",
       "      <td>2018-01-19</td>\n",
       "      <td>115.0</td>\n",
       "      <td>18.609347</td>\n",
       "      <td>2018-04-20</td>\n",
       "      <td>102.5</td>\n",
       "      <td>46.575591</td>\n",
       "    </tr>\n",
       "    <tr>\n",
       "      <th>3</th>\n",
       "      <td>2018-01-02</td>\n",
       "      <td>2018-01-19</td>\n",
       "      <td>116.0</td>\n",
       "      <td>18.254206</td>\n",
       "      <td>2018-04-20</td>\n",
       "      <td>105.0</td>\n",
       "      <td>46.261569</td>\n",
       "    </tr>\n",
       "    <tr>\n",
       "      <th>4</th>\n",
       "      <td>2018-01-02</td>\n",
       "      <td>2018-01-19</td>\n",
       "      <td>117.0</td>\n",
       "      <td>17.899066</td>\n",
       "      <td>2018-04-20</td>\n",
       "      <td>108.0</td>\n",
       "      <td>45.884742</td>\n",
       "    </tr>\n",
       "  </tbody>\n",
       "</table>\n",
       "</div>"
      ],
      "text/plain": [
       "          t0         t1     K1        pi1         t2     K2        pi2\n",
       "0 2018-01-02 2018-01-19  100.0  23.936454 2018-04-20   80.0  49.401790\n",
       "1 2018-01-02 2018-01-19  110.0  20.385049 2018-04-20  101.5  46.701200\n",
       "2 2018-01-02 2018-01-19  115.0  18.609347 2018-04-20  102.5  46.575591\n",
       "3 2018-01-02 2018-01-19  116.0  18.254206 2018-04-20  105.0  46.261569\n",
       "4 2018-01-02 2018-01-19  117.0  17.899066 2018-04-20  108.0  45.884742"
      ]
     },
     "execution_count": 9,
     "metadata": {},
     "output_type": "execute_result"
    }
   ],
   "source": [
    "print(result.shape)\n",
    "result.head()"
   ]
  },
  {
   "cell_type": "code",
   "execution_count": 12,
   "id": "dd0582dd",
   "metadata": {},
   "outputs": [],
   "source": [
    "result.to_csv('data_20180119_20180420.csv', header=True)"
   ]
  },
  {
   "cell_type": "code",
   "execution_count": 10,
   "id": "dc67006d",
   "metadata": {},
   "outputs": [],
   "source": [
    "# K = [[np.array(result.loc[result.t0 == t0,'K1']),np.array(result.loc[result.t0==t0,'K2'])] for t0 in t0List]\n",
    "# Pi = [[np.array(result.loc[result.t0 == t0,'pi1']),np.array(result.loc[result.t0==t0,'pi2'])] for t0 in t0List]"
   ]
  }
 ],
 "metadata": {
  "kernelspec": {
   "display_name": "Python 3 (ipykernel)",
   "language": "python",
   "name": "python3"
  },
  "language_info": {
   "codemirror_mode": {
    "name": "ipython",
    "version": 3
   },
   "file_extension": ".py",
   "mimetype": "text/x-python",
   "name": "python",
   "nbconvert_exporter": "python",
   "pygments_lexer": "ipython3",
   "version": "3.10.11"
  }
 },
 "nbformat": 4,
 "nbformat_minor": 5
}
