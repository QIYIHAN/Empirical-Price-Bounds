{
 "cells": [
  {
   "cell_type": "code",
   "execution_count": 2,
   "id": "c4eb8433",
   "metadata": {},
   "outputs": [],
   "source": [
    "import pandas as pd\n",
    "import numpy as np\n",
    "import gurobipy as gp\n",
    "from gurobipy import GRB"
   ]
  },
  {
   "cell_type": "code",
   "execution_count": 3,
   "id": "237532c2",
   "metadata": {},
   "outputs": [],
   "source": [
    "df = pd.read_csv('data_20180119_20180420.csv',index_col=0)\n",
    "df_0102 = df[df['t0'] == '2018-01-02']\n",
    "C1 = df_0102.set_index('K1')['C1']\n",
    "C2 = df_0102.set_index('K1')['C2']"
   ]
  },
  {
   "cell_type": "markdown",
   "id": "e9fb55eb",
   "metadata": {},
   "source": [
    "### Grid for stock price\n",
    "current setting S_{T2}, S_{T1} from range [1100,1300] and 20\\*20 discretization"
   ]
  },
  {
   "cell_type": "code",
   "execution_count": 11,
   "id": "cef7d52b",
   "metadata": {},
   "outputs": [],
   "source": [
    "S_min = 1100\n",
    "S_max = 1300\n",
    "N_j = 20\n",
    "S = np.linspace(S_min, S_max, num=21)"
   ]
  },
  {
   "cell_type": "markdown",
   "id": "ebcd1f5d",
   "metadata": {},
   "source": [
    "### Optimization Variables\n",
    "variables to optimize: lambda_1, lambda_2, d, \\Delta_1, \\Delta_0"
   ]
  },
  {
   "cell_type": "code",
   "execution_count": 51,
   "id": "b5b8dec4",
   "metadata": {},
   "outputs": [],
   "source": [
    "m = gp.Model(\"Option Pricing\")\n",
    "lamb1 = m.addVars(df_0102['K1'],name=\"lamb1\")\n",
    "lamb2 = m.addVars(df_0102['K1'],name=\"lamb2\")\n",
    "d = m.addVars(['d'],name=\"d\")\n",
    "delta0 = m.addVars(['delta0'],name=\"delta0\")\n",
    "delta1 = m.addVars(S,name=\"delta1\")"
   ]
  },
  {
   "cell_type": "markdown",
   "id": "8b56da93",
   "metadata": {},
   "source": [
    "### Model Construction\n",
    "objective: min$d+\\sum_{i=1}^{N_1}\\lambda_{i,1}\\Pi_{i,1}+\\sum_{i=1}^{N_2}\\lambda_{i,2}\\Pi_{i,2}$\n",
    "\n",
    "constrains: for each grid point (S_i,S_j), we have\n",
    "\n",
    "$d+\\sum_{n=1}^{N_1}\\lambda_{n,1}(S_i-K_{n,1})^++\\sum_{n=1}^{N_2}\\lambda_{n,2}(S_j-K_{n,2})^++\\Delta_{0}\\cdot(S_i-S_0)+\\Delta_{1}^i\\cdot(S_j-S_i) >= \\Phi(S_i,S_j)$\n",
    "\n",
    "Current payoff $\\Phi(S_i,S_j) = S_j - S_i$"
   ]
  },
  {
   "cell_type": "code",
   "execution_count": 52,
   "id": "a410589f",
   "metadata": {},
   "outputs": [],
   "source": [
    "m.setObjective(d['d']+sum(lamb1[r]*C1[r]+lamb2[r]*C2[r] for r in df_0102['K1']))\n",
    "m.ModelSense = GRB.MINIMIZE"
   ]
  },
  {
   "cell_type": "code",
   "execution_count": 53,
   "id": "a8a7f72a",
   "metadata": {},
   "outputs": [],
   "source": [
    "def payoff(S1,S2):\n",
    "    return S2-S1\n",
    "S_0 = df_0102['Adj_S0'].unique()[0]\n",
    "for S_i in S:\n",
    "    for S_j in S:\n",
    "        m.addConstr(d['d']+sum(lamb1[r]*max(S_i-r,0)+lamb2[r]*max(S_j-r,0) for r in df_0102['K1'])+delta0['delta0']*(S_i-S_0)+delta1[S_i]*(S_j-S_i) >= payoff(S_i,S_j),'C_{}{}'.format(S_i,S_j))\n",
    "        m.update()"
   ]
  },
  {
   "cell_type": "code",
   "execution_count": 54,
   "id": "715003f8",
   "metadata": {},
   "outputs": [
    {
     "name": "stdout",
     "output_type": "stream",
     "text": [
      "Gurobi Optimizer version 11.0.1 build v11.0.1rc0 (win64 - Windows 11.0 (22000.2))\n",
      "\n",
      "CPU model: AMD Ryzen 7 5800H with Radeon Graphics, instruction set [SSE2|AVX|AVX2]\n",
      "Thread count: 8 physical cores, 16 logical processors, using up to 16 threads\n",
      "\n",
      "Optimize a model with 441 rows, 63 columns and 9912 nonzeros\n",
      "Model fingerprint: 0x697c7187\n",
      "Coefficient statistics:\n",
      "  Matrix range     [2e-13, 3e+02]\n",
      "  Objective range  [8e-01, 4e+02]\n",
      "  Bounds range     [0e+00, 0e+00]\n",
      "  RHS range        [1e+01, 2e+02]\n",
      "Warning: Model contains large matrix coefficient range\n",
      "         Consider reformulating model or setting NumericFocus parameter\n",
      "         to avoid numerical issues.\n",
      "Presolve removed 52 rows and 5 columns\n",
      "Presolve time: 0.01s\n",
      "Presolved: 389 rows, 58 columns, 8596 nonzeros\n",
      "\n",
      "Iteration    Objective       Primal Inf.    Dual Inf.      Time\n",
      "       0    0.0000000e+00   1.011250e+03   0.000000e+00      0s\n",
      "      19    0.0000000e+00   0.000000e+00   0.000000e+00      0s\n",
      "\n",
      "Solved in 19 iterations and 0.02 seconds (0.01 work units)\n",
      "Optimal objective  0.000000000e+00\n"
     ]
    }
   ],
   "source": [
    "m.optimize()"
   ]
  },
  {
   "cell_type": "code",
   "execution_count": null,
   "id": "e9952fd5",
   "metadata": {},
   "outputs": [],
   "source": []
  }
 ],
 "metadata": {
  "kernelspec": {
   "display_name": "tf310",
   "language": "python",
   "name": "tf310"
  },
  "language_info": {
   "codemirror_mode": {
    "name": "ipython",
    "version": 3
   },
   "file_extension": ".py",
   "mimetype": "text/x-python",
   "name": "python",
   "nbconvert_exporter": "python",
   "pygments_lexer": "ipython3",
   "version": "3.10.13"
  }
 },
 "nbformat": 4,
 "nbformat_minor": 5
}
